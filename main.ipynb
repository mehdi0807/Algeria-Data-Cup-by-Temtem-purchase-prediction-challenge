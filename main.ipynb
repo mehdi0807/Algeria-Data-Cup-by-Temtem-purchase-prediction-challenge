{
 "cells": [
  {
   "cell_type": "markdown",
   "id": "87e10155",
   "metadata": {
    "tags": []
   },
   "source": [
    "# Algeria Data Cup by Temtem purchase prediction challenge\n",
    "In this notebook, I am doing many tasks:\n",
    "- [1. Importing packages and data <a name='Importing data'></a>](#toc_1)\n",
    "- [2. Exploratory Data Analysis <a name='Exploratory Data Analysis'></a>](#toc_2)\n",
    "- [3. Feature Engineering <a name='Feature Engineering'></a>](#toc_3)\n",
    "- [4. Machine Learning <a name='Machine Learning'></a>](#toc_4)\n",
    "\n",
    "PS: You will find details about data files and columns in the <b>Read me</b> file"
   ]
  },
  {
   "cell_type": "markdown",
   "id": "0d16bb29-5e73-4986-88d1-e5cd83c392cf",
   "metadata": {
    "tags": []
   },
   "source": [
    "<a name=\"toc_1\"></a>\n",
    "## 1. Importing packages and data <a name='Importing data'></a>\n",
    "Packages used :<br>\n",
    "- Pandas\n",
    "- NumPy\n",
    "- Date Time\n",
    "- Matplotlib\n",
    "- Plotly\n",
    "- Scikit-learn"
   ]
  },
  {
   "cell_type": "code",
   "execution_count": 1,
   "id": "66e976c9",
   "metadata": {},
   "outputs": [
    {
     "data": {
      "text/plain": [
       "RandomState(MT19937) at 0x25D3DBC8240"
      ]
     },
     "execution_count": 1,
     "metadata": {},
     "output_type": "execute_result"
    }
   ],
   "source": [
    "import pandas as pd\n",
    "import numpy as np\n",
    "import datetime as dt\n",
    "import matplotlib.pyplot as plt\n",
    "import seaborn as sns\n",
    "import plotly\n",
    "import plotly.graph_objs as go\n",
    "import plotly.express as px\n",
    "\n",
    "from sklearn.linear_model import LogisticRegression\n",
    "from sklearn.preprocessing import StandardScaler\n",
    "from sklearn.neighbors import KNeighborsClassifier\n",
    "from sklearn.ensemble import RandomForestClassifier\n",
    "from lightgbm import LGBMClassifier\n",
    "from sklearn.model_selection import GridSearchCV\n",
    "from sklearn.model_selection import RandomizedSearchCV\n",
    "\n",
    "import warnings \n",
    "warnings.filterwarnings(\"ignore\")\n",
    "\n",
    "np.random.seed(42)\n",
    "np.random.RandomState(42)"
   ]
  },
  {
   "cell_type": "code",
   "execution_count": 2,
   "id": "b5b4109f",
   "metadata": {},
   "outputs": [],
   "source": [
    "train_set = pd.read_csv('Train.csv')\n",
    "test_set = pd.read_csv('Test.csv')"
   ]
  },
  {
   "cell_type": "markdown",
   "id": "7b226647",
   "metadata": {
    "tags": []
   },
   "source": [
    "<a name=\"toc_2\"></a>\n",
    "## 2. Exploratory Data Analysis <a name='Exploratory Data Analysis'></a>"
   ]
  },
  {
   "cell_type": "code",
   "execution_count": 3,
   "id": "b96005bb",
   "metadata": {},
   "outputs": [
    {
     "data": {
      "text/html": [
       "<div>\n",
       "<style scoped>\n",
       "    .dataframe tbody tr th:only-of-type {\n",
       "        vertical-align: middle;\n",
       "    }\n",
       "\n",
       "    .dataframe tbody tr th {\n",
       "        vertical-align: top;\n",
       "    }\n",
       "\n",
       "    .dataframe thead th {\n",
       "        text-align: right;\n",
       "    }\n",
       "</style>\n",
       "<table border=\"1\" class=\"dataframe\">\n",
       "  <thead>\n",
       "    <tr style=\"text-align: right;\">\n",
       "      <th></th>\n",
       "      <th>Order ID</th>\n",
       "      <th>Order Status</th>\n",
       "      <th>Category Name</th>\n",
       "      <th>Product Name</th>\n",
       "      <th>Quantity</th>\n",
       "      <th>Unit Price</th>\n",
       "      <th>Total Price</th>\n",
       "      <th>Sub Total</th>\n",
       "      <th>Delivery Charge</th>\n",
       "      <th>Payment Method</th>\n",
       "      <th>Customer ID</th>\n",
       "      <th>Merchant</th>\n",
       "      <th>Order Time</th>\n",
       "      <th>Customer Country</th>\n",
       "      <th>Purchase Again</th>\n",
       "    </tr>\n",
       "  </thead>\n",
       "  <tbody>\n",
       "    <tr>\n",
       "      <th>15275</th>\n",
       "      <td>7222180772</td>\n",
       "      <td>COMPLETED</td>\n",
       "      <td>NaN</td>\n",
       "      <td>Isabel Thon A L'Huile 400G</td>\n",
       "      <td>1</td>\n",
       "      <td>560</td>\n",
       "      <td>560</td>\n",
       "      <td>7622</td>\n",
       "      <td>200200</td>\n",
       "      <td>CARD_PAY</td>\n",
       "      <td>1.672763e+10</td>\n",
       "      <td>23255526</td>\n",
       "      <td>2021-02-07 20:47:08</td>\n",
       "      <td>Algeria</td>\n",
       "      <td>1</td>\n",
       "    </tr>\n",
       "    <tr>\n",
       "      <th>7985</th>\n",
       "      <td>3009727905</td>\n",
       "      <td>COMPLETED</td>\n",
       "      <td>NaN</td>\n",
       "      <td>Bimo Galettes</td>\n",
       "      <td>1</td>\n",
       "      <td>90</td>\n",
       "      <td>90</td>\n",
       "      <td>18834</td>\n",
       "      <td>200200</td>\n",
       "      <td>CARD_PAY</td>\n",
       "      <td>6.733766e+06</td>\n",
       "      <td>23255526</td>\n",
       "      <td>2021-01-18 19:59:45</td>\n",
       "      <td>Algeria</td>\n",
       "      <td>0</td>\n",
       "    </tr>\n",
       "    <tr>\n",
       "      <th>8085</th>\n",
       "      <td>2862843732</td>\n",
       "      <td>COMPLETED</td>\n",
       "      <td>NaN</td>\n",
       "      <td>Amor Benamor Spaghetti N7 500G</td>\n",
       "      <td>3</td>\n",
       "      <td>85</td>\n",
       "      <td>255</td>\n",
       "      <td>19273</td>\n",
       "      <td>200200</td>\n",
       "      <td>CARD_PAY</td>\n",
       "      <td>3.274221e+09</td>\n",
       "      <td>23255526</td>\n",
       "      <td>2021-01-18 23:09:12</td>\n",
       "      <td>Algeria</td>\n",
       "      <td>0</td>\n",
       "    </tr>\n",
       "    <tr>\n",
       "      <th>6323</th>\n",
       "      <td>3977429011</td>\n",
       "      <td>COMPLETED</td>\n",
       "      <td>NaN</td>\n",
       "      <td>LESIEUR mais doux 1/2</td>\n",
       "      <td>1</td>\n",
       "      <td>180</td>\n",
       "      <td>180</td>\n",
       "      <td>20811</td>\n",
       "      <td>200200</td>\n",
       "      <td>CASH_PAY</td>\n",
       "      <td>7.645986e+09</td>\n",
       "      <td>23255526</td>\n",
       "      <td>2021-01-15 18:25:19</td>\n",
       "      <td>Algeria</td>\n",
       "      <td>0</td>\n",
       "    </tr>\n",
       "    <tr>\n",
       "      <th>5155</th>\n",
       "      <td>1626504632</td>\n",
       "      <td>COMPLETED</td>\n",
       "      <td>HygiÃ¨ne feminine</td>\n",
       "      <td>AWANE Confort 3d longue</td>\n",
       "      <td>1</td>\n",
       "      <td>90</td>\n",
       "      <td>90</td>\n",
       "      <td>6410</td>\n",
       "      <td>200200</td>\n",
       "      <td>CARD_PAY</td>\n",
       "      <td>4.012795e+09</td>\n",
       "      <td>6158523</td>\n",
       "      <td>2021-01-14 16:51:44</td>\n",
       "      <td>Algeria</td>\n",
       "      <td>0</td>\n",
       "    </tr>\n",
       "  </tbody>\n",
       "</table>\n",
       "</div>"
      ],
      "text/plain": [
       "         Order ID Order Status      Category Name  \\\n",
       "15275  7222180772    COMPLETED                NaN   \n",
       "7985   3009727905    COMPLETED                NaN   \n",
       "8085   2862843732    COMPLETED                NaN   \n",
       "6323   3977429011    COMPLETED                NaN   \n",
       "5155   1626504632    COMPLETED  HygiÃ¨ne feminine   \n",
       "\n",
       "                         Product Name  Quantity Unit Price Total Price  \\\n",
       "15275      Isabel Thon A L'Huile 400G         1        560         560   \n",
       "7985                    Bimo Galettes         1         90          90   \n",
       "8085   Amor Benamor Spaghetti N7 500G         3         85         255   \n",
       "6323            LESIEUR mais doux 1/2         1        180         180   \n",
       "5155          AWANE Confort 3d longue         1         90          90   \n",
       "\n",
       "      Sub Total Delivery Charge Payment Method   Customer ID  Merchant  \\\n",
       "15275      7622          200200       CARD_PAY  1.672763e+10  23255526   \n",
       "7985      18834          200200       CARD_PAY  6.733766e+06  23255526   \n",
       "8085      19273          200200       CARD_PAY  3.274221e+09  23255526   \n",
       "6323      20811          200200       CASH_PAY  7.645986e+09  23255526   \n",
       "5155       6410          200200       CARD_PAY  4.012795e+09   6158523   \n",
       "\n",
       "                Order Time Customer Country  Purchase Again  \n",
       "15275  2021-02-07 20:47:08          Algeria               1  \n",
       "7985   2021-01-18 19:59:45          Algeria               0  \n",
       "8085   2021-01-18 23:09:12          Algeria               0  \n",
       "6323   2021-01-15 18:25:19          Algeria               0  \n",
       "5155   2021-01-14 16:51:44          Algeria               0  "
      ]
     },
     "execution_count": 3,
     "metadata": {},
     "output_type": "execute_result"
    }
   ],
   "source": [
    "train_set.sample(5)"
   ]
  },
  {
   "cell_type": "code",
   "execution_count": 4,
   "id": "7c89c832",
   "metadata": {},
   "outputs": [
    {
     "data": {
      "text/html": [
       "<div>\n",
       "<style scoped>\n",
       "    .dataframe tbody tr th:only-of-type {\n",
       "        vertical-align: middle;\n",
       "    }\n",
       "\n",
       "    .dataframe tbody tr th {\n",
       "        vertical-align: top;\n",
       "    }\n",
       "\n",
       "    .dataframe thead th {\n",
       "        text-align: right;\n",
       "    }\n",
       "</style>\n",
       "<table border=\"1\" class=\"dataframe\">\n",
       "  <thead>\n",
       "    <tr style=\"text-align: right;\">\n",
       "      <th></th>\n",
       "      <th>Order ID</th>\n",
       "      <th>Order Status</th>\n",
       "      <th>Category Name</th>\n",
       "      <th>Product Name</th>\n",
       "      <th>Quantity</th>\n",
       "      <th>Unit Price</th>\n",
       "      <th>Total Price</th>\n",
       "      <th>Sub Total</th>\n",
       "      <th>Delivery Charge</th>\n",
       "      <th>Payment Method</th>\n",
       "      <th>Customer ID</th>\n",
       "      <th>Merchant</th>\n",
       "      <th>Order Time</th>\n",
       "      <th>Customer Country</th>\n",
       "    </tr>\n",
       "  </thead>\n",
       "  <tbody>\n",
       "    <tr>\n",
       "      <th>4598</th>\n",
       "      <td>12740701270</td>\n",
       "      <td>COMPLETED</td>\n",
       "      <td>NaN</td>\n",
       "      <td>REGALO biscuit digestive foure noisette</td>\n",
       "      <td>2</td>\n",
       "      <td>60</td>\n",
       "      <td>120</td>\n",
       "      <td>3057</td>\n",
       "      <td>200200</td>\n",
       "      <td>CARD_PAY</td>\n",
       "      <td>7.809062e+06</td>\n",
       "      <td>23255526</td>\n",
       "      <td>2021-01-15 19:32:11</td>\n",
       "      <td>Algeria</td>\n",
       "    </tr>\n",
       "    <tr>\n",
       "      <th>258</th>\n",
       "      <td>8257393</td>\n",
       "      <td>REJECTED</td>\n",
       "      <td>Conserves</td>\n",
       "      <td>GOLDEN LAND mais doux 340g</td>\n",
       "      <td>2</td>\n",
       "      <td>150</td>\n",
       "      <td>300</td>\n",
       "      <td>7430</td>\n",
       "      <td>200200</td>\n",
       "      <td>CASH_PAY</td>\n",
       "      <td>5.447428e+06</td>\n",
       "      <td>6158523</td>\n",
       "      <td>2021-01-02 06:40:20</td>\n",
       "      <td>Algeria</td>\n",
       "    </tr>\n",
       "    <tr>\n",
       "      <th>4845</th>\n",
       "      <td>2489153516</td>\n",
       "      <td>COMPLETED</td>\n",
       "      <td>NaN</td>\n",
       "      <td>EXTRA couscous moyen 1kg</td>\n",
       "      <td>1</td>\n",
       "      <td>155</td>\n",
       "      <td>155</td>\n",
       "      <td>8297</td>\n",
       "      <td>200200</td>\n",
       "      <td>CASH_PAY</td>\n",
       "      <td>1.979111e+10</td>\n",
       "      <td>23255526</td>\n",
       "      <td>2021-01-16 00:05:49</td>\n",
       "      <td>Algeria</td>\n",
       "    </tr>\n",
       "    <tr>\n",
       "      <th>2169</th>\n",
       "      <td>1869380000000</td>\n",
       "      <td>REJECTED</td>\n",
       "      <td>Pates et riz</td>\n",
       "      <td>MAHBOUBA lasagne 500g</td>\n",
       "      <td>2</td>\n",
       "      <td>150</td>\n",
       "      <td>300</td>\n",
       "      <td>13727</td>\n",
       "      <td>200200</td>\n",
       "      <td>CASH_PAY</td>\n",
       "      <td>8.335292e+06</td>\n",
       "      <td>6158523</td>\n",
       "      <td>2021-01-08 20:34:33</td>\n",
       "      <td>Algeria</td>\n",
       "    </tr>\n",
       "    <tr>\n",
       "      <th>6477</th>\n",
       "      <td>2382583684</td>\n",
       "      <td>COMPLETED</td>\n",
       "      <td>NaN</td>\n",
       "      <td>VERTEX COMPAS + Kit de Mesure 4 Pieces Plastiq...</td>\n",
       "      <td>1</td>\n",
       "      <td>685</td>\n",
       "      <td>685</td>\n",
       "      <td>5935</td>\n",
       "      <td>290290</td>\n",
       "      <td>CARD_PAY</td>\n",
       "      <td>8.026946e+06</td>\n",
       "      <td>22566453</td>\n",
       "      <td>2021-01-20 10:36:43</td>\n",
       "      <td>Algeria</td>\n",
       "    </tr>\n",
       "  </tbody>\n",
       "</table>\n",
       "</div>"
      ],
      "text/plain": [
       "           Order ID Order Status Category Name  \\\n",
       "4598    12740701270    COMPLETED           NaN   \n",
       "258         8257393     REJECTED     Conserves   \n",
       "4845     2489153516    COMPLETED           NaN   \n",
       "2169  1869380000000     REJECTED  Pates et riz   \n",
       "6477     2382583684    COMPLETED           NaN   \n",
       "\n",
       "                                           Product Name  Quantity Unit Price  \\\n",
       "4598            REGALO biscuit digestive foure noisette         2         60   \n",
       "258                          GOLDEN LAND mais doux 340g         2        150   \n",
       "4845                           EXTRA couscous moyen 1kg         1        155   \n",
       "2169                              MAHBOUBA lasagne 500g         2        150   \n",
       "6477  VERTEX COMPAS + Kit de Mesure 4 Pieces Plastiq...         1        685   \n",
       "\n",
       "     Total Price Sub Total Delivery Charge Payment Method   Customer ID  \\\n",
       "4598         120      3057          200200       CARD_PAY  7.809062e+06   \n",
       "258          300      7430          200200       CASH_PAY  5.447428e+06   \n",
       "4845         155      8297          200200       CASH_PAY  1.979111e+10   \n",
       "2169         300     13727          200200       CASH_PAY  8.335292e+06   \n",
       "6477         685      5935          290290       CARD_PAY  8.026946e+06   \n",
       "\n",
       "      Merchant           Order Time Customer Country  \n",
       "4598  23255526  2021-01-15 19:32:11          Algeria  \n",
       "258    6158523  2021-01-02 06:40:20          Algeria  \n",
       "4845  23255526  2021-01-16 00:05:49          Algeria  \n",
       "2169   6158523  2021-01-08 20:34:33          Algeria  \n",
       "6477  22566453  2021-01-20 10:36:43          Algeria  "
      ]
     },
     "execution_count": 4,
     "metadata": {},
     "output_type": "execute_result"
    }
   ],
   "source": [
    "test_set.sample(5)"
   ]
  },
  {
   "cell_type": "markdown",
   "id": "f5b01567",
   "metadata": {},
   "source": [
    "<br>This is a function I use to summarize information about my sets :"
   ]
  },
  {
   "cell_type": "code",
   "execution_count": 5,
   "id": "6df665ed",
   "metadata": {},
   "outputs": [],
   "source": [
    "def summary(data) : \n",
    "    \"\"\" Take a pandas dataframe and create a summary about missing values \"\"\"\n",
    "    result = (pd.DataFrame(data.dtypes, columns=[\"Data Type\"]).reset_index().rename(columns={'index': 'Column'}))\n",
    "    result[\"Unique\"] = data.nunique().values\n",
    "    result[\"Null\"] = data.isna().sum().values\n",
    "    result[\"%null\"] = np.round(data.isna().sum().values / data.shape[0] * 100, decimals=2)\n",
    "    return result"
   ]
  },
  {
   "cell_type": "code",
   "execution_count": 6,
   "id": "3808a25c",
   "metadata": {},
   "outputs": [
    {
     "data": {
      "text/html": [
       "<div>\n",
       "<style scoped>\n",
       "    .dataframe tbody tr th:only-of-type {\n",
       "        vertical-align: middle;\n",
       "    }\n",
       "\n",
       "    .dataframe tbody tr th {\n",
       "        vertical-align: top;\n",
       "    }\n",
       "\n",
       "    .dataframe thead th {\n",
       "        text-align: right;\n",
       "    }\n",
       "</style>\n",
       "<table border=\"1\" class=\"dataframe\">\n",
       "  <thead>\n",
       "    <tr style=\"text-align: right;\">\n",
       "      <th></th>\n",
       "      <th>Column</th>\n",
       "      <th>Data Type</th>\n",
       "      <th>Unique</th>\n",
       "      <th>Null</th>\n",
       "      <th>%null</th>\n",
       "    </tr>\n",
       "  </thead>\n",
       "  <tbody>\n",
       "    <tr>\n",
       "      <th>0</th>\n",
       "      <td>Order ID</td>\n",
       "      <td>int64</td>\n",
       "      <td>2212</td>\n",
       "      <td>0</td>\n",
       "      <td>0.00</td>\n",
       "    </tr>\n",
       "    <tr>\n",
       "      <th>1</th>\n",
       "      <td>Order Status</td>\n",
       "      <td>object</td>\n",
       "      <td>6</td>\n",
       "      <td>0</td>\n",
       "      <td>0.00</td>\n",
       "    </tr>\n",
       "    <tr>\n",
       "      <th>2</th>\n",
       "      <td>Category Name</td>\n",
       "      <td>object</td>\n",
       "      <td>165</td>\n",
       "      <td>8668</td>\n",
       "      <td>48.80</td>\n",
       "    </tr>\n",
       "    <tr>\n",
       "      <th>3</th>\n",
       "      <td>Product Name</td>\n",
       "      <td>object</td>\n",
       "      <td>2917</td>\n",
       "      <td>0</td>\n",
       "      <td>0.00</td>\n",
       "    </tr>\n",
       "    <tr>\n",
       "      <th>4</th>\n",
       "      <td>Quantity</td>\n",
       "      <td>int64</td>\n",
       "      <td>34</td>\n",
       "      <td>0</td>\n",
       "      <td>0.00</td>\n",
       "    </tr>\n",
       "    <tr>\n",
       "      <th>5</th>\n",
       "      <td>Unit Price</td>\n",
       "      <td>object</td>\n",
       "      <td>459</td>\n",
       "      <td>0</td>\n",
       "      <td>0.00</td>\n",
       "    </tr>\n",
       "    <tr>\n",
       "      <th>6</th>\n",
       "      <td>Total Price</td>\n",
       "      <td>object</td>\n",
       "      <td>719</td>\n",
       "      <td>0</td>\n",
       "      <td>0.00</td>\n",
       "    </tr>\n",
       "    <tr>\n",
       "      <th>7</th>\n",
       "      <td>Sub Total</td>\n",
       "      <td>object</td>\n",
       "      <td>1108</td>\n",
       "      <td>516</td>\n",
       "      <td>2.91</td>\n",
       "    </tr>\n",
       "    <tr>\n",
       "      <th>8</th>\n",
       "      <td>Delivery Charge</td>\n",
       "      <td>object</td>\n",
       "      <td>78</td>\n",
       "      <td>30</td>\n",
       "      <td>0.17</td>\n",
       "    </tr>\n",
       "    <tr>\n",
       "      <th>9</th>\n",
       "      <td>Payment Method</td>\n",
       "      <td>object</td>\n",
       "      <td>4</td>\n",
       "      <td>435</td>\n",
       "      <td>2.45</td>\n",
       "    </tr>\n",
       "    <tr>\n",
       "      <th>10</th>\n",
       "      <td>Customer ID</td>\n",
       "      <td>float64</td>\n",
       "      <td>999</td>\n",
       "      <td>498</td>\n",
       "      <td>2.80</td>\n",
       "    </tr>\n",
       "    <tr>\n",
       "      <th>11</th>\n",
       "      <td>Merchant</td>\n",
       "      <td>int64</td>\n",
       "      <td>55</td>\n",
       "      <td>0</td>\n",
       "      <td>0.00</td>\n",
       "    </tr>\n",
       "    <tr>\n",
       "      <th>12</th>\n",
       "      <td>Order Time</td>\n",
       "      <td>object</td>\n",
       "      <td>2208</td>\n",
       "      <td>0</td>\n",
       "      <td>0.00</td>\n",
       "    </tr>\n",
       "    <tr>\n",
       "      <th>13</th>\n",
       "      <td>Customer Country</td>\n",
       "      <td>object</td>\n",
       "      <td>6</td>\n",
       "      <td>47</td>\n",
       "      <td>0.26</td>\n",
       "    </tr>\n",
       "    <tr>\n",
       "      <th>14</th>\n",
       "      <td>Purchase Again</td>\n",
       "      <td>int64</td>\n",
       "      <td>2</td>\n",
       "      <td>0</td>\n",
       "      <td>0.00</td>\n",
       "    </tr>\n",
       "  </tbody>\n",
       "</table>\n",
       "</div>"
      ],
      "text/plain": [
       "              Column Data Type  Unique  Null  %null\n",
       "0           Order ID     int64    2212     0   0.00\n",
       "1       Order Status    object       6     0   0.00\n",
       "2      Category Name    object     165  8668  48.80\n",
       "3       Product Name    object    2917     0   0.00\n",
       "4           Quantity     int64      34     0   0.00\n",
       "5         Unit Price    object     459     0   0.00\n",
       "6        Total Price    object     719     0   0.00\n",
       "7          Sub Total    object    1108   516   2.91\n",
       "8    Delivery Charge    object      78    30   0.17\n",
       "9     Payment Method    object       4   435   2.45\n",
       "10       Customer ID   float64     999   498   2.80\n",
       "11          Merchant     int64      55     0   0.00\n",
       "12        Order Time    object    2208     0   0.00\n",
       "13  Customer Country    object       6    47   0.26\n",
       "14    Purchase Again     int64       2     0   0.00"
      ]
     },
     "execution_count": 6,
     "metadata": {},
     "output_type": "execute_result"
    }
   ],
   "source": [
    "summary(train_set)"
   ]
  },
  {
   "cell_type": "code",
   "execution_count": 7,
   "id": "342fab8e",
   "metadata": {},
   "outputs": [
    {
     "data": {
      "text/html": [
       "<div>\n",
       "<style scoped>\n",
       "    .dataframe tbody tr th:only-of-type {\n",
       "        vertical-align: middle;\n",
       "    }\n",
       "\n",
       "    .dataframe tbody tr th {\n",
       "        vertical-align: top;\n",
       "    }\n",
       "\n",
       "    .dataframe thead th {\n",
       "        text-align: right;\n",
       "    }\n",
       "</style>\n",
       "<table border=\"1\" class=\"dataframe\">\n",
       "  <thead>\n",
       "    <tr style=\"text-align: right;\">\n",
       "      <th></th>\n",
       "      <th>Column</th>\n",
       "      <th>Data Type</th>\n",
       "      <th>Unique</th>\n",
       "      <th>Null</th>\n",
       "      <th>%null</th>\n",
       "    </tr>\n",
       "  </thead>\n",
       "  <tbody>\n",
       "    <tr>\n",
       "      <th>0</th>\n",
       "      <td>Order ID</td>\n",
       "      <td>int64</td>\n",
       "      <td>1442</td>\n",
       "      <td>0</td>\n",
       "      <td>0.00</td>\n",
       "    </tr>\n",
       "    <tr>\n",
       "      <th>1</th>\n",
       "      <td>Order Status</td>\n",
       "      <td>object</td>\n",
       "      <td>6</td>\n",
       "      <td>0</td>\n",
       "      <td>0.00</td>\n",
       "    </tr>\n",
       "    <tr>\n",
       "      <th>2</th>\n",
       "      <td>Category Name</td>\n",
       "      <td>object</td>\n",
       "      <td>145</td>\n",
       "      <td>6014</td>\n",
       "      <td>50.06</td>\n",
       "    </tr>\n",
       "    <tr>\n",
       "      <th>3</th>\n",
       "      <td>Product Name</td>\n",
       "      <td>object</td>\n",
       "      <td>2494</td>\n",
       "      <td>0</td>\n",
       "      <td>0.00</td>\n",
       "    </tr>\n",
       "    <tr>\n",
       "      <th>4</th>\n",
       "      <td>Quantity</td>\n",
       "      <td>int64</td>\n",
       "      <td>34</td>\n",
       "      <td>0</td>\n",
       "      <td>0.00</td>\n",
       "    </tr>\n",
       "    <tr>\n",
       "      <th>5</th>\n",
       "      <td>Unit Price</td>\n",
       "      <td>object</td>\n",
       "      <td>415</td>\n",
       "      <td>0</td>\n",
       "      <td>0.00</td>\n",
       "    </tr>\n",
       "    <tr>\n",
       "      <th>6</th>\n",
       "      <td>Total Price</td>\n",
       "      <td>object</td>\n",
       "      <td>624</td>\n",
       "      <td>0</td>\n",
       "      <td>0.00</td>\n",
       "    </tr>\n",
       "    <tr>\n",
       "      <th>7</th>\n",
       "      <td>Sub Total</td>\n",
       "      <td>object</td>\n",
       "      <td>837</td>\n",
       "      <td>148</td>\n",
       "      <td>1.23</td>\n",
       "    </tr>\n",
       "    <tr>\n",
       "      <th>8</th>\n",
       "      <td>Delivery Charge</td>\n",
       "      <td>object</td>\n",
       "      <td>67</td>\n",
       "      <td>1</td>\n",
       "      <td>0.01</td>\n",
       "    </tr>\n",
       "    <tr>\n",
       "      <th>9</th>\n",
       "      <td>Payment Method</td>\n",
       "      <td>object</td>\n",
       "      <td>3</td>\n",
       "      <td>101</td>\n",
       "      <td>0.84</td>\n",
       "    </tr>\n",
       "    <tr>\n",
       "      <th>10</th>\n",
       "      <td>Customer ID</td>\n",
       "      <td>float64</td>\n",
       "      <td>767</td>\n",
       "      <td>0</td>\n",
       "      <td>0.00</td>\n",
       "    </tr>\n",
       "    <tr>\n",
       "      <th>11</th>\n",
       "      <td>Merchant</td>\n",
       "      <td>int64</td>\n",
       "      <td>50</td>\n",
       "      <td>0</td>\n",
       "      <td>0.00</td>\n",
       "    </tr>\n",
       "    <tr>\n",
       "      <th>12</th>\n",
       "      <td>Order Time</td>\n",
       "      <td>object</td>\n",
       "      <td>1441</td>\n",
       "      <td>0</td>\n",
       "      <td>0.00</td>\n",
       "    </tr>\n",
       "    <tr>\n",
       "      <th>13</th>\n",
       "      <td>Customer Country</td>\n",
       "      <td>object</td>\n",
       "      <td>8</td>\n",
       "      <td>32</td>\n",
       "      <td>0.27</td>\n",
       "    </tr>\n",
       "  </tbody>\n",
       "</table>\n",
       "</div>"
      ],
      "text/plain": [
       "              Column Data Type  Unique  Null  %null\n",
       "0           Order ID     int64    1442     0   0.00\n",
       "1       Order Status    object       6     0   0.00\n",
       "2      Category Name    object     145  6014  50.06\n",
       "3       Product Name    object    2494     0   0.00\n",
       "4           Quantity     int64      34     0   0.00\n",
       "5         Unit Price    object     415     0   0.00\n",
       "6        Total Price    object     624     0   0.00\n",
       "7          Sub Total    object     837   148   1.23\n",
       "8    Delivery Charge    object      67     1   0.01\n",
       "9     Payment Method    object       3   101   0.84\n",
       "10       Customer ID   float64     767     0   0.00\n",
       "11          Merchant     int64      50     0   0.00\n",
       "12        Order Time    object    1441     0   0.00\n",
       "13  Customer Country    object       8    32   0.27"
      ]
     },
     "execution_count": 7,
     "metadata": {},
     "output_type": "execute_result"
    }
   ],
   "source": [
    "summary(test_set)"
   ]
  },
  {
   "cell_type": "markdown",
   "id": "6b660462",
   "metadata": {},
   "source": [
    "#### Observations :\n",
    "- The two sets have the same columns => We concatenate them. \n",
    "- We have to group by Customer because he is the topic of our challenge. \n",
    "- `Category Name` column has too many missing values in bouth sets."
   ]
  },
  {
   "cell_type": "code",
   "execution_count": 8,
   "id": "10eb9483",
   "metadata": {},
   "outputs": [
    {
     "data": {
      "text/html": [
       "<div>\n",
       "<style scoped>\n",
       "    .dataframe tbody tr th:only-of-type {\n",
       "        vertical-align: middle;\n",
       "    }\n",
       "\n",
       "    .dataframe tbody tr th {\n",
       "        vertical-align: top;\n",
       "    }\n",
       "\n",
       "    .dataframe thead th {\n",
       "        text-align: right;\n",
       "    }\n",
       "</style>\n",
       "<table border=\"1\" class=\"dataframe\">\n",
       "  <thead>\n",
       "    <tr style=\"text-align: right;\">\n",
       "      <th></th>\n",
       "      <th>Order ID</th>\n",
       "      <th>Order Status</th>\n",
       "      <th>Category Name</th>\n",
       "      <th>Product Name</th>\n",
       "      <th>Quantity</th>\n",
       "      <th>Unit Price</th>\n",
       "      <th>Total Price</th>\n",
       "      <th>Sub Total</th>\n",
       "      <th>Delivery Charge</th>\n",
       "      <th>Payment Method</th>\n",
       "      <th>Customer ID</th>\n",
       "      <th>Merchant</th>\n",
       "      <th>Order Time</th>\n",
       "      <th>Customer Country</th>\n",
       "    </tr>\n",
       "  </thead>\n",
       "  <tbody>\n",
       "    <tr>\n",
       "      <th>17761</th>\n",
       "      <td>8236741</td>\n",
       "      <td>COMPLETED</td>\n",
       "      <td>Chocolat</td>\n",
       "      <td>NUTELLA 750g</td>\n",
       "      <td>2</td>\n",
       "      <td>1390</td>\n",
       "      <td>2780</td>\n",
       "      <td>4740</td>\n",
       "      <td>550550</td>\n",
       "      <td>CARD_PAY</td>\n",
       "      <td>8392444.0</td>\n",
       "      <td>7225386</td>\n",
       "      <td>2021-01-01 00:40:42</td>\n",
       "      <td>Algeria</td>\n",
       "    </tr>\n",
       "    <tr>\n",
       "      <th>17762</th>\n",
       "      <td>8236741</td>\n",
       "      <td>COMPLETED</td>\n",
       "      <td>Chocolat</td>\n",
       "      <td>MILKA chocolat extra cacao 100g</td>\n",
       "      <td>1</td>\n",
       "      <td>210</td>\n",
       "      <td>210</td>\n",
       "      <td>4740</td>\n",
       "      <td>550550</td>\n",
       "      <td>CARD_PAY</td>\n",
       "      <td>8392444.0</td>\n",
       "      <td>7225386</td>\n",
       "      <td>2021-01-01 00:40:42</td>\n",
       "      <td>Algeria</td>\n",
       "    </tr>\n",
       "    <tr>\n",
       "      <th>17763</th>\n",
       "      <td>8236741</td>\n",
       "      <td>COMPLETED</td>\n",
       "      <td>Chocolat</td>\n",
       "      <td>MILKA strawberry 100g</td>\n",
       "      <td>1</td>\n",
       "      <td>210</td>\n",
       "      <td>210</td>\n",
       "      <td>4740</td>\n",
       "      <td>550550</td>\n",
       "      <td>CARD_PAY</td>\n",
       "      <td>8392444.0</td>\n",
       "      <td>7225386</td>\n",
       "      <td>2021-01-01 00:40:42</td>\n",
       "      <td>Algeria</td>\n",
       "    </tr>\n",
       "    <tr>\n",
       "      <th>17764</th>\n",
       "      <td>8236741</td>\n",
       "      <td>COMPLETED</td>\n",
       "      <td>Chocolat</td>\n",
       "      <td>LINDT les grandes noisette</td>\n",
       "      <td>1</td>\n",
       "      <td>900</td>\n",
       "      <td>900</td>\n",
       "      <td>4740</td>\n",
       "      <td>550550</td>\n",
       "      <td>CARD_PAY</td>\n",
       "      <td>8392444.0</td>\n",
       "      <td>7225386</td>\n",
       "      <td>2021-01-01 00:40:42</td>\n",
       "      <td>Algeria</td>\n",
       "    </tr>\n",
       "    <tr>\n",
       "      <th>17765</th>\n",
       "      <td>8236741</td>\n",
       "      <td>COMPLETED</td>\n",
       "      <td>Boisson</td>\n",
       "      <td>IFRI eau minerale 1.5l x 6</td>\n",
       "      <td>2</td>\n",
       "      <td>170</td>\n",
       "      <td>340</td>\n",
       "      <td>4740</td>\n",
       "      <td>550550</td>\n",
       "      <td>CARD_PAY</td>\n",
       "      <td>8392444.0</td>\n",
       "      <td>7225386</td>\n",
       "      <td>2021-01-01 00:40:42</td>\n",
       "      <td>Algeria</td>\n",
       "    </tr>\n",
       "  </tbody>\n",
       "</table>\n",
       "</div>"
      ],
      "text/plain": [
       "       Order ID Order Status Category Name                     Product Name  \\\n",
       "17761   8236741    COMPLETED      Chocolat                     NUTELLA 750g   \n",
       "17762   8236741    COMPLETED      Chocolat  MILKA chocolat extra cacao 100g   \n",
       "17763   8236741    COMPLETED      Chocolat            MILKA strawberry 100g   \n",
       "17764   8236741    COMPLETED      Chocolat       LINDT les grandes noisette   \n",
       "17765   8236741    COMPLETED       Boisson       IFRI eau minerale 1.5l x 6   \n",
       "\n",
       "       Quantity Unit Price Total Price Sub Total Delivery Charge  \\\n",
       "17761         2       1390        2780      4740          550550   \n",
       "17762         1        210         210      4740          550550   \n",
       "17763         1        210         210      4740          550550   \n",
       "17764         1        900         900      4740          550550   \n",
       "17765         2        170         340      4740          550550   \n",
       "\n",
       "      Payment Method  Customer ID  Merchant           Order Time  \\\n",
       "17761       CARD_PAY    8392444.0   7225386  2021-01-01 00:40:42   \n",
       "17762       CARD_PAY    8392444.0   7225386  2021-01-01 00:40:42   \n",
       "17763       CARD_PAY    8392444.0   7225386  2021-01-01 00:40:42   \n",
       "17764       CARD_PAY    8392444.0   7225386  2021-01-01 00:40:42   \n",
       "17765       CARD_PAY    8392444.0   7225386  2021-01-01 00:40:42   \n",
       "\n",
       "      Customer Country  \n",
       "17761          Algeria  \n",
       "17762          Algeria  \n",
       "17763          Algeria  \n",
       "17764          Algeria  \n",
       "17765          Algeria  "
      ]
     },
     "execution_count": 8,
     "metadata": {},
     "output_type": "execute_result"
    }
   ],
   "source": [
    "test_set.index = test_set.index + train_set.shape[0]\n",
    "test_set.head()"
   ]
  },
  {
   "cell_type": "code",
   "execution_count": 9,
   "id": "1d916687",
   "metadata": {},
   "outputs": [
    {
     "data": {
      "text/html": [
       "<div>\n",
       "<style scoped>\n",
       "    .dataframe tbody tr th:only-of-type {\n",
       "        vertical-align: middle;\n",
       "    }\n",
       "\n",
       "    .dataframe tbody tr th {\n",
       "        vertical-align: top;\n",
       "    }\n",
       "\n",
       "    .dataframe thead th {\n",
       "        text-align: right;\n",
       "    }\n",
       "</style>\n",
       "<table border=\"1\" class=\"dataframe\">\n",
       "  <thead>\n",
       "    <tr style=\"text-align: right;\">\n",
       "      <th></th>\n",
       "      <th>Order ID</th>\n",
       "      <th>Order Status</th>\n",
       "      <th>Category Name</th>\n",
       "      <th>Product Name</th>\n",
       "      <th>Quantity</th>\n",
       "      <th>Unit Price</th>\n",
       "      <th>Total Price</th>\n",
       "      <th>Sub Total</th>\n",
       "      <th>Delivery Charge</th>\n",
       "      <th>Payment Method</th>\n",
       "      <th>Customer ID</th>\n",
       "      <th>Merchant</th>\n",
       "      <th>Order Time</th>\n",
       "      <th>Customer Country</th>\n",
       "    </tr>\n",
       "  </thead>\n",
       "  <tbody>\n",
       "    <tr>\n",
       "      <th>0</th>\n",
       "      <td>8236617</td>\n",
       "      <td>DEFAULT</td>\n",
       "      <td>Promotions</td>\n",
       "      <td>03 fardeaux Ifri + 1 offert</td>\n",
       "      <td>30</td>\n",
       "      <td>480</td>\n",
       "      <td>14400</td>\n",
       "      <td>43650</td>\n",
       "      <td>200200</td>\n",
       "      <td>CASH_PAY</td>\n",
       "      <td>8392354.0</td>\n",
       "      <td>6158523</td>\n",
       "      <td>2021-01-01 00:26:48</td>\n",
       "      <td>Algeria</td>\n",
       "    </tr>\n",
       "    <tr>\n",
       "      <th>1</th>\n",
       "      <td>8236617</td>\n",
       "      <td>DEFAULT</td>\n",
       "      <td>Promotions</td>\n",
       "      <td>3 fardeaux coca achetes = 1 fardeau offert</td>\n",
       "      <td>15</td>\n",
       "      <td>1800</td>\n",
       "      <td>27000</td>\n",
       "      <td>43650</td>\n",
       "      <td>200200</td>\n",
       "      <td>CASH_PAY</td>\n",
       "      <td>8392354.0</td>\n",
       "      <td>6158523</td>\n",
       "      <td>2021-01-01 00:26:48</td>\n",
       "      <td>Algeria</td>\n",
       "    </tr>\n",
       "    <tr>\n",
       "      <th>2</th>\n",
       "      <td>8236617</td>\n",
       "      <td>DEFAULT</td>\n",
       "      <td>Promotions</td>\n",
       "      <td>Snickers mini cube 200g</td>\n",
       "      <td>5</td>\n",
       "      <td>450</td>\n",
       "      <td>2250</td>\n",
       "      <td>43650</td>\n",
       "      <td>200200</td>\n",
       "      <td>CASH_PAY</td>\n",
       "      <td>8392354.0</td>\n",
       "      <td>6158523</td>\n",
       "      <td>2021-01-01 00:26:48</td>\n",
       "      <td>Algeria</td>\n",
       "    </tr>\n",
       "    <tr>\n",
       "      <th>3</th>\n",
       "      <td>8236624</td>\n",
       "      <td>COMPLETED</td>\n",
       "      <td>Paves</td>\n",
       "      <td>Pave chocolat</td>\n",
       "      <td>3</td>\n",
       "      <td>100</td>\n",
       "      <td>300</td>\n",
       "      <td>1460</td>\n",
       "      <td>700700</td>\n",
       "      <td>CARD_PAY</td>\n",
       "      <td>6359544.0</td>\n",
       "      <td>17654385</td>\n",
       "      <td>2021-01-01 00:27:29</td>\n",
       "      <td>Algeria</td>\n",
       "    </tr>\n",
       "    <tr>\n",
       "      <th>4</th>\n",
       "      <td>8236624</td>\n",
       "      <td>COMPLETED</td>\n",
       "      <td>Tartes</td>\n",
       "      <td>Tarte citron</td>\n",
       "      <td>3</td>\n",
       "      <td>100</td>\n",
       "      <td>300</td>\n",
       "      <td>1460</td>\n",
       "      <td>700700</td>\n",
       "      <td>CARD_PAY</td>\n",
       "      <td>6359544.0</td>\n",
       "      <td>17654385</td>\n",
       "      <td>2021-01-01 00:27:29</td>\n",
       "      <td>Algeria</td>\n",
       "    </tr>\n",
       "  </tbody>\n",
       "</table>\n",
       "</div>"
      ],
      "text/plain": [
       "   Order ID Order Status Category Name  \\\n",
       "0   8236617      DEFAULT    Promotions   \n",
       "1   8236617      DEFAULT    Promotions   \n",
       "2   8236617      DEFAULT    Promotions   \n",
       "3   8236624    COMPLETED         Paves   \n",
       "4   8236624    COMPLETED        Tartes   \n",
       "\n",
       "                                 Product Name  Quantity Unit Price  \\\n",
       "0                 03 fardeaux Ifri + 1 offert        30        480   \n",
       "1  3 fardeaux coca achetes = 1 fardeau offert        15       1800   \n",
       "2                     Snickers mini cube 200g         5        450   \n",
       "3                               Pave chocolat         3        100   \n",
       "4                                Tarte citron         3        100   \n",
       "\n",
       "  Total Price Sub Total Delivery Charge Payment Method  Customer ID  Merchant  \\\n",
       "0       14400     43650          200200       CASH_PAY    8392354.0   6158523   \n",
       "1       27000     43650          200200       CASH_PAY    8392354.0   6158523   \n",
       "2        2250     43650          200200       CASH_PAY    8392354.0   6158523   \n",
       "3         300      1460          700700       CARD_PAY    6359544.0  17654385   \n",
       "4         300      1460          700700       CARD_PAY    6359544.0  17654385   \n",
       "\n",
       "            Order Time Customer Country  \n",
       "0  2021-01-01 00:26:48          Algeria  \n",
       "1  2021-01-01 00:26:48          Algeria  \n",
       "2  2021-01-01 00:26:48          Algeria  \n",
       "3  2021-01-01 00:27:29          Algeria  \n",
       "4  2021-01-01 00:27:29          Algeria  "
      ]
     },
     "execution_count": 9,
     "metadata": {},
     "output_type": "execute_result"
    }
   ],
   "source": [
    "all_data = pd.concat([train_set.drop(labels=\"Purchase Again\", axis=1), test_set])\n",
    "all_data.head()"
   ]
  },
  {
   "cell_type": "code",
   "execution_count": 10,
   "id": "576a92e4",
   "metadata": {},
   "outputs": [
    {
     "data": {
      "text/html": [
       "<div>\n",
       "<style scoped>\n",
       "    .dataframe tbody tr th:only-of-type {\n",
       "        vertical-align: middle;\n",
       "    }\n",
       "\n",
       "    .dataframe tbody tr th {\n",
       "        vertical-align: top;\n",
       "    }\n",
       "\n",
       "    .dataframe thead th {\n",
       "        text-align: right;\n",
       "    }\n",
       "</style>\n",
       "<table border=\"1\" class=\"dataframe\">\n",
       "  <thead>\n",
       "    <tr style=\"text-align: right;\">\n",
       "      <th></th>\n",
       "      <th>Column</th>\n",
       "      <th>Data Type</th>\n",
       "      <th>Unique</th>\n",
       "      <th>Null</th>\n",
       "      <th>%null</th>\n",
       "    </tr>\n",
       "  </thead>\n",
       "  <tbody>\n",
       "    <tr>\n",
       "      <th>0</th>\n",
       "      <td>Order ID</td>\n",
       "      <td>int64</td>\n",
       "      <td>3654</td>\n",
       "      <td>0</td>\n",
       "      <td>0.00</td>\n",
       "    </tr>\n",
       "    <tr>\n",
       "      <th>1</th>\n",
       "      <td>Order Status</td>\n",
       "      <td>object</td>\n",
       "      <td>6</td>\n",
       "      <td>0</td>\n",
       "      <td>0.00</td>\n",
       "    </tr>\n",
       "    <tr>\n",
       "      <th>2</th>\n",
       "      <td>Category Name</td>\n",
       "      <td>object</td>\n",
       "      <td>191</td>\n",
       "      <td>14682</td>\n",
       "      <td>49.31</td>\n",
       "    </tr>\n",
       "    <tr>\n",
       "      <th>3</th>\n",
       "      <td>Product Name</td>\n",
       "      <td>object</td>\n",
       "      <td>3461</td>\n",
       "      <td>0</td>\n",
       "      <td>0.00</td>\n",
       "    </tr>\n",
       "    <tr>\n",
       "      <th>4</th>\n",
       "      <td>Quantity</td>\n",
       "      <td>int64</td>\n",
       "      <td>44</td>\n",
       "      <td>0</td>\n",
       "      <td>0.00</td>\n",
       "    </tr>\n",
       "    <tr>\n",
       "      <th>5</th>\n",
       "      <td>Unit Price</td>\n",
       "      <td>object</td>\n",
       "      <td>527</td>\n",
       "      <td>0</td>\n",
       "      <td>0.00</td>\n",
       "    </tr>\n",
       "    <tr>\n",
       "      <th>6</th>\n",
       "      <td>Total Price</td>\n",
       "      <td>object</td>\n",
       "      <td>849</td>\n",
       "      <td>0</td>\n",
       "      <td>0.00</td>\n",
       "    </tr>\n",
       "    <tr>\n",
       "      <th>7</th>\n",
       "      <td>Sub Total</td>\n",
       "      <td>object</td>\n",
       "      <td>1703</td>\n",
       "      <td>664</td>\n",
       "      <td>2.23</td>\n",
       "    </tr>\n",
       "    <tr>\n",
       "      <th>8</th>\n",
       "      <td>Delivery Charge</td>\n",
       "      <td>object</td>\n",
       "      <td>83</td>\n",
       "      <td>31</td>\n",
       "      <td>0.10</td>\n",
       "    </tr>\n",
       "    <tr>\n",
       "      <th>9</th>\n",
       "      <td>Payment Method</td>\n",
       "      <td>object</td>\n",
       "      <td>4</td>\n",
       "      <td>536</td>\n",
       "      <td>1.80</td>\n",
       "    </tr>\n",
       "    <tr>\n",
       "      <th>10</th>\n",
       "      <td>Customer ID</td>\n",
       "      <td>float64</td>\n",
       "      <td>1766</td>\n",
       "      <td>498</td>\n",
       "      <td>1.67</td>\n",
       "    </tr>\n",
       "    <tr>\n",
       "      <th>11</th>\n",
       "      <td>Merchant</td>\n",
       "      <td>int64</td>\n",
       "      <td>58</td>\n",
       "      <td>0</td>\n",
       "      <td>0.00</td>\n",
       "    </tr>\n",
       "    <tr>\n",
       "      <th>12</th>\n",
       "      <td>Order Time</td>\n",
       "      <td>object</td>\n",
       "      <td>3648</td>\n",
       "      <td>0</td>\n",
       "      <td>0.00</td>\n",
       "    </tr>\n",
       "    <tr>\n",
       "      <th>13</th>\n",
       "      <td>Customer Country</td>\n",
       "      <td>object</td>\n",
       "      <td>9</td>\n",
       "      <td>79</td>\n",
       "      <td>0.27</td>\n",
       "    </tr>\n",
       "  </tbody>\n",
       "</table>\n",
       "</div>"
      ],
      "text/plain": [
       "              Column Data Type  Unique   Null  %null\n",
       "0           Order ID     int64    3654      0   0.00\n",
       "1       Order Status    object       6      0   0.00\n",
       "2      Category Name    object     191  14682  49.31\n",
       "3       Product Name    object    3461      0   0.00\n",
       "4           Quantity     int64      44      0   0.00\n",
       "5         Unit Price    object     527      0   0.00\n",
       "6        Total Price    object     849      0   0.00\n",
       "7          Sub Total    object    1703    664   2.23\n",
       "8    Delivery Charge    object      83     31   0.10\n",
       "9     Payment Method    object       4    536   1.80\n",
       "10       Customer ID   float64    1766    498   1.67\n",
       "11          Merchant     int64      58      0   0.00\n",
       "12        Order Time    object    3648      0   0.00\n",
       "13  Customer Country    object       9     79   0.27"
      ]
     },
     "execution_count": 10,
     "metadata": {},
     "output_type": "execute_result"
    }
   ],
   "source": [
    "summary(all_data)"
   ]
  },
  {
   "cell_type": "markdown",
   "id": "c7091b37",
   "metadata": {
    "tags": []
   },
   "source": [
    "### `Customer ID` column \n",
    "I don’t need data of unknown customers.<br>\n",
    "But an `Order ID` has always a single `Customer ID`.<br>"
   ]
  },
  {
   "cell_type": "code",
   "execution_count": 11,
   "id": "3fb60392",
   "metadata": {},
   "outputs": [
    {
     "data": {
      "text/plain": [
       "498"
      ]
     },
     "execution_count": 11,
     "metadata": {},
     "output_type": "execute_result"
    }
   ],
   "source": [
    "orders = all_data[all_data[\"Customer ID\"].isna()][\"Order ID\"].unique()\n",
    "indexes = all_data[all_data[\"Customer ID\"].isna()].index\n",
    "for index in indexes :\n",
    "    order = all_data.loc[index, \"Order ID\"]\n",
    "    a = all_data[all_data[\"Order ID\"]==order][\"Customer ID\"].mode().values\n",
    "    if len(a) != 0 & order in orders :\n",
    "        all_data.loc[index, \"Customer ID\"] = a\n",
    "all_data[\"Customer ID\"].isna().sum()"
   ]
  },
  {
   "cell_type": "markdown",
   "id": "a6d0380a",
   "metadata": {},
   "source": [
    "Oops It didnt work.<br>\n",
    "Now, I have to delete missing values in the `Customer ID` column."
   ]
  },
  {
   "cell_type": "code",
   "execution_count": 12,
   "id": "cd3fd0ad",
   "metadata": {},
   "outputs": [],
   "source": [
    "all_data = all_data.drop(labels=all_data[all_data[\"Customer ID\"].isna()].index, axis=0)"
   ]
  },
  {
   "cell_type": "markdown",
   "id": "750e7f9d",
   "metadata": {
    "tags": []
   },
   "source": [
    "### `Category Name` column \n",
    "There is too much missing values.<br>\n",
    "I decided to <b>drop</b> it !<br>"
   ]
  },
  {
   "cell_type": "code",
   "execution_count": 13,
   "id": "3f79ca6e",
   "metadata": {},
   "outputs": [],
   "source": [
    "all_data = all_data.drop(labels=\"Category Name\", axis=1)"
   ]
  },
  {
   "cell_type": "markdown",
   "id": "d9e9b5f2",
   "metadata": {},
   "source": [
    "### `Order Status` column\n",
    "I should make it categorical."
   ]
  },
  {
   "cell_type": "code",
   "execution_count": 14,
   "id": "e36e9f5e-d4d7-468a-ae32-db48348b3939",
   "metadata": {},
   "outputs": [],
   "source": [
    "all_data[\"Order Status\"] = all_data[\"Order Status\"].astype(\"category\")"
   ]
  },
  {
   "cell_type": "code",
   "execution_count": 15,
   "id": "a663e4a7-43d1-4abf-9683-75f04a77e9dd",
   "metadata": {},
   "outputs": [
    {
     "data": {
      "text/plain": [
       "['DEFAULT', 'COMPLETED', 'REJECTED', 'ACCEPTED', 'CANCELLED', 'SEND_TO_TMS']\n",
       "Categories (6, object): ['ACCEPTED', 'CANCELLED', 'COMPLETED', 'DEFAULT', 'REJECTED', 'SEND_TO_TMS']"
      ]
     },
     "execution_count": 15,
     "metadata": {},
     "output_type": "execute_result"
    }
   ],
   "source": [
    "all_data[\"Order Status\"].unique()"
   ]
  },
  {
   "cell_type": "code",
   "execution_count": 16,
   "id": "2f7a8e72-a832-4faf-a600-a51942809398",
   "metadata": {},
   "outputs": [],
   "source": [
    "fig = px.histogram(\n",
    "                data_frame=all_data,\n",
    "                x=\"Order Status\",\n",
    "                barmode=\"stack\",\n",
    "                template=\"presentation\",\n",
    "                title=\"Order Status over all data\")\n",
    "# fig.show()"
   ]
  },
  {
   "cell_type": "markdown",
   "id": "c090c246",
   "metadata": {},
   "source": [
    "<img src=\"plots\\newplot.png\"><br>"
   ]
  },
  {
   "cell_type": "markdown",
   "id": "453bdb61",
   "metadata": {},
   "source": [
    "<br>The status <b>COMPLETED</b> is too more present than other status."
   ]
  },
  {
   "cell_type": "code",
   "execution_count": 17,
   "id": "aeb637f3",
   "metadata": {},
   "outputs": [
    {
     "name": "stdout",
     "output_type": "stream",
     "text": [
      "The completed status is present by 82.37 % in the data\n"
     ]
    }
   ],
   "source": [
    "p = np.round(len(all_data[all_data[\"Order Status\"] == \"COMPLETED\"]) / all_data.shape[0] * 100, 2)\n",
    "print(\"The completed status is present by\", p, \"% in the data\")"
   ]
  },
  {
   "cell_type": "markdown",
   "id": "038284f9",
   "metadata": {},
   "source": [
    "I replaced all other status by `OTHERS`.<br>"
   ]
  },
  {
   "cell_type": "code",
   "execution_count": 18,
   "id": "ad8a35e2",
   "metadata": {},
   "outputs": [],
   "source": [
    "categories = ['DEFAULT', 'REJECTED', 'ACCEPTED', 'CANCELLED', 'SEND_TO_TMS']\n",
    "for category in categories :\n",
    "    all_data[\"Order Status\"] = all_data[\"Order Status\"].replace(category, \"OTHERS\")"
   ]
  },
  {
   "cell_type": "code",
   "execution_count": 19,
   "id": "0926e400-3154-4f68-81d8-2ed88c889574",
   "metadata": {},
   "outputs": [
    {
     "data": {
      "text/plain": [
       "COMPLETED    24114\n",
       "OTHERS        5162\n",
       "Name: Order Status, dtype: int64"
      ]
     },
     "execution_count": 19,
     "metadata": {},
     "output_type": "execute_result"
    }
   ],
   "source": [
    "all_data[\"Order Status\"].value_counts()"
   ]
  },
  {
   "cell_type": "code",
   "execution_count": 20,
   "id": "9b772ba1-4378-4598-b94d-5497bcbe851d",
   "metadata": {},
   "outputs": [],
   "source": [
    "fig = px.histogram(\n",
    "                data_frame=all_data,\n",
    "                x=\"Order Status\",\n",
    "                barmode=\"stack\",\n",
    "                template=\"presentation\",\n",
    "                title=\"Order Status after processing\")\n",
    "# fig.show()"
   ]
  },
  {
   "cell_type": "markdown",
   "id": "552f8cac-65b9-4897-bc06-e93102c63870",
   "metadata": {},
   "source": [
    "<img src=\"plots\\newplot (1).png\"><br>"
   ]
  },
  {
   "cell_type": "markdown",
   "id": "59342911-187d-4b81-bfe8-77bb18978125",
   "metadata": {},
   "source": [
    "I put <b>`1` for completed</b> orders and <b>`0` for non-completed</b> orders."
   ]
  },
  {
   "cell_type": "code",
   "execution_count": 21,
   "id": "d637f538-ff26-41f8-835f-fcffae4885e0",
   "metadata": {},
   "outputs": [
    {
     "data": {
      "text/plain": [
       "1    24114\n",
       "0     5162\n",
       "Name: Order Status, dtype: int64"
      ]
     },
     "execution_count": 21,
     "metadata": {},
     "output_type": "execute_result"
    }
   ],
   "source": [
    "statuses = all_data[\"Order Status\"].unique()\n",
    "for status in statuses :\n",
    "    if status == \"COMPLETED\":\n",
    "        all_data[\"Order Status\"] = all_data[\"Order Status\"].replace(status, 1)\n",
    "    else :\n",
    "        all_data[\"Order Status\"] = all_data[\"Order Status\"].replace(status, 0)\n",
    "all_data[\"Order Status\"].value_counts()"
   ]
  },
  {
   "cell_type": "markdown",
   "id": "f5663f0f",
   "metadata": {},
   "source": [
    "### `Unit Price` & `Total Price` columns\n",
    "These columns should be in a numeric type and invalid values should be corrected."
   ]
  },
  {
   "cell_type": "code",
   "execution_count": 22,
   "id": "d38e7106",
   "metadata": {},
   "outputs": [
    {
     "data": {
      "text/plain": [
       "array(['01 Feb 4831 00:00:00', '44,317.00', '01 May 2021 00:00:00',\n",
       "       '12 May 2021 00:00:00', '22 May 2021 00:00:00',\n",
       "       '01 Feb 7823 00:00:00', '01 Feb 2631 00:00:00',\n",
       "       '27 May 2021 00:00:00', '02 Jan 2021 00:00:00',\n",
       "       '03 Dec 2021 00:00:00', '07 Nov 2021 00:00:00',\n",
       "       '01 Mar 2021 00:00:00', '01 Feb 4127 00:00:00',\n",
       "       '01 Feb 2021 00:00:00', '01 Feb 8439 00:00:00',\n",
       "       '01 Feb 4391 00:00:00', '01 Feb 7031 00:00:00',\n",
       "       '01 Feb 6943 00:00:00', '01 Feb 5887 00:00:00',\n",
       "       '01 Feb 5447 00:00:00', '01 Feb 5271 00:00:00'], dtype=object)"
      ]
     },
     "execution_count": 22,
     "metadata": {},
     "output_type": "execute_result"
    }
   ],
   "source": [
    "# Verifying non numerical values\n",
    "all_data[pd.to_numeric(all_data[\"Unit Price\"], errors='coerce').isna()][\"Unit Price\"].unique()"
   ]
  },
  {
   "cell_type": "code",
   "execution_count": 23,
   "id": "47170bbc",
   "metadata": {},
   "outputs": [
    {
     "data": {
      "text/plain": [
       "array(['01 May 2992 00:00:00', '01 May 2312 00:00:00',\n",
       "       '01 Feb 7823 00:00:00', '01 Apr 5262 00:00:00',\n",
       "       '01 Feb 4831 00:00:00', '04 Feb 2021 00:00:00',\n",
       "       '08 Jan 2021 00:00:00', '03 Dec 2021 00:00:00',\n",
       "       '07 Nov 2021 00:00:00', '01 May 2021 00:00:00',\n",
       "       '01 May 3277 00:00:00', '03 Sep 2021 00:00:00',\n",
       "       '01 Feb 4127 00:00:00', '07 Aug 2021 00:00:00',\n",
       "       '01 Feb 2021 00:00:00', '01 Feb 8439 00:00:00',\n",
       "       '01 Feb 2631 00:00:00', '01 Feb 4391 00:00:00',\n",
       "       '01 Feb 7031 00:00:00', '01 Feb 6943 00:00:00',\n",
       "       '01 Feb 5887 00:00:00', '01 Feb 5447 00:00:00',\n",
       "       '01 Feb 5271 00:00:00'], dtype=object)"
      ]
     },
     "execution_count": 23,
     "metadata": {},
     "output_type": "execute_result"
    }
   ],
   "source": [
    "all_data[pd.to_numeric(all_data[\"Total Price\"], errors='coerce').isna()][\"Total Price\"].unique()"
   ]
  },
  {
   "cell_type": "markdown",
   "id": "78365e01",
   "metadata": {},
   "source": [
    "<br>I replaced incorrect values."
   ]
  },
  {
   "cell_type": "code",
   "execution_count": 24,
   "id": "0153193c",
   "metadata": {
    "tags": []
   },
   "outputs": [
    {
     "data": {
      "text/html": [
       "<div>\n",
       "<style scoped>\n",
       "    .dataframe tbody tr th:only-of-type {\n",
       "        vertical-align: middle;\n",
       "    }\n",
       "\n",
       "    .dataframe tbody tr th {\n",
       "        vertical-align: top;\n",
       "    }\n",
       "\n",
       "    .dataframe thead th {\n",
       "        text-align: right;\n",
       "    }\n",
       "</style>\n",
       "<table border=\"1\" class=\"dataframe\">\n",
       "  <thead>\n",
       "    <tr style=\"text-align: right;\">\n",
       "      <th></th>\n",
       "      <th>Order ID</th>\n",
       "      <th>Order Status</th>\n",
       "      <th>Product Name</th>\n",
       "      <th>Quantity</th>\n",
       "      <th>Unit Price</th>\n",
       "      <th>Total Price</th>\n",
       "      <th>Sub Total</th>\n",
       "      <th>Delivery Charge</th>\n",
       "      <th>Payment Method</th>\n",
       "      <th>Customer ID</th>\n",
       "      <th>Merchant</th>\n",
       "      <th>Order Time</th>\n",
       "      <th>Customer Country</th>\n",
       "    </tr>\n",
       "  </thead>\n",
       "  <tbody>\n",
       "    <tr>\n",
       "      <th>21287</th>\n",
       "      <td>6516339398</td>\n",
       "      <td>1</td>\n",
       "      <td>Pommes de terre 250gr</td>\n",
       "      <td>2</td>\n",
       "      <td>NaN</td>\n",
       "      <td>45</td>\n",
       "      <td>892.5</td>\n",
       "      <td>340340</td>\n",
       "      <td>CASH_PAY</td>\n",
       "      <td>4.733500e+06</td>\n",
       "      <td>17021214</td>\n",
       "      <td>2021-01-14 08:53:19</td>\n",
       "      <td>Algeria</td>\n",
       "    </tr>\n",
       "    <tr>\n",
       "      <th>17420</th>\n",
       "      <td>2729387317</td>\n",
       "      <td>1</td>\n",
       "      <td>Oignon 250 gr</td>\n",
       "      <td>20</td>\n",
       "      <td>NaN</td>\n",
       "      <td>250</td>\n",
       "      <td>4901</td>\n",
       "      <td>310310</td>\n",
       "      <td>CARD_PAY</td>\n",
       "      <td>8.175168e+06</td>\n",
       "      <td>17021214</td>\n",
       "      <td>2021-02-14 08:32:26</td>\n",
       "      <td>Algeria</td>\n",
       "    </tr>\n",
       "    <tr>\n",
       "      <th>13403</th>\n",
       "      <td>2019949723</td>\n",
       "      <td>1</td>\n",
       "      <td>Huile d'Olive Vierge MABROUKA 1L</td>\n",
       "      <td>1</td>\n",
       "      <td>NaN</td>\n",
       "      <td>07 Nov 2021 00:00:00</td>\n",
       "      <td>49.099999999999994</td>\n",
       "      <td>05 Sep 2021 00:00:0005 Sep 2021 00:00:00</td>\n",
       "      <td>CARD_PAY</td>\n",
       "      <td>6.115922e+06</td>\n",
       "      <td>20152545</td>\n",
       "      <td>2021-02-01 23:07:28</td>\n",
       "      <td>France</td>\n",
       "    </tr>\n",
       "    <tr>\n",
       "      <th>21283</th>\n",
       "      <td>3661233955</td>\n",
       "      <td>1</td>\n",
       "      <td>Bimo galette senior 300g</td>\n",
       "      <td>4</td>\n",
       "      <td>NaN</td>\n",
       "      <td>6</td>\n",
       "      <td>6</td>\n",
       "      <td>05 Sep 2021 00:00:0005 Sep 2021 00:00:00</td>\n",
       "      <td>CARD_PAY</td>\n",
       "      <td>7.409552e+06</td>\n",
       "      <td>20152545</td>\n",
       "      <td>2021-01-14 07:10:40</td>\n",
       "      <td>France</td>\n",
       "    </tr>\n",
       "    <tr>\n",
       "      <th>11775</th>\n",
       "      <td>7914757300</td>\n",
       "      <td>1</td>\n",
       "      <td>Oignon 250 gr</td>\n",
       "      <td>4</td>\n",
       "      <td>NaN</td>\n",
       "      <td>50</td>\n",
       "      <td>3727</td>\n",
       "      <td>250250</td>\n",
       "      <td>CARD_PAY</td>\n",
       "      <td>3.560980e+09</td>\n",
       "      <td>17021214</td>\n",
       "      <td>2021-01-27 11:49:21</td>\n",
       "      <td>Algeria</td>\n",
       "    </tr>\n",
       "  </tbody>\n",
       "</table>\n",
       "</div>"
      ],
      "text/plain": [
       "         Order ID Order Status                      Product Name  Quantity  \\\n",
       "21287  6516339398            1             Pommes de terre 250gr         2   \n",
       "17420  2729387317            1                     Oignon 250 gr        20   \n",
       "13403  2019949723            1  Huile d'Olive Vierge MABROUKA 1L         1   \n",
       "21283  3661233955            1          Bimo galette senior 300g         4   \n",
       "11775  7914757300            1                     Oignon 250 gr         4   \n",
       "\n",
       "       Unit Price           Total Price           Sub Total  \\\n",
       "21287         NaN                    45               892.5   \n",
       "17420         NaN                   250                4901   \n",
       "13403         NaN  07 Nov 2021 00:00:00  49.099999999999994   \n",
       "21283         NaN                     6                   6   \n",
       "11775         NaN                    50                3727   \n",
       "\n",
       "                                Delivery Charge Payment Method   Customer ID  \\\n",
       "21287                                    340340       CASH_PAY  4.733500e+06   \n",
       "17420                                    310310       CARD_PAY  8.175168e+06   \n",
       "13403  05 Sep 2021 00:00:0005 Sep 2021 00:00:00       CARD_PAY  6.115922e+06   \n",
       "21283  05 Sep 2021 00:00:0005 Sep 2021 00:00:00       CARD_PAY  7.409552e+06   \n",
       "11775                                    250250       CARD_PAY  3.560980e+09   \n",
       "\n",
       "       Merchant           Order Time Customer Country  \n",
       "21287  17021214  2021-01-14 08:53:19          Algeria  \n",
       "17420  17021214  2021-02-14 08:32:26          Algeria  \n",
       "13403  20152545  2021-02-01 23:07:28           France  \n",
       "21283  20152545  2021-01-14 07:10:40           France  \n",
       "11775  17021214  2021-01-27 11:49:21          Algeria  "
      ]
     },
     "execution_count": 24,
     "metadata": {},
     "output_type": "execute_result"
    }
   ],
   "source": [
    "all_data[\"Unit Price\"] = all_data[\"Unit Price\"].str.replace(\",\", \".\")\n",
    "all_data[\"Unit Price\"] = (pd.to_numeric(all_data[\"Unit Price\"], errors='coerce'))\n",
    "all_data[all_data[\"Unit Price\"].isna()].sample(5)"
   ]
  },
  {
   "cell_type": "code",
   "execution_count": 25,
   "id": "772eee2e",
   "metadata": {
    "scrolled": true
   },
   "outputs": [
    {
     "data": {
      "text/html": [
       "<div>\n",
       "<style scoped>\n",
       "    .dataframe tbody tr th:only-of-type {\n",
       "        vertical-align: middle;\n",
       "    }\n",
       "\n",
       "    .dataframe tbody tr th {\n",
       "        vertical-align: top;\n",
       "    }\n",
       "\n",
       "    .dataframe thead th {\n",
       "        text-align: right;\n",
       "    }\n",
       "</style>\n",
       "<table border=\"1\" class=\"dataframe\">\n",
       "  <thead>\n",
       "    <tr style=\"text-align: right;\">\n",
       "      <th></th>\n",
       "      <th>Order ID</th>\n",
       "      <th>Order Status</th>\n",
       "      <th>Product Name</th>\n",
       "      <th>Quantity</th>\n",
       "      <th>Unit Price</th>\n",
       "      <th>Total Price</th>\n",
       "      <th>Sub Total</th>\n",
       "      <th>Delivery Charge</th>\n",
       "      <th>Payment Method</th>\n",
       "      <th>Customer ID</th>\n",
       "      <th>Merchant</th>\n",
       "      <th>Order Time</th>\n",
       "      <th>Customer Country</th>\n",
       "    </tr>\n",
       "  </thead>\n",
       "  <tbody>\n",
       "    <tr>\n",
       "      <th>18296</th>\n",
       "      <td>8279311</td>\n",
       "      <td>1</td>\n",
       "      <td>Batteur Seb Prep'line - HT410121 - Blanc</td>\n",
       "      <td>1</td>\n",
       "      <td>NaN</td>\n",
       "      <td>NaN</td>\n",
       "      <td>01 Apr 9222 00:00:00</td>\n",
       "      <td>590590</td>\n",
       "      <td>CASH</td>\n",
       "      <td>5410766.0</td>\n",
       "      <td>21926604</td>\n",
       "      <td>2021-01-03 11:01:23</td>\n",
       "      <td>Algeria</td>\n",
       "    </tr>\n",
       "    <tr>\n",
       "      <th>20390</th>\n",
       "      <td>167552000000</td>\n",
       "      <td>1</td>\n",
       "      <td>Cuiseur Vapeur Seb Mini Compact - VC130B00 - Gris</td>\n",
       "      <td>1</td>\n",
       "      <td>NaN</td>\n",
       "      <td>NaN</td>\n",
       "      <td>01 Feb 7031 00:00:00</td>\n",
       "      <td>150150</td>\n",
       "      <td>CARD_PAY</td>\n",
       "      <td>8033988.0</td>\n",
       "      <td>21926604</td>\n",
       "      <td>2021-01-10 17:13:42</td>\n",
       "      <td>Saudi Arabia</td>\n",
       "    </tr>\n",
       "    <tr>\n",
       "      <th>16669</th>\n",
       "      <td>2399980482</td>\n",
       "      <td>0</td>\n",
       "      <td>Balance de Cuisine Tefal Optiss - BC5001V2 - O...</td>\n",
       "      <td>1</td>\n",
       "      <td>NaN</td>\n",
       "      <td>NaN</td>\n",
       "      <td>01 Feb 2631 00:00:00</td>\n",
       "      <td>150150</td>\n",
       "      <td>CASH_PAY</td>\n",
       "      <td>4118636.0</td>\n",
       "      <td>21926604</td>\n",
       "      <td>2021-02-13 12:21:24</td>\n",
       "      <td>Algeria</td>\n",
       "    </tr>\n",
       "    <tr>\n",
       "      <th>13396</th>\n",
       "      <td>2019949723</td>\n",
       "      <td>1</td>\n",
       "      <td>Couscous Dari Moyen 1kg</td>\n",
       "      <td>3</td>\n",
       "      <td>2.67</td>\n",
       "      <td>NaN</td>\n",
       "      <td>49.099999999999994</td>\n",
       "      <td>05 Sep 2021 00:00:0005 Sep 2021 00:00:00</td>\n",
       "      <td>CARD_PAY</td>\n",
       "      <td>6115922.0</td>\n",
       "      <td>20152545</td>\n",
       "      <td>2021-02-01 23:07:28</td>\n",
       "      <td>France</td>\n",
       "    </tr>\n",
       "    <tr>\n",
       "      <th>15651</th>\n",
       "      <td>1826711133</td>\n",
       "      <td>0</td>\n",
       "      <td>Lisseur Remington Keratin Intelligent Protect ...</td>\n",
       "      <td>1</td>\n",
       "      <td>NaN</td>\n",
       "      <td>NaN</td>\n",
       "      <td>01 Feb 8439 00:00:00</td>\n",
       "      <td>150150</td>\n",
       "      <td>CASH_PAY</td>\n",
       "      <td>4535460.0</td>\n",
       "      <td>21926604</td>\n",
       "      <td>2021-02-08 21:13:25</td>\n",
       "      <td>Algeria</td>\n",
       "    </tr>\n",
       "    <tr>\n",
       "      <th>13549</th>\n",
       "      <td>20537719567</td>\n",
       "      <td>1</td>\n",
       "      <td>Entrecote sans os 250 Gr</td>\n",
       "      <td>5</td>\n",
       "      <td>655.50</td>\n",
       "      <td>NaN</td>\n",
       "      <td>01 May 5827 00:00:00</td>\n",
       "      <td>640640</td>\n",
       "      <td>CARD_PAY</td>\n",
       "      <td>8214282.0</td>\n",
       "      <td>8069691</td>\n",
       "      <td>2021-02-02 12:01:18</td>\n",
       "      <td>Algeria</td>\n",
       "    </tr>\n",
       "    <tr>\n",
       "      <th>6754</th>\n",
       "      <td>6352151749</td>\n",
       "      <td>1</td>\n",
       "      <td>Viande hachee 250 Gr</td>\n",
       "      <td>5</td>\n",
       "      <td>462.50</td>\n",
       "      <td>NaN</td>\n",
       "      <td>18602.5</td>\n",
       "      <td>10601060</td>\n",
       "      <td>CARD_PAY</td>\n",
       "      <td>6258220.0</td>\n",
       "      <td>8069691</td>\n",
       "      <td>2021-01-16 13:16:23</td>\n",
       "      <td>Algeria</td>\n",
       "    </tr>\n",
       "    <tr>\n",
       "      <th>14571</th>\n",
       "      <td>6241107503</td>\n",
       "      <td>1</td>\n",
       "      <td>Mini Hachoir 3En1 Moulinex Multi Moulinette - ...</td>\n",
       "      <td>1</td>\n",
       "      <td>NaN</td>\n",
       "      <td>NaN</td>\n",
       "      <td>01 Feb 4127 00:00:00</td>\n",
       "      <td>150150</td>\n",
       "      <td>CARD_PAY</td>\n",
       "      <td>4562638.0</td>\n",
       "      <td>21926604</td>\n",
       "      <td>2021-02-05 11:20:20</td>\n",
       "      <td>Algeria</td>\n",
       "    </tr>\n",
       "    <tr>\n",
       "      <th>15601</th>\n",
       "      <td>11998197155</td>\n",
       "      <td>1</td>\n",
       "      <td>CrÃ¨me chantilly nature 150g DR-OETKER</td>\n",
       "      <td>3</td>\n",
       "      <td>2.36</td>\n",
       "      <td>NaN</td>\n",
       "      <td>29.42</td>\n",
       "      <td>05 Sep 2021 00:00:0005 Sep 2021 00:00:00</td>\n",
       "      <td>CARD_PAY</td>\n",
       "      <td>5442228.0</td>\n",
       "      <td>20152545</td>\n",
       "      <td>2021-02-08 20:21:21</td>\n",
       "      <td>France</td>\n",
       "    </tr>\n",
       "    <tr>\n",
       "      <th>26831</th>\n",
       "      <td>3606592585</td>\n",
       "      <td>0</td>\n",
       "      <td>Bras Mixeur Moulinex Easychef - DD45A110 -Pied...</td>\n",
       "      <td>1</td>\n",
       "      <td>NaN</td>\n",
       "      <td>NaN</td>\n",
       "      <td>01 Feb 4391 00:00:00</td>\n",
       "      <td>390390</td>\n",
       "      <td>CARD_PAY</td>\n",
       "      <td>8102448.0</td>\n",
       "      <td>21926604</td>\n",
       "      <td>2021-01-29 17:06:22</td>\n",
       "      <td>France</td>\n",
       "    </tr>\n",
       "    <tr>\n",
       "      <th>29284</th>\n",
       "      <td>2432084055</td>\n",
       "      <td>1</td>\n",
       "      <td>Mini Hachoir 5en1 Moulinex Moulinette - AT7221...</td>\n",
       "      <td>1</td>\n",
       "      <td>NaN</td>\n",
       "      <td>NaN</td>\n",
       "      <td>01 Apr 6142 00:00:00</td>\n",
       "      <td>150150</td>\n",
       "      <td>CASH_PAY</td>\n",
       "      <td>7656978.0</td>\n",
       "      <td>21926604</td>\n",
       "      <td>2021-02-11 10:06:16</td>\n",
       "      <td>Algeria</td>\n",
       "    </tr>\n",
       "    <tr>\n",
       "      <th>3985</th>\n",
       "      <td>307439000000</td>\n",
       "      <td>1</td>\n",
       "      <td>Foie de mouton 250 Gr</td>\n",
       "      <td>3</td>\n",
       "      <td>997.50</td>\n",
       "      <td>NaN</td>\n",
       "      <td>01 May 9127 00:00:00</td>\n",
       "      <td>26802680</td>\n",
       "      <td>CASH_PAY</td>\n",
       "      <td>8383188.0</td>\n",
       "      <td>17934462</td>\n",
       "      <td>2021-01-12 18:41:43</td>\n",
       "      <td>Algeria</td>\n",
       "    </tr>\n",
       "    <tr>\n",
       "      <th>27905</th>\n",
       "      <td>5920830023</td>\n",
       "      <td>1</td>\n",
       "      <td>Foie de mouton 250 Gr</td>\n",
       "      <td>3</td>\n",
       "      <td>997.50</td>\n",
       "      <td>NaN</td>\n",
       "      <td>01 May 5892 00:00:00</td>\n",
       "      <td>12401240</td>\n",
       "      <td>CARD_PAY</td>\n",
       "      <td>8026946.0</td>\n",
       "      <td>17934462</td>\n",
       "      <td>2021-02-04 12:22:47</td>\n",
       "      <td>Algeria</td>\n",
       "    </tr>\n",
       "    <tr>\n",
       "      <th>24506</th>\n",
       "      <td>1612737197</td>\n",
       "      <td>1</td>\n",
       "      <td>Bras Mixeur Moulinex Robot Marie Original - DD...</td>\n",
       "      <td>1</td>\n",
       "      <td>NaN</td>\n",
       "      <td>NaN</td>\n",
       "      <td>01 Feb 6943 00:00:00</td>\n",
       "      <td>150150</td>\n",
       "      <td>CARD_PAY</td>\n",
       "      <td>6371662.0</td>\n",
       "      <td>21926604</td>\n",
       "      <td>2021-01-20 22:15:29</td>\n",
       "      <td>Algeria</td>\n",
       "    </tr>\n",
       "    <tr>\n",
       "      <th>13399</th>\n",
       "      <td>2019949723</td>\n",
       "      <td>1</td>\n",
       "      <td>Legumor haricot rouge 1kg</td>\n",
       "      <td>1</td>\n",
       "      <td>NaN</td>\n",
       "      <td>NaN</td>\n",
       "      <td>49.099999999999994</td>\n",
       "      <td>05 Sep 2021 00:00:0005 Sep 2021 00:00:00</td>\n",
       "      <td>CARD_PAY</td>\n",
       "      <td>6115922.0</td>\n",
       "      <td>20152545</td>\n",
       "      <td>2021-02-01 23:07:28</td>\n",
       "      <td>France</td>\n",
       "    </tr>\n",
       "  </tbody>\n",
       "</table>\n",
       "</div>"
      ],
      "text/plain": [
       "           Order ID Order Status  \\\n",
       "18296       8279311            1   \n",
       "20390  167552000000            1   \n",
       "16669    2399980482            0   \n",
       "13396    2019949723            1   \n",
       "15651    1826711133            0   \n",
       "13549   20537719567            1   \n",
       "6754     6352151749            1   \n",
       "14571    6241107503            1   \n",
       "15601   11998197155            1   \n",
       "26831    3606592585            0   \n",
       "29284    2432084055            1   \n",
       "3985   307439000000            1   \n",
       "27905    5920830023            1   \n",
       "24506    1612737197            1   \n",
       "13399    2019949723            1   \n",
       "\n",
       "                                            Product Name  Quantity  \\\n",
       "18296           Batteur Seb Prep'line - HT410121 - Blanc         1   \n",
       "20390  Cuiseur Vapeur Seb Mini Compact - VC130B00 - Gris         1   \n",
       "16669  Balance de Cuisine Tefal Optiss - BC5001V2 - O...         1   \n",
       "13396                            Couscous Dari Moyen 1kg         3   \n",
       "15651  Lisseur Remington Keratin Intelligent Protect ...         1   \n",
       "13549                           Entrecote sans os 250 Gr         5   \n",
       "6754                                Viande hachee 250 Gr         5   \n",
       "14571  Mini Hachoir 3En1 Moulinex Multi Moulinette - ...         1   \n",
       "15601             CrÃ¨me chantilly nature 150g DR-OETKER         3   \n",
       "26831  Bras Mixeur Moulinex Easychef - DD45A110 -Pied...         1   \n",
       "29284  Mini Hachoir 5en1 Moulinex Moulinette - AT7221...         1   \n",
       "3985                               Foie de mouton 250 Gr         3   \n",
       "27905                              Foie de mouton 250 Gr         3   \n",
       "24506  Bras Mixeur Moulinex Robot Marie Original - DD...         1   \n",
       "13399                          Legumor haricot rouge 1kg         1   \n",
       "\n",
       "       Unit Price  Total Price             Sub Total  \\\n",
       "18296         NaN          NaN  01 Apr 9222 00:00:00   \n",
       "20390         NaN          NaN  01 Feb 7031 00:00:00   \n",
       "16669         NaN          NaN  01 Feb 2631 00:00:00   \n",
       "13396        2.67          NaN    49.099999999999994   \n",
       "15651         NaN          NaN  01 Feb 8439 00:00:00   \n",
       "13549      655.50          NaN  01 May 5827 00:00:00   \n",
       "6754       462.50          NaN               18602.5   \n",
       "14571         NaN          NaN  01 Feb 4127 00:00:00   \n",
       "15601        2.36          NaN                 29.42   \n",
       "26831         NaN          NaN  01 Feb 4391 00:00:00   \n",
       "29284         NaN          NaN  01 Apr 6142 00:00:00   \n",
       "3985       997.50          NaN  01 May 9127 00:00:00   \n",
       "27905      997.50          NaN  01 May 5892 00:00:00   \n",
       "24506         NaN          NaN  01 Feb 6943 00:00:00   \n",
       "13399         NaN          NaN    49.099999999999994   \n",
       "\n",
       "                                Delivery Charge Payment Method  Customer ID  \\\n",
       "18296                                    590590           CASH    5410766.0   \n",
       "20390                                    150150       CARD_PAY    8033988.0   \n",
       "16669                                    150150       CASH_PAY    4118636.0   \n",
       "13396  05 Sep 2021 00:00:0005 Sep 2021 00:00:00       CARD_PAY    6115922.0   \n",
       "15651                                    150150       CASH_PAY    4535460.0   \n",
       "13549                                    640640       CARD_PAY    8214282.0   \n",
       "6754                                   10601060       CARD_PAY    6258220.0   \n",
       "14571                                    150150       CARD_PAY    4562638.0   \n",
       "15601  05 Sep 2021 00:00:0005 Sep 2021 00:00:00       CARD_PAY    5442228.0   \n",
       "26831                                    390390       CARD_PAY    8102448.0   \n",
       "29284                                    150150       CASH_PAY    7656978.0   \n",
       "3985                                   26802680       CASH_PAY    8383188.0   \n",
       "27905                                  12401240       CARD_PAY    8026946.0   \n",
       "24506                                    150150       CARD_PAY    6371662.0   \n",
       "13399  05 Sep 2021 00:00:0005 Sep 2021 00:00:00       CARD_PAY    6115922.0   \n",
       "\n",
       "       Merchant           Order Time Customer Country  \n",
       "18296  21926604  2021-01-03 11:01:23          Algeria  \n",
       "20390  21926604  2021-01-10 17:13:42     Saudi Arabia  \n",
       "16669  21926604  2021-02-13 12:21:24          Algeria  \n",
       "13396  20152545  2021-02-01 23:07:28           France  \n",
       "15651  21926604  2021-02-08 21:13:25          Algeria  \n",
       "13549   8069691  2021-02-02 12:01:18          Algeria  \n",
       "6754    8069691  2021-01-16 13:16:23          Algeria  \n",
       "14571  21926604  2021-02-05 11:20:20          Algeria  \n",
       "15601  20152545  2021-02-08 20:21:21           France  \n",
       "26831  21926604  2021-01-29 17:06:22           France  \n",
       "29284  21926604  2021-02-11 10:06:16          Algeria  \n",
       "3985   17934462  2021-01-12 18:41:43          Algeria  \n",
       "27905  17934462  2021-02-04 12:22:47          Algeria  \n",
       "24506  21926604  2021-01-20 22:15:29          Algeria  \n",
       "13399  20152545  2021-02-01 23:07:28           France  "
      ]
     },
     "execution_count": 25,
     "metadata": {},
     "output_type": "execute_result"
    }
   ],
   "source": [
    "all_data[\"Total Price\"] = (pd.to_numeric(all_data[\"Total Price\"], errors='coerce'))\n",
    "all_data[all_data[\"Total Price\"].isna()].sample(15)"
   ]
  },
  {
   "cell_type": "markdown",
   "id": "493f1470",
   "metadata": {},
   "source": [
    "There is a relashion between `Unit Price` and `Total Price` and it is : <br> <br>\n",
    "<b>Total Price = Unit Price * Quantity</b>"
   ]
  },
  {
   "cell_type": "code",
   "execution_count": 26,
   "id": "08c38c92",
   "metadata": {},
   "outputs": [],
   "source": [
    "indexes = all_data[(all_data[\"Unit Price\"].isna()) & (all_data[\"Total Price\"].notnull())].loc[:, \"Unit Price\"].index\n",
    "for index in indexes :\n",
    "    all_data.loc[index, \"Unit Price\"] = all_data.loc[index, \"Total Price\"] / all_data.loc[index, \"Quantity\"]"
   ]
  },
  {
   "cell_type": "code",
   "execution_count": 27,
   "id": "afacdf18",
   "metadata": {},
   "outputs": [],
   "source": [
    "indexes1 = all_data[(all_data[\"Unit Price\"].notnull()) & (all_data[\"Total Price\"].isna())].loc[:, \"Total Price\"].index\n",
    "for index in indexes1 :\n",
    "    all_data.loc[index, \"Total Price\"] = all_data.loc[index, \"Unit Price\"] * all_data.loc[index, \"Quantity\"]"
   ]
  },
  {
   "cell_type": "code",
   "execution_count": 28,
   "id": "396bf381",
   "metadata": {},
   "outputs": [
    {
     "name": "stdout",
     "output_type": "stream",
     "text": [
      "Rows with still NaN values in price : 25\n"
     ]
    }
   ],
   "source": [
    "t = len(all_data[(all_data[\"Unit Price\"].isna()) & (all_data[\"Total Price\"].isna())])\n",
    "print(f\"Rows with still NaN values in price : {t}\")"
   ]
  },
  {
   "cell_type": "markdown",
   "id": "db3751f9",
   "metadata": {},
   "source": [
    "There is 25 rows where `Unit Price` and `Total Price` are both missing.<br>\n",
    "A product has only one price. So, I replaced `Unit Price` in some rows with their products' price from other rows.<br> And then replace `Total Price` with the relation with Quantity."
   ]
  },
  {
   "cell_type": "code",
   "execution_count": 29,
   "id": "cce43a67",
   "metadata": {},
   "outputs": [
    {
     "data": {
      "text/plain": [
       "21"
      ]
     },
     "execution_count": 29,
     "metadata": {},
     "output_type": "execute_result"
    }
   ],
   "source": [
    "product_index = all_data[(all_data[\"Unit Price\"].isna()) & (all_data[\"Total Price\"].isna())].index\n",
    "dos = pd.DataFrame(all_data.groupby(\"Product Name\")[\"Unit Price\"].mean())\n",
    "dos = dos[dos[\"Unit Price\"].notnull()]\n",
    "products = dos.index\n",
    "for index in product_index :\n",
    "    product = all_data.loc[index, \"Product Name\"]\n",
    "    if product in products :\n",
    "        all_data.loc[index, \"Unit Price\"] = dos.loc[product, \"Unit Price\"]\n",
    "all_data[\"Unit Price\"].isna().sum()"
   ]
  },
  {
   "cell_type": "code",
   "execution_count": 30,
   "id": "b3bf3315",
   "metadata": {},
   "outputs": [],
   "source": [
    "indexes1 = all_data[(all_data[\"Unit Price\"].notnull()) & (all_data[\"Total Price\"].isna())].loc[:, \"Total Price\"].index\n",
    "for index in indexes1 :\n",
    "    all_data.loc[index, \"Total Price\"] = all_data.loc[index, \"Unit Price\"] * all_data.loc[index, \"Quantity\"]"
   ]
  },
  {
   "cell_type": "code",
   "execution_count": 31,
   "id": "db0bb17f",
   "metadata": {},
   "outputs": [
    {
     "name": "stdout",
     "output_type": "stream",
     "text": [
      "Rows with still NaN values in price : 21\n"
     ]
    }
   ],
   "source": [
    "t = len(all_data[(all_data[\"Unit Price\"].isna()) & (all_data[\"Total Price\"].isna())])\n",
    "print(f\"Rows with still NaN values in price : {t}\")"
   ]
  },
  {
   "cell_type": "markdown",
   "id": "2438421b",
   "metadata": {},
   "source": [
    "I still have 21 rows with `Unit Price` and `Total Price` both missing.<br>\n",
    "Now, I have to replace Unit price with the average price and then calculate Total price with the relation with quantity."
   ]
  },
  {
   "cell_type": "code",
   "execution_count": 32,
   "id": "c7c90af2",
   "metadata": {},
   "outputs": [
    {
     "data": {
      "text/plain": [
       "0"
      ]
     },
     "execution_count": 32,
     "metadata": {},
     "output_type": "execute_result"
    }
   ],
   "source": [
    "all_data[\"Unit Price\"] = all_data[\"Unit Price\"].fillna(all_data[\"Unit Price\"].mean())\n",
    "all_data[\"Unit Price\"].isna().sum()"
   ]
  },
  {
   "cell_type": "code",
   "execution_count": 33,
   "id": "1695b8bd",
   "metadata": {},
   "outputs": [
    {
     "data": {
      "text/plain": [
       "0"
      ]
     },
     "execution_count": 33,
     "metadata": {},
     "output_type": "execute_result"
    }
   ],
   "source": [
    "indexes1 = all_data[(all_data[\"Unit Price\"].notnull()) & (all_data[\"Total Price\"].isna())].loc[:, \"Total Price\"].index\n",
    "for index in indexes1 :\n",
    "    all_data.loc[index, \"Total Price\"] = all_data.loc[index, \"Unit Price\"] * all_data.loc[index, \"Quantity\"]\n",
    "all_data[\"Total Price\"].isna().sum()"
   ]
  },
  {
   "cell_type": "markdown",
   "id": "a5aded07",
   "metadata": {},
   "source": [
    "### `Sub Total` column\n",
    "It should be in a numeric type and missing values should be replaced."
   ]
  },
  {
   "cell_type": "code",
   "execution_count": 34,
   "id": "5fbfd893",
   "metadata": {
    "scrolled": true
   },
   "outputs": [
    {
     "data": {
      "text/plain": [
       "array([nan, '01 May 3012 00:00:00', '01 May 5022 00:00:00',\n",
       "       '01 May 6042 00:00:00', '01 May 6672 00:00:00',\n",
       "       '01 May 9127 00:00:00', '01 May 5813 00:00:00',\n",
       "       '01 May 5297 00:00:00', '01 May 5556 00:00:00',\n",
       "       '01 May 4273 00:00:00', '01 May 2602 00:00:00',\n",
       "       '01 Feb 7823 00:00:00', '01 May 3437 00:00:00',\n",
       "       '01 May 5232 00:00:00', '01 May 2887 00:00:00',\n",
       "       '01 May 2301 00:00:00', '01 May 6252 00:00:00',\n",
       "       '01 May 5827 00:00:00', '01 May 3324 00:00:00',\n",
       "       '01 Feb 4127 00:00:00', '01 Feb 4831 00:00:00',\n",
       "       '01 May 7322 00:00:00', '01 Feb 8439 00:00:00',\n",
       "       '01 Feb 2631 00:00:00', '01 May 3532 00:00:00',\n",
       "       '01 Apr 9222 00:00:00', '01 Feb 7031 00:00:00',\n",
       "       '01 May 6584 00:00:00', '01 Apr 5118 00:00:00',\n",
       "       '01 May 8786 00:00:00', '01 Feb 6943 00:00:00',\n",
       "       '01 Feb 4391 00:00:00', '01 May 6457 00:00:00',\n",
       "       '01 May 5892 00:00:00', '01 May 5327 00:00:00',\n",
       "       '01 Feb 5447 00:00:00', '01 Feb 5887 00:00:00',\n",
       "       '01 Apr 6142 00:00:00'], dtype=object)"
      ]
     },
     "execution_count": 34,
     "metadata": {},
     "output_type": "execute_result"
    }
   ],
   "source": [
    "# Verifying non numerical values\n",
    "all_data[pd.to_numeric(all_data[\"Sub Total\"], errors='coerce').isna()][\"Sub Total\"].unique()"
   ]
  },
  {
   "cell_type": "code",
   "execution_count": 35,
   "id": "319af1bd",
   "metadata": {
    "scrolled": true,
    "tags": []
   },
   "outputs": [
    {
     "data": {
      "text/html": [
       "<div>\n",
       "<style scoped>\n",
       "    .dataframe tbody tr th:only-of-type {\n",
       "        vertical-align: middle;\n",
       "    }\n",
       "\n",
       "    .dataframe tbody tr th {\n",
       "        vertical-align: top;\n",
       "    }\n",
       "\n",
       "    .dataframe thead th {\n",
       "        text-align: right;\n",
       "    }\n",
       "</style>\n",
       "<table border=\"1\" class=\"dataframe\">\n",
       "  <thead>\n",
       "    <tr style=\"text-align: right;\">\n",
       "      <th></th>\n",
       "      <th>Order ID</th>\n",
       "      <th>Order Status</th>\n",
       "      <th>Product Name</th>\n",
       "      <th>Quantity</th>\n",
       "      <th>Unit Price</th>\n",
       "      <th>Total Price</th>\n",
       "      <th>Sub Total</th>\n",
       "      <th>Delivery Charge</th>\n",
       "      <th>Payment Method</th>\n",
       "      <th>Customer ID</th>\n",
       "      <th>Merchant</th>\n",
       "      <th>Order Time</th>\n",
       "      <th>Customer Country</th>\n",
       "    </tr>\n",
       "  </thead>\n",
       "  <tbody>\n",
       "    <tr>\n",
       "      <th>2199</th>\n",
       "      <td>1983440000000</td>\n",
       "      <td>0</td>\n",
       "      <td>Coca cola vanille zero sucre canette 33cl</td>\n",
       "      <td>1</td>\n",
       "      <td>155.0</td>\n",
       "      <td>155.0</td>\n",
       "      <td>NaN</td>\n",
       "      <td>200200</td>\n",
       "      <td>CASH_PAY</td>\n",
       "      <td>4.118636e+06</td>\n",
       "      <td>6158523</td>\n",
       "      <td>2021-01-07 08:16:12</td>\n",
       "      <td>Algeria</td>\n",
       "    </tr>\n",
       "    <tr>\n",
       "      <th>2200</th>\n",
       "      <td>1983440000000</td>\n",
       "      <td>0</td>\n",
       "      <td>NOUARA flan choco 56g</td>\n",
       "      <td>1</td>\n",
       "      <td>25.0</td>\n",
       "      <td>25.0</td>\n",
       "      <td>NaN</td>\n",
       "      <td>200200</td>\n",
       "      <td>CASH_PAY</td>\n",
       "      <td>4.118636e+06</td>\n",
       "      <td>6158523</td>\n",
       "      <td>2021-01-07 08:16:12</td>\n",
       "      <td>Algeria</td>\n",
       "    </tr>\n",
       "    <tr>\n",
       "      <th>2201</th>\n",
       "      <td>1983440000000</td>\n",
       "      <td>0</td>\n",
       "      <td>OMO liq 2.25l</td>\n",
       "      <td>5</td>\n",
       "      <td>699.0</td>\n",
       "      <td>3495.0</td>\n",
       "      <td>NaN</td>\n",
       "      <td>200200</td>\n",
       "      <td>CASH_PAY</td>\n",
       "      <td>4.118636e+06</td>\n",
       "      <td>6158523</td>\n",
       "      <td>2021-01-07 08:16:12</td>\n",
       "      <td>Algeria</td>\n",
       "    </tr>\n",
       "    <tr>\n",
       "      <th>2202</th>\n",
       "      <td>1983440000000</td>\n",
       "      <td>0</td>\n",
       "      <td>03 fardeaux Ifri + 1 offert</td>\n",
       "      <td>1</td>\n",
       "      <td>480.0</td>\n",
       "      <td>480.0</td>\n",
       "      <td>NaN</td>\n",
       "      <td>200200</td>\n",
       "      <td>CASH_PAY</td>\n",
       "      <td>4.118636e+06</td>\n",
       "      <td>6158523</td>\n",
       "      <td>2021-01-07 08:16:12</td>\n",
       "      <td>Algeria</td>\n",
       "    </tr>\n",
       "    <tr>\n",
       "      <th>2211</th>\n",
       "      <td>3795630000000</td>\n",
       "      <td>0</td>\n",
       "      <td>03 fardeaux Ifri + 1 offert</td>\n",
       "      <td>1</td>\n",
       "      <td>480.0</td>\n",
       "      <td>480.0</td>\n",
       "      <td>NaN</td>\n",
       "      <td>200200</td>\n",
       "      <td>CASH_PAY</td>\n",
       "      <td>1.755834e+06</td>\n",
       "      <td>6158523</td>\n",
       "      <td>2021-01-07 08:38:25</td>\n",
       "      <td>Algeria</td>\n",
       "    </tr>\n",
       "    <tr>\n",
       "      <th>...</th>\n",
       "      <td>...</td>\n",
       "      <td>...</td>\n",
       "      <td>...</td>\n",
       "      <td>...</td>\n",
       "      <td>...</td>\n",
       "      <td>...</td>\n",
       "      <td>...</td>\n",
       "      <td>...</td>\n",
       "      <td>...</td>\n",
       "      <td>...</td>\n",
       "      <td>...</td>\n",
       "      <td>...</td>\n",
       "      <td>...</td>\n",
       "    </tr>\n",
       "    <tr>\n",
       "      <th>29731</th>\n",
       "      <td>2646660391</td>\n",
       "      <td>0</td>\n",
       "      <td>Skor sucre roux 1kg</td>\n",
       "      <td>3</td>\n",
       "      <td>100.0</td>\n",
       "      <td>300.0</td>\n",
       "      <td>NaN</td>\n",
       "      <td>200200</td>\n",
       "      <td>NaN</td>\n",
       "      <td>8.378439e+09</td>\n",
       "      <td>23255526</td>\n",
       "      <td>2021-02-14 13:15:46</td>\n",
       "      <td>Algeria</td>\n",
       "    </tr>\n",
       "    <tr>\n",
       "      <th>29732</th>\n",
       "      <td>2646660391</td>\n",
       "      <td>0</td>\n",
       "      <td>Pantene 2en1 Lises &amp; Soyeux 200ml</td>\n",
       "      <td>2</td>\n",
       "      <td>199.0</td>\n",
       "      <td>398.0</td>\n",
       "      <td>NaN</td>\n",
       "      <td>200200</td>\n",
       "      <td>NaN</td>\n",
       "      <td>8.378439e+09</td>\n",
       "      <td>23255526</td>\n",
       "      <td>2021-02-14 13:15:46</td>\n",
       "      <td>Algeria</td>\n",
       "    </tr>\n",
       "    <tr>\n",
       "      <th>29733</th>\n",
       "      <td>2646660391</td>\n",
       "      <td>0</td>\n",
       "      <td>Princesse anne mais doux 300g</td>\n",
       "      <td>2</td>\n",
       "      <td>180.0</td>\n",
       "      <td>360.0</td>\n",
       "      <td>NaN</td>\n",
       "      <td>200200</td>\n",
       "      <td>NaN</td>\n",
       "      <td>8.378439e+09</td>\n",
       "      <td>23255526</td>\n",
       "      <td>2021-02-14 13:15:46</td>\n",
       "      <td>Algeria</td>\n",
       "    </tr>\n",
       "    <tr>\n",
       "      <th>29734</th>\n",
       "      <td>2646660391</td>\n",
       "      <td>0</td>\n",
       "      <td>Fairy Liquide Vaisselle Original 650ml</td>\n",
       "      <td>1</td>\n",
       "      <td>299.0</td>\n",
       "      <td>299.0</td>\n",
       "      <td>NaN</td>\n",
       "      <td>200200</td>\n",
       "      <td>NaN</td>\n",
       "      <td>8.378439e+09</td>\n",
       "      <td>23255526</td>\n",
       "      <td>2021-02-14 13:15:46</td>\n",
       "      <td>Algeria</td>\n",
       "    </tr>\n",
       "    <tr>\n",
       "      <th>29735</th>\n",
       "      <td>2646660391</td>\n",
       "      <td>0</td>\n",
       "      <td>Wc one gel detartrant wc ocean 750ml</td>\n",
       "      <td>1</td>\n",
       "      <td>150.0</td>\n",
       "      <td>150.0</td>\n",
       "      <td>NaN</td>\n",
       "      <td>200200</td>\n",
       "      <td>NaN</td>\n",
       "      <td>8.378439e+09</td>\n",
       "      <td>23255526</td>\n",
       "      <td>2021-02-14 13:15:46</td>\n",
       "      <td>Algeria</td>\n",
       "    </tr>\n",
       "  </tbody>\n",
       "</table>\n",
       "<p>1026 rows × 13 columns</p>\n",
       "</div>"
      ],
      "text/plain": [
       "            Order ID Order Status                               Product Name  \\\n",
       "2199   1983440000000            0  Coca cola vanille zero sucre canette 33cl   \n",
       "2200   1983440000000            0                      NOUARA flan choco 56g   \n",
       "2201   1983440000000            0                              OMO liq 2.25l   \n",
       "2202   1983440000000            0                03 fardeaux Ifri + 1 offert   \n",
       "2211   3795630000000            0                03 fardeaux Ifri + 1 offert   \n",
       "...              ...          ...                                        ...   \n",
       "29731     2646660391            0                        Skor sucre roux 1kg   \n",
       "29732     2646660391            0          Pantene 2en1 Lises & Soyeux 200ml   \n",
       "29733     2646660391            0              Princesse anne mais doux 300g   \n",
       "29734     2646660391            0     Fairy Liquide Vaisselle Original 650ml   \n",
       "29735     2646660391            0       Wc one gel detartrant wc ocean 750ml   \n",
       "\n",
       "       Quantity  Unit Price  Total Price  Sub Total Delivery Charge  \\\n",
       "2199          1       155.0        155.0        NaN          200200   \n",
       "2200          1        25.0         25.0        NaN          200200   \n",
       "2201          5       699.0       3495.0        NaN          200200   \n",
       "2202          1       480.0        480.0        NaN          200200   \n",
       "2211          1       480.0        480.0        NaN          200200   \n",
       "...         ...         ...          ...        ...             ...   \n",
       "29731         3       100.0        300.0        NaN          200200   \n",
       "29732         2       199.0        398.0        NaN          200200   \n",
       "29733         2       180.0        360.0        NaN          200200   \n",
       "29734         1       299.0        299.0        NaN          200200   \n",
       "29735         1       150.0        150.0        NaN          200200   \n",
       "\n",
       "      Payment Method   Customer ID  Merchant           Order Time  \\\n",
       "2199        CASH_PAY  4.118636e+06   6158523  2021-01-07 08:16:12   \n",
       "2200        CASH_PAY  4.118636e+06   6158523  2021-01-07 08:16:12   \n",
       "2201        CASH_PAY  4.118636e+06   6158523  2021-01-07 08:16:12   \n",
       "2202        CASH_PAY  4.118636e+06   6158523  2021-01-07 08:16:12   \n",
       "2211        CASH_PAY  1.755834e+06   6158523  2021-01-07 08:38:25   \n",
       "...              ...           ...       ...                  ...   \n",
       "29731            NaN  8.378439e+09  23255526  2021-02-14 13:15:46   \n",
       "29732            NaN  8.378439e+09  23255526  2021-02-14 13:15:46   \n",
       "29733            NaN  8.378439e+09  23255526  2021-02-14 13:15:46   \n",
       "29734            NaN  8.378439e+09  23255526  2021-02-14 13:15:46   \n",
       "29735            NaN  8.378439e+09  23255526  2021-02-14 13:15:46   \n",
       "\n",
       "      Customer Country  \n",
       "2199           Algeria  \n",
       "2200           Algeria  \n",
       "2201           Algeria  \n",
       "2202           Algeria  \n",
       "2211           Algeria  \n",
       "...                ...  \n",
       "29731          Algeria  \n",
       "29732          Algeria  \n",
       "29733          Algeria  \n",
       "29734          Algeria  \n",
       "29735          Algeria  \n",
       "\n",
       "[1026 rows x 13 columns]"
      ]
     },
     "execution_count": 35,
     "metadata": {},
     "output_type": "execute_result"
    }
   ],
   "source": [
    "all_data[\"Sub Total\"] = (pd.to_numeric(all_data[\"Sub Total\"], errors='coerce'))\n",
    "all_data[all_data[\"Sub Total\"].isna()]"
   ]
  },
  {
   "cell_type": "markdown",
   "id": "b0da0d33",
   "metadata": {},
   "source": [
    "For each <b>Order ID</b> there is a single <b>Sub Total</b> and it is :<br>\n",
    "<b> Sub Total = sum(*Total Price) </b>"
   ]
  },
  {
   "cell_type": "code",
   "execution_count": 36,
   "id": "4ab3cc40",
   "metadata": {},
   "outputs": [
    {
     "data": {
      "text/plain": [
       "0"
      ]
     },
     "execution_count": 36,
     "metadata": {},
     "output_type": "execute_result"
    }
   ],
   "source": [
    "indexes = all_data[all_data[\"Sub Total\"].isna()].index\n",
    "total = all_data.groupby(\"Order ID\")[\"Total Price\"].sum()\n",
    "orders = total.index\n",
    "for index in indexes :\n",
    "    order = all_data.loc[index, \"Order ID\"]\n",
    "    if order in orders :\n",
    "        all_data.loc[index, \"Sub Total\"] = total.loc[order]\n",
    "\n",
    "all_data[\"Sub Total\"].isna().sum()"
   ]
  },
  {
   "cell_type": "markdown",
   "id": "dc0cd94c",
   "metadata": {},
   "source": [
    "Problem Solved !!"
   ]
  },
  {
   "cell_type": "markdown",
   "id": "3d39017d",
   "metadata": {},
   "source": [
    "###  `Delivery Charge` column\n",
    "It should be in a numeric type and missing values should be replaced."
   ]
  },
  {
   "cell_type": "code",
   "execution_count": 37,
   "id": "dbeb4f03",
   "metadata": {},
   "outputs": [
    {
     "data": {
      "text/plain": [
       "array(['05 Sep 2021 00:00:0005 Sep 2021 00:00:00', nan], dtype=object)"
      ]
     },
     "execution_count": 37,
     "metadata": {},
     "output_type": "execute_result"
    }
   ],
   "source": [
    "# Verifying non numerical values\n",
    "all_data[pd.to_numeric(all_data[\"Delivery Charge\"], errors='coerce').isna()][\"Delivery Charge\"].unique()"
   ]
  },
  {
   "cell_type": "code",
   "execution_count": 38,
   "id": "b36798bc",
   "metadata": {},
   "outputs": [
    {
     "data": {
      "text/plain": [
       "85"
      ]
     },
     "execution_count": 38,
     "metadata": {},
     "output_type": "execute_result"
    }
   ],
   "source": [
    "all_data[\"Delivery Charge\"] = (pd.to_numeric(all_data[\"Delivery Charge\"], errors='coerce'))\n",
    "all_data[\"Delivery Charge\"].isna().sum()"
   ]
  },
  {
   "cell_type": "code",
   "execution_count": 39,
   "id": "e395dd6f",
   "metadata": {
    "scrolled": true
   },
   "outputs": [
    {
     "data": {
      "text/html": [
       "<div>\n",
       "<style scoped>\n",
       "    .dataframe tbody tr th:only-of-type {\n",
       "        vertical-align: middle;\n",
       "    }\n",
       "\n",
       "    .dataframe tbody tr th {\n",
       "        vertical-align: top;\n",
       "    }\n",
       "\n",
       "    .dataframe thead th {\n",
       "        text-align: right;\n",
       "    }\n",
       "</style>\n",
       "<table border=\"1\" class=\"dataframe\">\n",
       "  <thead>\n",
       "    <tr style=\"text-align: right;\">\n",
       "      <th></th>\n",
       "      <th>Order ID</th>\n",
       "      <th>Order Status</th>\n",
       "      <th>Product Name</th>\n",
       "      <th>Quantity</th>\n",
       "      <th>Unit Price</th>\n",
       "      <th>Total Price</th>\n",
       "      <th>Sub Total</th>\n",
       "      <th>Delivery Charge</th>\n",
       "      <th>Payment Method</th>\n",
       "      <th>Customer ID</th>\n",
       "      <th>Merchant</th>\n",
       "      <th>Order Time</th>\n",
       "      <th>Customer Country</th>\n",
       "    </tr>\n",
       "  </thead>\n",
       "  <tbody>\n",
       "    <tr>\n",
       "      <th>2091</th>\n",
       "      <td>8346601</td>\n",
       "      <td>1</td>\n",
       "      <td>Bimo galette senior 300g</td>\n",
       "      <td>4</td>\n",
       "      <td>1.50</td>\n",
       "      <td>6.00</td>\n",
       "      <td>8.84</td>\n",
       "      <td>NaN</td>\n",
       "      <td>CARD_PAY</td>\n",
       "      <td>5554728.0</td>\n",
       "      <td>20152545</td>\n",
       "      <td>2021-01-06 17:28:27</td>\n",
       "      <td>France</td>\n",
       "    </tr>\n",
       "    <tr>\n",
       "      <th>2092</th>\n",
       "      <td>8346601</td>\n",
       "      <td>1</td>\n",
       "      <td>Flan Fraise NOUARA 50g</td>\n",
       "      <td>4</td>\n",
       "      <td>0.71</td>\n",
       "      <td>2.84</td>\n",
       "      <td>8.84</td>\n",
       "      <td>NaN</td>\n",
       "      <td>CARD_PAY</td>\n",
       "      <td>5554728.0</td>\n",
       "      <td>20152545</td>\n",
       "      <td>2021-01-06 17:28:27</td>\n",
       "      <td>France</td>\n",
       "    </tr>\n",
       "    <tr>\n",
       "      <th>6444</th>\n",
       "      <td>2466371431</td>\n",
       "      <td>1</td>\n",
       "      <td>Flan Fraise NOUARA 50g</td>\n",
       "      <td>6</td>\n",
       "      <td>0.71</td>\n",
       "      <td>4.26</td>\n",
       "      <td>25.85</td>\n",
       "      <td>NaN</td>\n",
       "      <td>CARD_PAY</td>\n",
       "      <td>5554728.0</td>\n",
       "      <td>20152545</td>\n",
       "      <td>2021-01-16 07:31:24</td>\n",
       "      <td>France</td>\n",
       "    </tr>\n",
       "    <tr>\n",
       "      <th>6445</th>\n",
       "      <td>2466371431</td>\n",
       "      <td>1</td>\n",
       "      <td>Smen Medina 500g</td>\n",
       "      <td>1</td>\n",
       "      <td>2.37</td>\n",
       "      <td>2.37</td>\n",
       "      <td>25.85</td>\n",
       "      <td>NaN</td>\n",
       "      <td>CARD_PAY</td>\n",
       "      <td>5554728.0</td>\n",
       "      <td>20152545</td>\n",
       "      <td>2021-01-16 07:31:24</td>\n",
       "      <td>France</td>\n",
       "    </tr>\n",
       "    <tr>\n",
       "      <th>6446</th>\n",
       "      <td>2466371431</td>\n",
       "      <td>1</td>\n",
       "      <td>Vinaigre Barco 200ml</td>\n",
       "      <td>1</td>\n",
       "      <td>0.62</td>\n",
       "      <td>0.62</td>\n",
       "      <td>25.85</td>\n",
       "      <td>NaN</td>\n",
       "      <td>CARD_PAY</td>\n",
       "      <td>5554728.0</td>\n",
       "      <td>20152545</td>\n",
       "      <td>2021-01-16 07:31:24</td>\n",
       "      <td>France</td>\n",
       "    </tr>\n",
       "    <tr>\n",
       "      <th>...</th>\n",
       "      <td>...</td>\n",
       "      <td>...</td>\n",
       "      <td>...</td>\n",
       "      <td>...</td>\n",
       "      <td>...</td>\n",
       "      <td>...</td>\n",
       "      <td>...</td>\n",
       "      <td>...</td>\n",
       "      <td>...</td>\n",
       "      <td>...</td>\n",
       "      <td>...</td>\n",
       "      <td>...</td>\n",
       "      <td>...</td>\n",
       "    </tr>\n",
       "    <tr>\n",
       "      <th>21283</th>\n",
       "      <td>3661233955</td>\n",
       "      <td>1</td>\n",
       "      <td>Bimo galette senior 300g</td>\n",
       "      <td>4</td>\n",
       "      <td>1.50</td>\n",
       "      <td>6.00</td>\n",
       "      <td>6.00</td>\n",
       "      <td>NaN</td>\n",
       "      <td>CARD_PAY</td>\n",
       "      <td>7409552.0</td>\n",
       "      <td>20152545</td>\n",
       "      <td>2021-01-14 07:10:40</td>\n",
       "      <td>France</td>\n",
       "    </tr>\n",
       "    <tr>\n",
       "      <th>24976</th>\n",
       "      <td>3773999310</td>\n",
       "      <td>1</td>\n",
       "      <td>Recharge Mobilis 1000 DA</td>\n",
       "      <td>1</td>\n",
       "      <td>1100.00</td>\n",
       "      <td>1100.00</td>\n",
       "      <td>1100.00</td>\n",
       "      <td>NaN</td>\n",
       "      <td>NaN</td>\n",
       "      <td>8155604.0</td>\n",
       "      <td>22539111</td>\n",
       "      <td>2021-01-22 12:55:37</td>\n",
       "      <td>Algeria</td>\n",
       "    </tr>\n",
       "    <tr>\n",
       "      <th>28441</th>\n",
       "      <td>12521320561</td>\n",
       "      <td>1</td>\n",
       "      <td>Bimo galette senior 300g</td>\n",
       "      <td>6</td>\n",
       "      <td>1.50</td>\n",
       "      <td>9.00</td>\n",
       "      <td>14.61</td>\n",
       "      <td>NaN</td>\n",
       "      <td>CARD_PAY</td>\n",
       "      <td>7729196.0</td>\n",
       "      <td>20152545</td>\n",
       "      <td>2021-02-06 13:15:20</td>\n",
       "      <td>France</td>\n",
       "    </tr>\n",
       "    <tr>\n",
       "      <th>28442</th>\n",
       "      <td>12521320561</td>\n",
       "      <td>1</td>\n",
       "      <td>Creme de Riz MHALBI 120g</td>\n",
       "      <td>2</td>\n",
       "      <td>0.93</td>\n",
       "      <td>1.86</td>\n",
       "      <td>14.61</td>\n",
       "      <td>NaN</td>\n",
       "      <td>CARD_PAY</td>\n",
       "      <td>7729196.0</td>\n",
       "      <td>20152545</td>\n",
       "      <td>2021-02-06 13:15:20</td>\n",
       "      <td>France</td>\n",
       "    </tr>\n",
       "    <tr>\n",
       "      <th>28443</th>\n",
       "      <td>12521320561</td>\n",
       "      <td>1</td>\n",
       "      <td>Miel Nounours 1kg</td>\n",
       "      <td>3</td>\n",
       "      <td>1.25</td>\n",
       "      <td>3.75</td>\n",
       "      <td>14.61</td>\n",
       "      <td>NaN</td>\n",
       "      <td>CARD_PAY</td>\n",
       "      <td>7729196.0</td>\n",
       "      <td>20152545</td>\n",
       "      <td>2021-02-06 13:15:20</td>\n",
       "      <td>France</td>\n",
       "    </tr>\n",
       "  </tbody>\n",
       "</table>\n",
       "<p>85 rows × 13 columns</p>\n",
       "</div>"
      ],
      "text/plain": [
       "          Order ID Order Status              Product Name  Quantity  \\\n",
       "2091       8346601            1  Bimo galette senior 300g         4   \n",
       "2092       8346601            1    Flan Fraise NOUARA 50g         4   \n",
       "6444    2466371431            1    Flan Fraise NOUARA 50g         6   \n",
       "6445    2466371431            1          Smen Medina 500g         1   \n",
       "6446    2466371431            1      Vinaigre Barco 200ml         1   \n",
       "...            ...          ...                       ...       ...   \n",
       "21283   3661233955            1  Bimo galette senior 300g         4   \n",
       "24976   3773999310            1  Recharge Mobilis 1000 DA         1   \n",
       "28441  12521320561            1  Bimo galette senior 300g         6   \n",
       "28442  12521320561            1  Creme de Riz MHALBI 120g         2   \n",
       "28443  12521320561            1         Miel Nounours 1kg         3   \n",
       "\n",
       "       Unit Price  Total Price  Sub Total  Delivery Charge Payment Method  \\\n",
       "2091         1.50         6.00       8.84              NaN       CARD_PAY   \n",
       "2092         0.71         2.84       8.84              NaN       CARD_PAY   \n",
       "6444         0.71         4.26      25.85              NaN       CARD_PAY   \n",
       "6445         2.37         2.37      25.85              NaN       CARD_PAY   \n",
       "6446         0.62         0.62      25.85              NaN       CARD_PAY   \n",
       "...           ...          ...        ...              ...            ...   \n",
       "21283        1.50         6.00       6.00              NaN       CARD_PAY   \n",
       "24976     1100.00      1100.00    1100.00              NaN            NaN   \n",
       "28441        1.50         9.00      14.61              NaN       CARD_PAY   \n",
       "28442        0.93         1.86      14.61              NaN       CARD_PAY   \n",
       "28443        1.25         3.75      14.61              NaN       CARD_PAY   \n",
       "\n",
       "       Customer ID  Merchant           Order Time Customer Country  \n",
       "2091     5554728.0  20152545  2021-01-06 17:28:27           France  \n",
       "2092     5554728.0  20152545  2021-01-06 17:28:27           France  \n",
       "6444     5554728.0  20152545  2021-01-16 07:31:24           France  \n",
       "6445     5554728.0  20152545  2021-01-16 07:31:24           France  \n",
       "6446     5554728.0  20152545  2021-01-16 07:31:24           France  \n",
       "...            ...       ...                  ...              ...  \n",
       "21283    7409552.0  20152545  2021-01-14 07:10:40           France  \n",
       "24976    8155604.0  22539111  2021-01-22 12:55:37          Algeria  \n",
       "28441    7729196.0  20152545  2021-02-06 13:15:20           France  \n",
       "28442    7729196.0  20152545  2021-02-06 13:15:20           France  \n",
       "28443    7729196.0  20152545  2021-02-06 13:15:20           France  \n",
       "\n",
       "[85 rows x 13 columns]"
      ]
     },
     "execution_count": 39,
     "metadata": {},
     "output_type": "execute_result"
    }
   ],
   "source": [
    "all_data[all_data[\"Delivery Charge\"].isna()]"
   ]
  },
  {
   "cell_type": "markdown",
   "id": "b96e8451",
   "metadata": {},
   "source": [
    "I noticed there is a <b>date range</b> where the delivery charge is null. <br>\n",
    "I decided to dig more."
   ]
  },
  {
   "cell_type": "code",
   "execution_count": 40,
   "id": "5bf97235",
   "metadata": {
    "scrolled": true
   },
   "outputs": [
    {
     "data": {
      "text/plain": [
       "2021-01-04 11:16:19    41\n",
       "2021-01-02 11:42:28    32\n",
       "2021-01-04 14:21:27    31\n",
       "2021-01-01 14:10:59    26\n",
       "2021-01-07 09:16:49    21\n",
       "2021-01-03 15:03:10     8\n",
       "2021-01-04 13:45:17     4\n",
       "2021-01-05 15:10:46     4\n",
       "2021-01-06 10:27:19     4\n",
       "2021-02-02 18:01:23     3\n",
       "2021-01-07 10:30:23     3\n",
       "2021-01-04 09:37:41     2\n",
       "2021-02-12 11:35:13     2\n",
       "2021-01-07 08:35:59     1\n",
       "2021-01-07 12:29:16     1\n",
       "2021-01-02 14:00:01     1\n",
       "2021-01-15 09:04:30     1\n",
       "2021-01-15 09:00:51     1\n",
       "2021-01-08 08:58:48     1\n",
       "2021-01-07 16:50:15     1\n",
       "2021-01-07 15:04:36     1\n",
       "2021-01-07 12:39:03     1\n",
       "2021-01-03 11:16:24     1\n",
       "2021-01-03 11:52:50     1\n",
       "2021-01-06 13:32:20     1\n",
       "2021-01-06 13:16:31     1\n",
       "2021-01-03 15:18:38     1\n",
       "2021-01-05 13:52:14     1\n",
       "2021-01-19 14:01:46     1\n",
       "2021-01-12 13:59:54     1\n",
       "2021-01-06 12:18:18     1\n",
       "2021-01-07 15:53:25     1\n",
       "2021-01-12 13:47:28     1\n",
       "Name: Order Time, dtype: int64"
      ]
     },
     "execution_count": 40,
     "metadata": {},
     "output_type": "execute_result"
    }
   ],
   "source": [
    "all_data[all_data[\"Delivery Charge\"]==0][\"Order Time\"].value_counts()"
   ]
  },
  {
   "cell_type": "code",
   "execution_count": 41,
   "id": "f95c1d13",
   "metadata": {},
   "outputs": [
    {
     "data": {
      "text/plain": [
       "2021-02-05 12:00:14    20\n",
       "2021-02-01 23:07:28    16\n",
       "2021-02-06 14:47:46    13\n",
       "2021-02-08 20:21:21    11\n",
       "2021-01-21 15:26:27     8\n",
       "2021-01-16 07:31:24     6\n",
       "2021-02-06 13:15:20     3\n",
       "2021-01-06 17:28:27     2\n",
       "2021-02-02 15:00:56     2\n",
       "2021-02-05 11:56:51     1\n",
       "2021-02-05 11:58:02     1\n",
       "2021-01-14 07:10:40     1\n",
       "2021-01-22 12:55:37     1\n",
       "Name: Order Time, dtype: int64"
      ]
     },
     "execution_count": 41,
     "metadata": {},
     "output_type": "execute_result"
    }
   ],
   "source": [
    "all_data[all_data[\"Delivery Charge\"].isna()][\"Order Time\"].value_counts()"
   ]
  },
  {
   "cell_type": "code",
   "execution_count": 42,
   "id": "d5bf4187",
   "metadata": {},
   "outputs": [
    {
     "data": {
      "text/plain": [
       "85"
      ]
     },
     "execution_count": 42,
     "metadata": {},
     "output_type": "execute_result"
    }
   ],
   "source": [
    "all_data[(all_data[\"Order Time\"]<\"2021-02-09\") & (all_data[\"Order Time\"]>\"2021-01-03\")][\"Delivery Charge\"].isna().sum()"
   ]
  },
  {
   "cell_type": "markdown",
   "id": "c64bc130",
   "metadata": {},
   "source": [
    "<br>We can see that in the same <b>date range</b> of the missing values there is all the <b>free</b> deliveries.<br>\n",
    "So, I decided to replace missing values with <b>0</b>."
   ]
  },
  {
   "cell_type": "code",
   "execution_count": 43,
   "id": "93efbe69",
   "metadata": {},
   "outputs": [],
   "source": [
    "all_data[\"Delivery Charge\"] = all_data[\"Delivery Charge\"].fillna(0)"
   ]
  },
  {
   "cell_type": "markdown",
   "id": "12664250",
   "metadata": {},
   "source": [
    "### `Payment Method` column\n",
    "I should deal with missing values and then make it categorcial."
   ]
  },
  {
   "cell_type": "code",
   "execution_count": 44,
   "id": "ad2779e4",
   "metadata": {},
   "outputs": [
    {
     "data": {
      "text/plain": [
       "array(['CASH_PAY', 'CARD_PAY', 'CASH', nan, '0'], dtype=object)"
      ]
     },
     "execution_count": 44,
     "metadata": {},
     "output_type": "execute_result"
    }
   ],
   "source": [
    "all_data[\"Payment Method\"].unique()"
   ]
  },
  {
   "cell_type": "code",
   "execution_count": 45,
   "id": "6f2367f7",
   "metadata": {},
   "outputs": [
    {
     "data": {
      "text/plain": [
       "array(['CASH_PAY', 'CARD_PAY', 'CASH', nan], dtype=object)"
      ]
     },
     "metadata": {},
     "output_type": "display_data"
    },
    {
     "data": {
      "text/plain": [
       "551"
      ]
     },
     "execution_count": 45,
     "metadata": {},
     "output_type": "execute_result"
    }
   ],
   "source": [
    "all_data[\"Payment Method\"] = all_data[\"Payment Method\"].str.strip(\"0\").replace('', np.nan)\n",
    "display(all_data[\"Payment Method\"].unique())\n",
    "all_data[\"Payment Method\"].isna().sum()"
   ]
  },
  {
   "cell_type": "markdown",
   "id": "f5445861",
   "metadata": {},
   "source": [
    "The customer pays an order which has an <b>Order ID</b> with a single <b>Payment Method</b>.<br>\n",
    "I decided to look in orders with missing payment method and see if there is a payment method value in <b>other rows</b>."
   ]
  },
  {
   "cell_type": "code",
   "execution_count": 46,
   "id": "469ac150",
   "metadata": {},
   "outputs": [
    {
     "data": {
      "text/plain": [
       "551"
      ]
     },
     "execution_count": 46,
     "metadata": {},
     "output_type": "execute_result"
    }
   ],
   "source": [
    "orders = all_data[all_data[\"Payment Method\"].isna()][\"Order ID\"].unique()\n",
    "indexes = all_data[all_data[\"Payment Method\"].isna()].index\n",
    "for index in indexes :\n",
    "    order = all_data.loc[index, \"Order ID\"]\n",
    "    a = all_data[all_data[\"Order ID\"]==order][\"Payment Method\"].mode()\n",
    "    if len(a) != 0 & order in orders :\n",
    "        all_data.loc[index, \"Payment Method\"] = a\n",
    "all_data[\"Payment Method\"].isna().sum()"
   ]
  },
  {
   "cell_type": "markdown",
   "id": "911a78e1",
   "metadata": {},
   "source": [
    "Unfortanitly, all rows of these orders has a <b>missing `Payment Method` cell</b>."
   ]
  },
  {
   "cell_type": "markdown",
   "id": "03c3d7b0",
   "metadata": {},
   "source": [
    "Now, I decided to replace payment method with the most used method for each customer."
   ]
  },
  {
   "cell_type": "code",
   "execution_count": 47,
   "id": "189f0611",
   "metadata": {},
   "outputs": [
    {
     "data": {
      "text/plain": [
       "86"
      ]
     },
     "execution_count": 47,
     "metadata": {},
     "output_type": "execute_result"
    }
   ],
   "source": [
    "customers = all_data[all_data[\"Payment Method\"].isna()][\"Customer ID\"].unique()\n",
    "indexes = all_data[all_data[\"Payment Method\"].isna()].index\n",
    "for index in indexes :\n",
    "    customer = all_data.loc[index, \"Customer ID\"]\n",
    "    a = all_data[all_data[\"Customer ID\"]==customer][\"Payment Method\"].mode().values\n",
    "    if len(a) != 0 :\n",
    "        if customer in customers :\n",
    "            all_data.loc[index, \"Payment Method\"] = a\n",
    "all_data[\"Payment Method\"].isna().sum()"
   ]
  },
  {
   "cell_type": "code",
   "execution_count": 48,
   "id": "d9096ebe",
   "metadata": {},
   "outputs": [
    {
     "data": {
      "text/plain": [
       "array([5441768., 6335340.])"
      ]
     },
     "execution_count": 48,
     "metadata": {},
     "output_type": "execute_result"
    }
   ],
   "source": [
    "all_data[all_data[\"Payment Method\"].isna()][\"Customer ID\"].unique()"
   ]
  },
  {
   "cell_type": "markdown",
   "id": "daf3564b",
   "metadata": {},
   "source": [
    "These 2 customers are the only ones who never mentioned their Payment Method.<br>\n",
    "I decided to fill their values with the frequent payment method in each one country."
   ]
  },
  {
   "cell_type": "code",
   "execution_count": 49,
   "id": "a7d32f9b",
   "metadata": {},
   "outputs": [
    {
     "name": "stdout",
     "output_type": "stream",
     "text": [
      "['Algeria']\n",
      "['Algeria']\n"
     ]
    }
   ],
   "source": [
    "customers_no_pm = all_data[all_data[\"Payment Method\"].isna()][\"Customer ID\"].unique()\n",
    "for customer in customers_no_pm :\n",
    "    print(all_data[all_data[\"Customer ID\"]==customer][\"Customer Country\"].unique())"
   ]
  },
  {
   "cell_type": "code",
   "execution_count": 50,
   "id": "34f9b8f3",
   "metadata": {},
   "outputs": [
    {
     "data": {
      "text/plain": [
       "0"
      ]
     },
     "execution_count": 50,
     "metadata": {},
     "output_type": "execute_result"
    }
   ],
   "source": [
    "indexes = all_data[all_data[\"Payment Method\"].isna()].index\n",
    "for index in indexes :\n",
    "    all_data.loc[index, \"Payment Method\"] = all_data[all_data[\"Customer Country\"]==\"Algeria\"][\"Payment Method\"].mode().values\n",
    "all_data[\"Payment Method\"].isna().sum()"
   ]
  },
  {
   "cell_type": "code",
   "execution_count": 51,
   "id": "dd6da367",
   "metadata": {},
   "outputs": [],
   "source": [
    "fig = px.histogram(data_frame=all_data, \n",
    "                   x=\"Payment Method\", \n",
    "                   template=\"presentation\", \n",
    "                   title=\"Payment Methods over all data\")\n",
    "# fig.show()"
   ]
  },
  {
   "cell_type": "markdown",
   "id": "1983a5dd",
   "metadata": {},
   "source": [
    "<img src=\"plots\\newplot (2).png\"><br>"
   ]
  },
  {
   "cell_type": "markdown",
   "id": "47b3e1a8",
   "metadata": {},
   "source": [
    "<b>CASH_PAY</b> and <b>CASH</b> is the same thing !"
   ]
  },
  {
   "cell_type": "code",
   "execution_count": 52,
   "id": "c2f67b38-8a35-4a85-8fed-e76de727c482",
   "metadata": {},
   "outputs": [
    {
     "data": {
      "text/plain": [
       "array(['CASH_PAY', 'CARD_PAY'], dtype=object)"
      ]
     },
     "execution_count": 52,
     "metadata": {},
     "output_type": "execute_result"
    }
   ],
   "source": [
    "all_data[\"Payment Method\"] = all_data[\"Payment Method\"].replace(\"CASH\", \"CASH_PAY\")\n",
    "all_data[\"Payment Method\"].unique()"
   ]
  },
  {
   "cell_type": "code",
   "execution_count": 53,
   "id": "e6aede1b-9ad6-4e4e-8546-a1b60b46fd0e",
   "metadata": {},
   "outputs": [],
   "source": [
    "fig = px.histogram(data_frame=all_data, \n",
    "                   x=\"Payment Method\", \n",
    "                   template=\"presentation\", \n",
    "                   title=\"Payment Methods over all data\")\n",
    "# fig.show()"
   ]
  },
  {
   "cell_type": "markdown",
   "id": "67b9270f-eb56-424a-8321-8ea16fb0c41d",
   "metadata": {},
   "source": [
    "<img src=\"plots\\newplot (3).png\"><br>"
   ]
  },
  {
   "cell_type": "markdown",
   "id": "ff119934-886b-48af-b17d-fc0339ae1abc",
   "metadata": {},
   "source": [
    "Now let’s make it <b>categorical</b>"
   ]
  },
  {
   "cell_type": "code",
   "execution_count": 54,
   "id": "c8fd97de",
   "metadata": {},
   "outputs": [
    {
     "data": {
      "text/plain": [
       "1    20438\n",
       "0     8838\n",
       "Name: Payment Method, dtype: int64"
      ]
     },
     "execution_count": 54,
     "metadata": {},
     "output_type": "execute_result"
    }
   ],
   "source": [
    "methods = all_data[\"Payment Method\"].unique()\n",
    "for method in methods :\n",
    "    if method == \"CARD_PAY\":\n",
    "        all_data[\"Payment Method\"] = all_data[\"Payment Method\"].replace(method, 1)\n",
    "    else :\n",
    "        all_data[\"Payment Method\"] = all_data[\"Payment Method\"].replace(method, 0)\n",
    "all_data[\"Payment Method\"].value_counts()"
   ]
  },
  {
   "cell_type": "code",
   "execution_count": 55,
   "id": "4ccb1b6c-98c0-4234-9da8-1bb3af172f00",
   "metadata": {},
   "outputs": [],
   "source": [
    "all_data[\"Payment Method\"] = all_data[\"Payment Method\"].astype(\"category\")"
   ]
  },
  {
   "cell_type": "markdown",
   "id": "7799efc7-1196-4ef8-8e05-1ae0df797bb2",
   "metadata": {},
   "source": [
    "### `Merchant` column \n",
    "It should be categorical."
   ]
  },
  {
   "cell_type": "code",
   "execution_count": 56,
   "id": "314c8147-c8f8-436d-9fbe-8972a615e514",
   "metadata": {},
   "outputs": [],
   "source": [
    "all_data[\"Merchant\"] = all_data[\"Merchant\"].astype(\"category\")"
   ]
  },
  {
   "cell_type": "markdown",
   "id": "8deda4fc",
   "metadata": {},
   "source": [
    "### `Order Time` column \n",
    "It should be in datetime type."
   ]
  },
  {
   "cell_type": "code",
   "execution_count": 57,
   "id": "d5ef77bc",
   "metadata": {},
   "outputs": [
    {
     "data": {
      "text/plain": [
       "array([], dtype=object)"
      ]
     },
     "execution_count": 57,
     "metadata": {},
     "output_type": "execute_result"
    }
   ],
   "source": [
    "#Verifying non datetime values\n",
    "all_data[pd.to_datetime(all_data[\"Order Time\"], errors='coerce').isna()][\"Order Time\"].unique()"
   ]
  },
  {
   "cell_type": "code",
   "execution_count": 58,
   "id": "130e8395",
   "metadata": {},
   "outputs": [],
   "source": [
    "all_data[\"Order Time\"] = pd.to_datetime(all_data[\"Order Time\"], errors='coerce')"
   ]
  },
  {
   "cell_type": "markdown",
   "id": "9adcb4f6",
   "metadata": {},
   "source": [
    "### `Customer Country` column\n",
    "I should deal with missing values and then make it categorcial."
   ]
  },
  {
   "cell_type": "markdown",
   "id": "f5a97545",
   "metadata": {},
   "source": [
    "The customer orders an <b>Order ID</b> from a single <b>Country</b>.<br>\n",
    "I decided to look in orders with missing country values and see if there is a country value in <b>other rows</b>."
   ]
  },
  {
   "cell_type": "code",
   "execution_count": 59,
   "id": "4a6758cd",
   "metadata": {},
   "outputs": [
    {
     "data": {
      "text/plain": [
       "79"
      ]
     },
     "execution_count": 59,
     "metadata": {},
     "output_type": "execute_result"
    }
   ],
   "source": [
    "all_data[\"Customer Country\"].isna().sum()"
   ]
  },
  {
   "cell_type": "code",
   "execution_count": 60,
   "id": "02b595bb",
   "metadata": {},
   "outputs": [
    {
     "data": {
      "text/plain": [
       "79"
      ]
     },
     "execution_count": 60,
     "metadata": {},
     "output_type": "execute_result"
    }
   ],
   "source": [
    "orders = all_data[all_data[\"Customer Country\"].isna()][\"Order ID\"].unique()\n",
    "indexes = all_data[all_data[\"Customer Country\"].isna()].index\n",
    "for index in indexes :\n",
    "    order = all_data.loc[index, \"Order ID\"]\n",
    "    a = all_data[all_data[\"Order ID\"]==order][\"Customer Country\"].mode()\n",
    "    if len(a) != 0 & order in orders :\n",
    "        all_data.loc[index, \"Customer Country\"] = a\n",
    "all_data[\"Customer Country\"].isna().sum()"
   ]
  },
  {
   "cell_type": "markdown",
   "id": "054ed969",
   "metadata": {},
   "source": [
    "Unfortanitly, all rows of these orders has a <b>missing `Customer Country` cell</b>"
   ]
  },
  {
   "cell_type": "markdown",
   "id": "59d1b0fc",
   "metadata": {},
   "source": [
    "Each Customer <b>generally</b> lives in one Country and makes his orders from there.<br>\n",
    "I decided to replace NaN values with a country value in <b>other rows</b> of the customer if he has only purchased from a single country."
   ]
  },
  {
   "cell_type": "code",
   "execution_count": 61,
   "id": "5730a603",
   "metadata": {},
   "outputs": [
    {
     "data": {
      "text/plain": [
       "63"
      ]
     },
     "execution_count": 61,
     "metadata": {},
     "output_type": "execute_result"
    }
   ],
   "source": [
    "customers = all_data[all_data[\"Customer Country\"].isna()][\"Customer ID\"].unique()\n",
    "indexes = all_data[all_data[\"Customer Country\"].isna()].index\n",
    "for index in indexes :\n",
    "    customer = all_data.loc[index, \"Customer ID\"]\n",
    "    a = all_data[all_data[\"Customer ID\"]==customer][\"Customer Country\"].mode().values\n",
    "    if len(a) == 1 :\n",
    "        if customer in customers :\n",
    "            all_data.loc[index, \"Customer Country\"] = a\n",
    "all_data[\"Customer Country\"].isna().sum()"
   ]
  },
  {
   "cell_type": "markdown",
   "id": "7b733930",
   "metadata": {},
   "source": [
    "There are still rows with missing country values.<br>\n",
    "I decided to fill it with the most frequent country in the dataset."
   ]
  },
  {
   "cell_type": "code",
   "execution_count": 62,
   "id": "95b3522e",
   "metadata": {},
   "outputs": [
    {
     "data": {
      "text/plain": [
       "'Algeria'"
      ]
     },
     "execution_count": 62,
     "metadata": {},
     "output_type": "execute_result"
    }
   ],
   "source": [
    "all_data[\"Customer Country\"].mode().values[0]"
   ]
  },
  {
   "cell_type": "code",
   "execution_count": 63,
   "id": "7f9f2d66",
   "metadata": {},
   "outputs": [
    {
     "data": {
      "text/plain": [
       "0"
      ]
     },
     "execution_count": 63,
     "metadata": {},
     "output_type": "execute_result"
    }
   ],
   "source": [
    "all_data[\"Customer Country\"] = all_data[\"Customer Country\"].fillna(all_data[\"Customer Country\"].mode().values[0])\n",
    "all_data[\"Customer Country\"].isna().sum()"
   ]
  },
  {
   "cell_type": "code",
   "execution_count": 64,
   "id": "a322b62e",
   "metadata": {},
   "outputs": [],
   "source": [
    "fig=px.histogram(data_frame=all_data, \n",
    "                 x=\"Customer Country\", \n",
    "                 template=\"presentation\", \n",
    "                 title=\"Customer countries across all orders\")\n",
    "# fig.update_layout(\n",
    "#                 {'xaxis':\n",
    "#                     {'title':\n",
    "#                         {'text': \"\"}\n",
    "#                         }})\n",
    "# fig.show()"
   ]
  },
  {
   "cell_type": "markdown",
   "id": "6ce16f05",
   "metadata": {},
   "source": [
    "<img src=\"plots\\newplot (4).png\"><br>"
   ]
  },
  {
   "cell_type": "code",
   "execution_count": 65,
   "id": "7d2d60c0",
   "metadata": {},
   "outputs": [
    {
     "name": "stdout",
     "output_type": "stream",
     "text": [
      "Algeria is present in the data with 97.88%\n"
     ]
    }
   ],
   "source": [
    "p = np.round(all_data[\"Customer Country\"].value_counts()[\"Algeria\"] / all_data.shape[0] * 100 , 2)\n",
    "print(f\"Algeria is present in the data with {p}%\")"
   ]
  },
  {
   "cell_type": "markdown",
   "id": "833616d1",
   "metadata": {},
   "source": [
    "I will replace all other countries by 0 and Algeria by 1.<br>\n",
    "So it wil be <b>`1` for Algeria</b> and <b>`0` for other countries</b>."
   ]
  },
  {
   "cell_type": "code",
   "execution_count": 66,
   "id": "5e06e4e6",
   "metadata": {},
   "outputs": [
    {
     "data": {
      "text/plain": [
       "1    28655\n",
       "0      621\n",
       "Name: Customer Country, dtype: int64"
      ]
     },
     "execution_count": 66,
     "metadata": {},
     "output_type": "execute_result"
    }
   ],
   "source": [
    "countries = all_data[\"Customer Country\"].unique()\n",
    "for country in countries :\n",
    "    if country == \"Algeria\":\n",
    "        all_data[\"Customer Country\"] = all_data[\"Customer Country\"].replace(country, 1)\n",
    "    else :\n",
    "        all_data[\"Customer Country\"] = all_data[\"Customer Country\"].replace(country, 0)\n",
    "all_data[\"Customer Country\"].value_counts()"
   ]
  },
  {
   "cell_type": "code",
   "execution_count": 67,
   "id": "277ba3aa-72bf-4931-a23e-5e2bba49fa0d",
   "metadata": {},
   "outputs": [],
   "source": [
    "all_data[\"Customer Country\"] = all_data[\"Customer Country\"].astype(\"category\")"
   ]
  },
  {
   "cell_type": "markdown",
   "id": "13d41d07",
   "metadata": {},
   "source": [
    "### `Product Name` column\n",
    "No missing values so I should only make it categorical."
   ]
  },
  {
   "cell_type": "code",
   "execution_count": 68,
   "id": "4c8dd4f3",
   "metadata": {},
   "outputs": [
    {
     "data": {
      "text/plain": [
       "03 fardeaux Ifri + 1 offert                                                                   277\n",
       "2 Fardeaux Ifri                                                                               274\n",
       "03 Fardeaux Ifri + 1 Offert                                                                   260\n",
       "IFRI eau minerale 1.5l x 6                                                                    173\n",
       "SKOR sucre 5kg                                                                                151\n",
       "                                                                                             ... \n",
       "BLEDILAIT 3 grand format 1.2kg                                                                  1\n",
       "Promo: 1 Depoussierant O'CEDAR + 1 Detachant textile VANISH + 1 Savon Antibacterien Dettol      1\n",
       "Zambak Plastik - Ensemble Maxitablet Mop - Seau Magique + Balai Ã Plat 360Â° - Bleu             1\n",
       "MOLFIX mm n1/40pcs                                                                              1\n",
       "Airpods I15 Original                                                                            1\n",
       "Name: Product Name, Length: 3450, dtype: int64"
      ]
     },
     "execution_count": 68,
     "metadata": {},
     "output_type": "execute_result"
    }
   ],
   "source": [
    "all_data[\"Product Name\"].value_counts()"
   ]
  },
  {
   "cell_type": "markdown",
   "id": "b0569c2d",
   "metadata": {},
   "source": [
    "<br>I chose to ignore products with <b>less than 10 counts</b> (I will consider them as \"Other products\")"
   ]
  },
  {
   "cell_type": "code",
   "execution_count": 69,
   "id": "926d6b42",
   "metadata": {},
   "outputs": [
    {
     "data": {
      "text/plain": [
       "Index(['03 fardeaux Ifri + 1 offert', '2 Fardeaux Ifri',\n",
       "       '03 Fardeaux Ifri + 1 Offert', 'IFRI eau minerale 1.5l x 6',\n",
       "       'SKOR sucre 5kg', 'SIM spaghetti NÂ°7 500g', 'Elio 5L',\n",
       "       'CANDIA lait partiellement ecreme 1l', 'Test Javel 1L',\n",
       "       'Viande hachee 250 Gr',\n",
       "       ...\n",
       "       'Kool 80g', 'DANONE danino 100g', 'AL RAAI beurre 200g',\n",
       "       'FANTA citron 1l', 'Recharge ooredoo 4000DA', '1001 cafe 250g',\n",
       "       'RICAMAR thon 3pcs', 'Concombres 250gr',\n",
       "       'DANONE yaourt aromatise - cocktail 95g', 'Haricots Verts 250gr'],\n",
       "      dtype='object', length=782)"
      ]
     },
     "execution_count": 69,
     "metadata": {},
     "output_type": "execute_result"
    }
   ],
   "source": [
    "product_set = pd. DataFrame(all_data[\"Product Name\"].value_counts())\n",
    "product_set = product_set.rename(columns={\"Product Name\" : \"Count\"})\n",
    "products = product_set[product_set[\"Count\"]>10].index\n",
    "products1 = product_set[product_set[\"Count\"]<=10].index\n",
    "products"
   ]
  },
  {
   "cell_type": "code",
   "execution_count": 70,
   "id": "4a77f4d5",
   "metadata": {},
   "outputs": [
    {
     "data": {
      "text/plain": [
       "782    8124\n",
       "0       277\n",
       "1       274\n",
       "2       260\n",
       "3       173\n",
       "       ... \n",
       "776      11\n",
       "740      11\n",
       "762      11\n",
       "736      11\n",
       "777      11\n",
       "Name: Product Name, Length: 783, dtype: int64"
      ]
     },
     "execution_count": 70,
     "metadata": {},
     "output_type": "execute_result"
    }
   ],
   "source": [
    "j=0\n",
    "for product in products :\n",
    "    all_data[\"Product Name\"] = all_data[\"Product Name\"].replace(product, j)\n",
    "    j= j + 1\n",
    "for product in products1 :\n",
    "    all_data[\"Product Name\"] = all_data[\"Product Name\"].replace(product, products.shape[0])\n",
    "all_data[\"Product Name\"].value_counts()"
   ]
  },
  {
   "cell_type": "code",
   "execution_count": 71,
   "id": "15d7d51e-35a7-465d-896e-f55ce8e49bed",
   "metadata": {},
   "outputs": [],
   "source": [
    "all_data[\"Product Name\"] = all_data[\"Product Name\"].astype(\"category\")"
   ]
  },
  {
   "cell_type": "markdown",
   "id": "d4563517-256b-4195-884b-ac957217d7ea",
   "metadata": {},
   "source": [
    "### Adding a `Week day` column\n",
    "I decided to add a new column containing the week day of the order."
   ]
  },
  {
   "cell_type": "code",
   "execution_count": 72,
   "id": "9df2eb60-672a-488e-9f17-952271741c7b",
   "metadata": {},
   "outputs": [
    {
     "data": {
      "text/plain": [
       "Friday       4958\n",
       "Tuesday      4688\n",
       "Saturday     4655\n",
       "Thursday     4218\n",
       "Monday       3719\n",
       "Wednesday    3523\n",
       "Sunday       3515\n",
       "Name: Week day, dtype: int64"
      ]
     },
     "execution_count": 72,
     "metadata": {},
     "output_type": "execute_result"
    }
   ],
   "source": [
    "all_data[\"Week day\"] = all_data[\"Order Time\"].dt.day_name()\n",
    "all_data[\"Week day\"].value_counts()"
   ]
  },
  {
   "cell_type": "markdown",
   "id": "3f0a9e5f-88bb-4b33-a1f9-0e727721a1b7",
   "metadata": {},
   "source": [
    "We can easily see that the days (\"Friday\", \"Thursday\", and \"Saturday\") which represents <b>Week-end</b> days are the most present in the data.<br>\n",
    "So, I can say that it is usefull to add this column.<br>\n",
    "Now, I have to make it categorical."
   ]
  },
  {
   "cell_type": "code",
   "execution_count": 73,
   "id": "0546c31e-7b46-4876-a69f-468eb1d5a408",
   "metadata": {},
   "outputs": [],
   "source": [
    "days = all_data[\"Week day\"].unique()\n",
    "i = 0\n",
    "for day in days :\n",
    "    all_data[\"Week day\"] = all_data[\"Week day\"].replace(day, i)\n",
    "    i = i+1"
   ]
  },
  {
   "cell_type": "code",
   "execution_count": 74,
   "id": "042d364e-4d70-4d2e-8c62-bd512c77fb3f",
   "metadata": {},
   "outputs": [],
   "source": [
    "all_data[\"Week day\"] = all_data[\"Week day\"].astype(\"category\")"
   ]
  },
  {
   "cell_type": "markdown",
   "id": "d6cd21a5",
   "metadata": {},
   "source": [
    "### Verifying my cleaning result "
   ]
  },
  {
   "cell_type": "code",
   "execution_count": 75,
   "id": "3b59fa81",
   "metadata": {},
   "outputs": [
    {
     "data": {
      "text/html": [
       "<div>\n",
       "<style scoped>\n",
       "    .dataframe tbody tr th:only-of-type {\n",
       "        vertical-align: middle;\n",
       "    }\n",
       "\n",
       "    .dataframe tbody tr th {\n",
       "        vertical-align: top;\n",
       "    }\n",
       "\n",
       "    .dataframe thead th {\n",
       "        text-align: right;\n",
       "    }\n",
       "</style>\n",
       "<table border=\"1\" class=\"dataframe\">\n",
       "  <thead>\n",
       "    <tr style=\"text-align: right;\">\n",
       "      <th></th>\n",
       "      <th>Column</th>\n",
       "      <th>Data Type</th>\n",
       "      <th>Unique</th>\n",
       "      <th>Null</th>\n",
       "      <th>%null</th>\n",
       "    </tr>\n",
       "  </thead>\n",
       "  <tbody>\n",
       "    <tr>\n",
       "      <th>0</th>\n",
       "      <td>Order ID</td>\n",
       "      <td>int64</td>\n",
       "      <td>3629</td>\n",
       "      <td>0</td>\n",
       "      <td>0.0</td>\n",
       "    </tr>\n",
       "    <tr>\n",
       "      <th>1</th>\n",
       "      <td>Order Status</td>\n",
       "      <td>category</td>\n",
       "      <td>2</td>\n",
       "      <td>0</td>\n",
       "      <td>0.0</td>\n",
       "    </tr>\n",
       "    <tr>\n",
       "      <th>2</th>\n",
       "      <td>Product Name</td>\n",
       "      <td>category</td>\n",
       "      <td>783</td>\n",
       "      <td>0</td>\n",
       "      <td>0.0</td>\n",
       "    </tr>\n",
       "    <tr>\n",
       "      <th>3</th>\n",
       "      <td>Quantity</td>\n",
       "      <td>int64</td>\n",
       "      <td>44</td>\n",
       "      <td>0</td>\n",
       "      <td>0.0</td>\n",
       "    </tr>\n",
       "    <tr>\n",
       "      <th>4</th>\n",
       "      <td>Unit Price</td>\n",
       "      <td>float64</td>\n",
       "      <td>513</td>\n",
       "      <td>0</td>\n",
       "      <td>0.0</td>\n",
       "    </tr>\n",
       "    <tr>\n",
       "      <th>5</th>\n",
       "      <td>Total Price</td>\n",
       "      <td>float64</td>\n",
       "      <td>835</td>\n",
       "      <td>0</td>\n",
       "      <td>0.0</td>\n",
       "    </tr>\n",
       "    <tr>\n",
       "      <th>6</th>\n",
       "      <td>Sub Total</td>\n",
       "      <td>float64</td>\n",
       "      <td>1699</td>\n",
       "      <td>0</td>\n",
       "      <td>0.0</td>\n",
       "    </tr>\n",
       "    <tr>\n",
       "      <th>7</th>\n",
       "      <td>Delivery Charge</td>\n",
       "      <td>float64</td>\n",
       "      <td>82</td>\n",
       "      <td>0</td>\n",
       "      <td>0.0</td>\n",
       "    </tr>\n",
       "    <tr>\n",
       "      <th>8</th>\n",
       "      <td>Payment Method</td>\n",
       "      <td>category</td>\n",
       "      <td>2</td>\n",
       "      <td>0</td>\n",
       "      <td>0.0</td>\n",
       "    </tr>\n",
       "    <tr>\n",
       "      <th>9</th>\n",
       "      <td>Customer ID</td>\n",
       "      <td>float64</td>\n",
       "      <td>1766</td>\n",
       "      <td>0</td>\n",
       "      <td>0.0</td>\n",
       "    </tr>\n",
       "    <tr>\n",
       "      <th>10</th>\n",
       "      <td>Merchant</td>\n",
       "      <td>category</td>\n",
       "      <td>57</td>\n",
       "      <td>0</td>\n",
       "      <td>0.0</td>\n",
       "    </tr>\n",
       "    <tr>\n",
       "      <th>11</th>\n",
       "      <td>Order Time</td>\n",
       "      <td>datetime64[ns]</td>\n",
       "      <td>3623</td>\n",
       "      <td>0</td>\n",
       "      <td>0.0</td>\n",
       "    </tr>\n",
       "    <tr>\n",
       "      <th>12</th>\n",
       "      <td>Customer Country</td>\n",
       "      <td>category</td>\n",
       "      <td>2</td>\n",
       "      <td>0</td>\n",
       "      <td>0.0</td>\n",
       "    </tr>\n",
       "    <tr>\n",
       "      <th>13</th>\n",
       "      <td>Week day</td>\n",
       "      <td>category</td>\n",
       "      <td>7</td>\n",
       "      <td>0</td>\n",
       "      <td>0.0</td>\n",
       "    </tr>\n",
       "  </tbody>\n",
       "</table>\n",
       "</div>"
      ],
      "text/plain": [
       "              Column       Data Type  Unique  Null  %null\n",
       "0           Order ID           int64    3629     0    0.0\n",
       "1       Order Status        category       2     0    0.0\n",
       "2       Product Name        category     783     0    0.0\n",
       "3           Quantity           int64      44     0    0.0\n",
       "4         Unit Price         float64     513     0    0.0\n",
       "5        Total Price         float64     835     0    0.0\n",
       "6          Sub Total         float64    1699     0    0.0\n",
       "7    Delivery Charge         float64      82     0    0.0\n",
       "8     Payment Method        category       2     0    0.0\n",
       "9        Customer ID         float64    1766     0    0.0\n",
       "10          Merchant        category      57     0    0.0\n",
       "11        Order Time  datetime64[ns]    3623     0    0.0\n",
       "12  Customer Country        category       2     0    0.0\n",
       "13          Week day        category       7     0    0.0"
      ]
     },
     "execution_count": 75,
     "metadata": {},
     "output_type": "execute_result"
    }
   ],
   "source": [
    "summary(all_data)"
   ]
  },
  {
   "cell_type": "markdown",
   "id": "42c3f2ee-01e7-4ef9-b970-b1e0022735a8",
   "metadata": {
    "tags": []
   },
   "source": [
    "### Reseperating train and test sets"
   ]
  },
  {
   "cell_type": "code",
   "execution_count": 76,
   "id": "2855cc05-a783-42c9-8b91-793eafbe1bab",
   "metadata": {
    "scrolled": true
   },
   "outputs": [],
   "source": [
    "train_final = all_data[all_data.index< train_set.shape[0]]\n",
    "train_final.loc[:,\"Target\"] = train_set.loc[:,\"Purchase Again\"]\n",
    "test_final = all_data[all_data.index>= train_set.shape[0]]"
   ]
  },
  {
   "cell_type": "markdown",
   "id": "e46cc165-fabe-406b-ac9f-5238acd38907",
   "metadata": {
    "tags": []
   },
   "source": [
    "<a name=\"toc_3\"></a>\n",
    "## 3. Feature Engineering <a name='Feature Engineering'></a>"
   ]
  },
  {
   "cell_type": "markdown",
   "id": "c0130355-5f54-496c-9bb3-e201136a94d5",
   "metadata": {},
   "source": [
    "We must always remember that in this challenge, we predict the future purchase for each `customer ID`.<br> \n",
    "So I created a new \"train\" and \"test\" data frames where I summarized the features of each customer. "
   ]
  },
  {
   "cell_type": "code",
   "execution_count": 77,
   "id": "a2cca845-e380-4ec6-9294-65d9c9c9ae48",
   "metadata": {},
   "outputs": [],
   "source": [
    "train = pd.DataFrame(train_final.groupby(\"Customer ID\"), columns=[\"Customer ID\", \"None\"])\n",
    "train.drop(\"None\", axis=1, inplace=True)"
   ]
  },
  {
   "cell_type": "code",
   "execution_count": 78,
   "id": "6795b86c-1fe8-438c-a5cd-d9fe87d06968",
   "metadata": {},
   "outputs": [],
   "source": [
    "test = pd.DataFrame(test_final.groupby(\"Customer ID\"), columns=[\"Customer ID\", \"None\"])\n",
    "test.drop(\"None\", axis=1, inplace=True)"
   ]
  },
  {
   "cell_type": "markdown",
   "id": "dd528635-05b5-425e-a907-87adbe3e8b94",
   "metadata": {
    "tags": []
   },
   "source": [
    "### `Number Of Orders` column\n",
    "I created a column where I put the number of orders purchased by each customer."
   ]
  },
  {
   "cell_type": "code",
   "execution_count": 79,
   "id": "49594c43-dca2-45b3-b98b-e3952e5acca1",
   "metadata": {
    "tags": []
   },
   "outputs": [],
   "source": [
    "dir = {\"train\": [train, train_final], \"test\": [test, test_final]}\n",
    "for data_set in [\"train\", \"test\"] :\n",
    "    for customer in dir[data_set][0][\"Customer ID\"] :\n",
    "        orders = len(dir[data_set][1][dir[data_set][1][\"Customer ID\"]== customer][\"Order ID\"].unique())\n",
    "        index = dir[data_set][0][dir[data_set][0][\"Customer ID\"]==customer].index[0]\n",
    "        dir[data_set][0].loc[index, \"Number Of Orders\"] = orders"
   ]
  },
  {
   "cell_type": "markdown",
   "id": "f0876a50-0781-40fe-abe9-50b6544705e0",
   "metadata": {
    "tags": []
   },
   "source": [
    "### `Most Purchased Product` column\n",
    "I created a column where I put the most purchased product for each customer."
   ]
  },
  {
   "cell_type": "code",
   "execution_count": 80,
   "id": "f1e766bd-838d-46a0-a2e9-8618d176a7f5",
   "metadata": {},
   "outputs": [],
   "source": [
    "for data_set in [\"train\", \"test\"] :\n",
    "    dir[data_set][0][\"Most Purchased Product\"] = dir[data_set][1].groupby(\"Customer ID\")[\"Product Name\"].describe()[\"top\"].values"
   ]
  },
  {
   "cell_type": "markdown",
   "id": "453989ea-4213-4821-b05f-0dc307b665fe",
   "metadata": {
    "tags": []
   },
   "source": [
    "### `Products/Order` column\n",
    "I created a column where I put the average number of products per order for each customer."
   ]
  },
  {
   "cell_type": "code",
   "execution_count": 81,
   "id": "bb60b29d-f2f5-4da4-8af5-6e6497859181",
   "metadata": {},
   "outputs": [],
   "source": [
    "for data_set in [\"train\", \"test\"] :\n",
    "    for customer in dir[data_set][0][\"Customer ID\"] :\n",
    "            number = np.round(dir[data_set][1][dir[data_set][1][\"Customer ID\"]==customer].groupby(\"Order ID\")[\"Order ID\"].describe()[\"count\"].mean(), 2)\n",
    "            index = dir[data_set][0][dir[data_set][0][\"Customer ID\"]==customer].index[0]\n",
    "            dir[data_set][0].loc[index, \"Products/Order\"] = number"
   ]
  },
  {
   "cell_type": "markdown",
   "id": "b1c380a7-d4a6-4e0e-8ee8-202dddf6e05a",
   "metadata": {
    "tags": []
   },
   "source": [
    "### `Charge/Order` column\n",
    "I created a column where I put the average delivery charge per order for each customer."
   ]
  },
  {
   "cell_type": "code",
   "execution_count": 82,
   "id": "a064de8e-bf47-4482-9870-cb1ac633695e",
   "metadata": {},
   "outputs": [],
   "source": [
    "for data_set in [\"train\", \"test\"] :\n",
    "    for customer in dir[data_set][0][\"Customer ID\"] :\n",
    "            number = dir[data_set][1][dir[data_set][1][\"Customer ID\"]==customer].groupby(\"Order ID\")[\"Delivery Charge\"].sum().sum()\n",
    "            index = dir[data_set][0][dir[data_set][0][\"Customer ID\"]==customer].index[0]\n",
    "            dir[data_set][0].loc[index, \"Charge/Order\"] = number / train.loc[index, \"Number Of Orders\"]"
   ]
  },
  {
   "cell_type": "markdown",
   "id": "f638e5f9-b1e2-4d93-a4aa-636bcba23634",
   "metadata": {
    "tags": []
   },
   "source": [
    "### `Free Charge` column\n",
    "I created a column where I put `1` when the customer got a free delivery charge and `0` when he didn't."
   ]
  },
  {
   "cell_type": "code",
   "execution_count": 83,
   "id": "da377188-940f-4c71-8661-edce65730fac",
   "metadata": {},
   "outputs": [],
   "source": [
    "for data_set in [\"train\", \"test\"] :\n",
    "    dir[data_set][0][\"Free Charge\"] = dir[data_set][1].groupby(\"Customer ID\")[\"Delivery Charge\"].min().values == 0\n",
    "    dir[data_set][0][\"Free Charge\"] = dir[data_set][0][\"Free Charge\"].astype(\"int\")"
   ]
  },
  {
   "cell_type": "markdown",
   "id": "7637ab62-18be-4d0d-bfe3-8cd91cda0bf7",
   "metadata": {
    "tags": []
   },
   "source": [
    "### `Total price` column\n",
    "I created a column where I put the total price paid by each customer."
   ]
  },
  {
   "cell_type": "code",
   "execution_count": 84,
   "id": "5c7be757-8944-425b-9a71-68888dc00465",
   "metadata": {},
   "outputs": [],
   "source": [
    "# We have to pay attention that the Sub Total value of a unique Order ID is usually present more than once (in every product row)\n",
    "for data_set in [\"train\", \"test\"] :\n",
    "    dir[data_set][0][\"Total Price\"] = pd.DataFrame(dir[data_set][1].groupby([\"Customer ID\", \"Order ID\"])[\"Sub Total\"].min()).groupby(\"Customer ID\")[\"Sub Total\"].sum().values"
   ]
  },
  {
   "cell_type": "markdown",
   "id": "fe1f2d73-75c3-442f-bc18-eea34046af07",
   "metadata": {
    "tags": []
   },
   "source": [
    "### `Most Used Payment Method` column\n",
    "I created a column where I put the most used payment method by each customer."
   ]
  },
  {
   "cell_type": "code",
   "execution_count": 85,
   "id": "975ee672-2027-47cc-961d-87c4f0c5ca0c",
   "metadata": {},
   "outputs": [],
   "source": [
    "for data_set in [\"train\", \"test\"] :\n",
    "    dir[data_set][0][\"Most Used Payment Method\"] = dir[data_set][1].groupby(\"Customer ID\")[\"Payment Method\"].describe()[\"top\"].values"
   ]
  },
  {
   "cell_type": "markdown",
   "id": "e5516920-6ddf-4e58-8abd-63876ab8f956",
   "metadata": {
    "tags": []
   },
   "source": [
    "### `Most Merchant` column\n",
    "I created a column where I put the merchant from whom each customer has purchased the most."
   ]
  },
  {
   "cell_type": "code",
   "execution_count": 86,
   "id": "3cde76bc-7cfd-41f2-82b7-b5f7f74072d5",
   "metadata": {},
   "outputs": [],
   "source": [
    "for data_set in [\"train\", \"test\"] :\n",
    "    dir[data_set][0][\"Most Merchant\"] = dir[data_set][1].groupby(\"Customer ID\")[\"Merchant\"].describe()[\"top\"].values"
   ]
  },
  {
   "cell_type": "markdown",
   "id": "4ee766f8-32be-4c37-83c0-93f8b2da16a4",
   "metadata": {
    "tags": []
   },
   "source": [
    "### `Country` column\n",
    "I created a column where I put the country where each customer live."
   ]
  },
  {
   "cell_type": "code",
   "execution_count": 87,
   "id": "3c6bcff0-ef19-450e-8135-917714394f57",
   "metadata": {},
   "outputs": [],
   "source": [
    "for data_set in [\"train\", \"test\"] :\n",
    "    dir[data_set][0][\"Country\"] = dir[data_set][1].groupby(\"Customer ID\")[\"Customer Country\"].describe()[\"top\"].values"
   ]
  },
  {
   "cell_type": "markdown",
   "id": "54a1aee9-4630-4411-9b9a-bbf3f851cddd",
   "metadata": {
    "tags": []
   },
   "source": [
    "### `Most Day` column\n",
    "I created a column where I put the day in which each customer bought the most."
   ]
  },
  {
   "cell_type": "code",
   "execution_count": 88,
   "id": "df14d516-4dda-4aa7-8cd3-85d00a1f936a",
   "metadata": {},
   "outputs": [],
   "source": [
    "for data_set in [\"train\", \"test\"] :\n",
    "    dir[data_set][0][\"Most Day\"] = dir[data_set][1].groupby(\"Customer ID\")[\"Week day\"].describe()[\"top\"].values"
   ]
  },
  {
   "cell_type": "markdown",
   "id": "e02ecbb1-830d-4023-a744-6088fa64dfbd",
   "metadata": {
    "tags": []
   },
   "source": [
    "### `Recency` Column\n",
    "I created a column where I put the number of days since each customer recently purchased compared to the last date contained in the data."
   ]
  },
  {
   "cell_type": "code",
   "execution_count": 89,
   "id": "943555e8-8beb-4350-b856-610376f672a7",
   "metadata": {},
   "outputs": [],
   "source": [
    "last = all_data[\"Order Time\"].max()\n",
    "\n",
    "for data_set in [\"train\", \"test\"] :\n",
    "    max = pd.DataFrame(dir[data_set][1].groupby(\"Customer ID\")[\"Order Time\"].max())[\"Order Time\"]\n",
    "    dir[data_set][0][\"Recency\"] = (last - max).dt.days.values"
   ]
  },
  {
   "cell_type": "markdown",
   "id": "c7193245-19e2-4dec-a18e-52a3a2777899",
   "metadata": {
    "tags": []
   },
   "source": [
    "### `Target` Column\n",
    "This column contains the variable we will predict.<br>\n",
    "But lets first make sure that every customer has a one and only one classification."
   ]
  },
  {
   "cell_type": "code",
   "execution_count": 90,
   "id": "0fee0275-547d-4d00-89c8-1ca2158651fd",
   "metadata": {},
   "outputs": [
    {
     "data": {
      "text/plain": [
       "0"
      ]
     },
     "execution_count": 90,
     "metadata": {},
     "output_type": "execute_result"
    }
   ],
   "source": [
    "variable = train_final.groupby(\"Customer ID\")[\"Target\"]\n",
    "(variable.max() != variable.min()).values.sum()"
   ]
  },
  {
   "cell_type": "markdown",
   "id": "7bc807c0-2b44-41b1-8815-5193904a00db",
   "metadata": {},
   "source": [
    "Cool !!"
   ]
  },
  {
   "cell_type": "code",
   "execution_count": 91,
   "id": "5720eb5e-5faf-4ef2-b548-d28a19b0aaf1",
   "metadata": {
    "tags": []
   },
   "outputs": [
    {
     "data": {
      "text/html": [
       "<div>\n",
       "<style scoped>\n",
       "    .dataframe tbody tr th:only-of-type {\n",
       "        vertical-align: middle;\n",
       "    }\n",
       "\n",
       "    .dataframe tbody tr th {\n",
       "        vertical-align: top;\n",
       "    }\n",
       "\n",
       "    .dataframe thead th {\n",
       "        text-align: right;\n",
       "    }\n",
       "</style>\n",
       "<table border=\"1\" class=\"dataframe\">\n",
       "  <thead>\n",
       "    <tr style=\"text-align: right;\">\n",
       "      <th></th>\n",
       "      <th>Customer ID</th>\n",
       "      <th>Number Of Orders</th>\n",
       "      <th>Most Purchased Product</th>\n",
       "      <th>Products/Order</th>\n",
       "      <th>Charge/Order</th>\n",
       "      <th>Free Charge</th>\n",
       "      <th>Total Price</th>\n",
       "      <th>Most Used Payment Method</th>\n",
       "      <th>Most Merchant</th>\n",
       "      <th>Country</th>\n",
       "      <th>Most Day</th>\n",
       "      <th>Recency</th>\n",
       "      <th>Target</th>\n",
       "    </tr>\n",
       "  </thead>\n",
       "  <tbody>\n",
       "    <tr>\n",
       "      <th>0</th>\n",
       "      <td>1629574.0</td>\n",
       "      <td>4.0</td>\n",
       "      <td>782</td>\n",
       "      <td>1.25</td>\n",
       "      <td>335335.000000</td>\n",
       "      <td>0</td>\n",
       "      <td>1588.0</td>\n",
       "      <td>0</td>\n",
       "      <td>23255526</td>\n",
       "      <td>1</td>\n",
       "      <td>0</td>\n",
       "      <td>8</td>\n",
       "      <td>1</td>\n",
       "    </tr>\n",
       "    <tr>\n",
       "      <th>1</th>\n",
       "      <td>1735264.0</td>\n",
       "      <td>1.0</td>\n",
       "      <td>43</td>\n",
       "      <td>1.00</td>\n",
       "      <td>150150.000000</td>\n",
       "      <td>0</td>\n",
       "      <td>3990.0</td>\n",
       "      <td>0</td>\n",
       "      <td>14379582</td>\n",
       "      <td>1</td>\n",
       "      <td>6</td>\n",
       "      <td>3</td>\n",
       "      <td>0</td>\n",
       "    </tr>\n",
       "    <tr>\n",
       "      <th>2</th>\n",
       "      <td>1755078.0</td>\n",
       "      <td>2.0</td>\n",
       "      <td>2</td>\n",
       "      <td>2.00</td>\n",
       "      <td>400400.000000</td>\n",
       "      <td>0</td>\n",
       "      <td>2621.0</td>\n",
       "      <td>0</td>\n",
       "      <td>23255526</td>\n",
       "      <td>1</td>\n",
       "      <td>3</td>\n",
       "      <td>7</td>\n",
       "      <td>0</td>\n",
       "    </tr>\n",
       "    <tr>\n",
       "      <th>3</th>\n",
       "      <td>1755834.0</td>\n",
       "      <td>9.0</td>\n",
       "      <td>782</td>\n",
       "      <td>3.33</td>\n",
       "      <td>264708.888889</td>\n",
       "      <td>1</td>\n",
       "      <td>21484.0</td>\n",
       "      <td>0</td>\n",
       "      <td>8065701</td>\n",
       "      <td>1</td>\n",
       "      <td>0</td>\n",
       "      <td>2</td>\n",
       "      <td>1</td>\n",
       "    </tr>\n",
       "    <tr>\n",
       "      <th>4</th>\n",
       "      <td>1756892.0</td>\n",
       "      <td>3.0</td>\n",
       "      <td>1</td>\n",
       "      <td>1.33</td>\n",
       "      <td>360360.000000</td>\n",
       "      <td>0</td>\n",
       "      <td>1097.0</td>\n",
       "      <td>0</td>\n",
       "      <td>23255526</td>\n",
       "      <td>1</td>\n",
       "      <td>0</td>\n",
       "      <td>2</td>\n",
       "      <td>1</td>\n",
       "    </tr>\n",
       "  </tbody>\n",
       "</table>\n",
       "</div>"
      ],
      "text/plain": [
       "   Customer ID  Number Of Orders  Most Purchased Product  Products/Order  \\\n",
       "0    1629574.0               4.0                     782            1.25   \n",
       "1    1735264.0               1.0                      43            1.00   \n",
       "2    1755078.0               2.0                       2            2.00   \n",
       "3    1755834.0               9.0                     782            3.33   \n",
       "4    1756892.0               3.0                       1            1.33   \n",
       "\n",
       "    Charge/Order  Free Charge  Total Price  Most Used Payment Method  \\\n",
       "0  335335.000000            0       1588.0                         0   \n",
       "1  150150.000000            0       3990.0                         0   \n",
       "2  400400.000000            0       2621.0                         0   \n",
       "3  264708.888889            1      21484.0                         0   \n",
       "4  360360.000000            0       1097.0                         0   \n",
       "\n",
       "   Most Merchant  Country  Most Day  Recency  Target  \n",
       "0       23255526        1         0        8       1  \n",
       "1       14379582        1         6        3       0  \n",
       "2       23255526        1         3        7       0  \n",
       "3        8065701        1         0        2       1  \n",
       "4       23255526        1         0        2       1  "
      ]
     },
     "execution_count": 91,
     "metadata": {},
     "output_type": "execute_result"
    }
   ],
   "source": [
    "train[\"Target\"] = variable.max().values\n",
    "train.head()"
   ]
  },
  {
   "cell_type": "markdown",
   "id": "f812d97f-fc68-4a0e-a956-26a400e3145e",
   "metadata": {},
   "source": [
    "### Dealing with outliers\n",
    "We have to first detect them"
   ]
  },
  {
   "cell_type": "code",
   "execution_count": 92,
   "id": "c0fffbd3-fd6e-4c8c-873d-499825b79f0f",
   "metadata": {
    "tags": []
   },
   "outputs": [
    {
     "data": {
      "text/plain": [
       "Text(0.5, 1.0, 'Total Price')"
      ]
     },
     "execution_count": 92,
     "metadata": {},
     "output_type": "execute_result"
    },
    {
     "data": {
      "image/png": "[encoded data removed]",
      "text/plain": [
       "<Figure size 1080x1080 with 4 Axes>"
      ]
     },
     "metadata": {
      "needs_background": "light"
     },
     "output_type": "display_data"
    }
   ],
   "source": [
    "fig=plt.figure(figsize=(15, 15)) \n",
    "fig.add_subplot(2,2,1)\n",
    "sns.boxplot(y=train[\"Number Of Orders\"])\n",
    "plt.title(\"Number Of Orders\")\n",
    "\n",
    "fig.add_subplot(2,2,2)\n",
    "sns.boxplot(y=train[\"Products/Order\"])\n",
    "plt.title(\"Products/Order\")\n",
    "\n",
    "fig.add_subplot(2,2,3)\n",
    "sns.boxplot(y=train[\"Charge/Order\"])\n",
    "plt.title(\"Charge/Order\")\n",
    "\n",
    "fig.add_subplot(2,2,4)\n",
    "sns.boxplot(y=train[\"Total Price\"])\n",
    "plt.title(\"Total Price\")"
   ]
  },
  {
   "cell_type": "markdown",
   "id": "56eab960-d253-420b-b61f-03c9334f8802",
   "metadata": {},
   "source": [
    "#### Deleting outliers"
   ]
  },
  {
   "cell_type": "code",
   "execution_count": 93,
   "id": "7b43783e-e686-4007-9591-e5af8758f6db",
   "metadata": {},
   "outputs": [
    {
     "name": "stdout",
     "output_type": "stream",
     "text": [
      "We removed 166 rows\n"
     ]
    }
   ],
   "source": [
    "number = train.shape[0]\n",
    "for column in [\"Number Of Orders\", \"Products/Order\", \"Charge/Order\", \"Total Price\"] :\n",
    "    IQR= train[column].quantile(0.75) - train[column].quantile(0.25)\n",
    "    lower_bridge= train[column].quantile(0.25)-(IQR*3)\n",
    "    upper_bridge= train[column].quantile(0.75)+(IQR*3)\n",
    "    train = train[train[column]<upper_bridge]\n",
    "    train = train[train[column]>lower_bridge]\n",
    "print(f\"We removed {number - train.shape[0]} rows\")"
   ]
  },
  {
   "cell_type": "code",
   "execution_count": 94,
   "id": "0b0d1ded-f5e1-4a78-876d-4d65f07bd895",
   "metadata": {
    "tags": []
   },
   "outputs": [
    {
     "data": {
      "text/plain": [
       "Text(0.5, 1.0, 'Total Price')"
      ]
     },
     "execution_count": 94,
     "metadata": {},
     "output_type": "execute_result"
    },
    {
     "data": {
      "image/png": "[encoded data removed]",
      "text/plain": [
       "<Figure size 1080x1080 with 4 Axes>"
      ]
     },
     "metadata": {
      "needs_background": "light"
     },
     "output_type": "display_data"
    }
   ],
   "source": [
    "fig=plt.figure(figsize=(15, 15)) \n",
    "fig.add_subplot(2,2,1)\n",
    "sns.boxplot(y=train[\"Number Of Orders\"])\n",
    "plt.title(\"Number Of Orders\")\n",
    "\n",
    "fig.add_subplot(2,2,2)\n",
    "sns.boxplot(y=train[\"Products/Order\"])\n",
    "plt.title(\"Products/Order\")\n",
    "\n",
    "fig.add_subplot(2,2,3)\n",
    "sns.boxplot(y=train[\"Charge/Order\"])\n",
    "plt.title(\"Charge/Order\")\n",
    "\n",
    "fig.add_subplot(2,2,4)\n",
    "sns.boxplot(y=train[\"Total Price\"])\n",
    "plt.title(\"Total Price\")"
   ]
  },
  {
   "cell_type": "markdown",
   "id": "27ac5b5f-9daf-4fd8-b927-cf55446eb701",
   "metadata": {},
   "source": [
    "### Correlation matrix"
   ]
  },
  {
   "cell_type": "code",
   "execution_count": 95,
   "id": "4c0304fd-c516-435f-97c9-67c7beb9f6ef",
   "metadata": {},
   "outputs": [],
   "source": [
    "cr = train.corr()\n",
    "fig = go.Figure(go.Heatmap(\n",
    "                        x=cr.columns,\n",
    "                        y=cr.columns,\n",
    "                        z=cr.values.tolist(),\n",
    "                        colorscale='rdylgn', zmin=-1, zmax=1))\n",
    "# fig.update_layout({'title':\n",
    "#                     {'text':\"Correlation heatmap\", 'x':0.5}})\n",
    "# fig.show()"
   ]
  },
  {
   "cell_type": "markdown",
   "id": "09a30583-7659-43c0-b1fc-d75edf384b31",
   "metadata": {},
   "source": [
    "<img src=\"plots\\newplot (5).png\"><br>"
   ]
  },
  {
   "cell_type": "markdown",
   "id": "dc9c7a04-4101-4578-8024-7cc0c504752b",
   "metadata": {},
   "source": [
    "The heatmap looks great"
   ]
  },
  {
   "cell_type": "markdown",
   "id": "e2eb8555-31cd-47b2-aad2-d736c9de7f00",
   "metadata": {
    "tags": []
   },
   "source": [
    "<a name=\"toc_4\"></a>\n",
    "## 4. Machine Learning <a name='Machine Learning'></a>"
   ]
  },
  {
   "cell_type": "markdown",
   "id": "290d5cc7-65e2-4796-a86c-1cad1af107b8",
   "metadata": {},
   "source": [
    "### Using simple Logistic Regression\n",
    "- Feature scaling (Normalize)\n",
    "- Fit the model\n",
    "- Predict Target Value"
   ]
  },
  {
   "cell_type": "code",
   "execution_count": 96,
   "id": "39a8f392-b1b9-4cb0-9e7f-dd53af49f6b0",
   "metadata": {},
   "outputs": [
    {
     "data": {
      "text/html": [
       "<style>#sk-container-id-1 {color: black;background-color: white;}#sk-container-id-1 pre{padding: 0;}#sk-container-id-1 div.sk-toggleable {background-color: white;}#sk-container-id-1 label.sk-toggleable__label {cursor: pointer;display: block;width: 100%;margin-bottom: 0;padding: 0.3em;box-sizing: border-box;text-align: center;}#sk-container-id-1 label.sk-toggleable__label-arrow:before {content: \"▸\";float: left;margin-right: 0.25em;color: #696969;}#sk-container-id-1 label.sk-toggleable__label-arrow:hover:before {color: black;}#sk-container-id-1 div.sk-estimator:hover label.sk-toggleable__label-arrow:before {color: black;}#sk-container-id-1 div.sk-toggleable__content {max-height: 0;max-width: 0;overflow: hidden;text-align: left;background-color: #f0f8ff;}#sk-container-id-1 div.sk-toggleable__content pre {margin: 0.2em;color: black;border-radius: 0.25em;background-color: #f0f8ff;}#sk-container-id-1 input.sk-toggleable__control:checked~div.sk-toggleable__content {max-height: 200px;max-width: 100%;overflow: auto;}#sk-container-id-1 input.sk-toggleable__control:checked~label.sk-toggleable__label-arrow:before {content: \"▾\";}#sk-container-id-1 div.sk-estimator input.sk-toggleable__control:checked~label.sk-toggleable__label {background-color: #d4ebff;}#sk-container-id-1 div.sk-label input.sk-toggleable__control:checked~label.sk-toggleable__label {background-color: #d4ebff;}#sk-container-id-1 input.sk-hidden--visually {border: 0;clip: rect(1px 1px 1px 1px);clip: rect(1px, 1px, 1px, 1px);height: 1px;margin: -1px;overflow: hidden;padding: 0;position: absolute;width: 1px;}#sk-container-id-1 div.sk-estimator {font-family: monospace;background-color: #f0f8ff;border: 1px dotted black;border-radius: 0.25em;box-sizing: border-box;margin-bottom: 0.5em;}#sk-container-id-1 div.sk-estimator:hover {background-color: #d4ebff;}#sk-container-id-1 div.sk-parallel-item::after {content: \"\";width: 100%;border-bottom: 1px solid gray;flex-grow: 1;}#sk-container-id-1 div.sk-label:hover label.sk-toggleable__label {background-color: #d4ebff;}#sk-container-id-1 div.sk-serial::before {content: \"\";position: absolute;border-left: 1px solid gray;box-sizing: border-box;top: 0;bottom: 0;left: 50%;z-index: 0;}#sk-container-id-1 div.sk-serial {display: flex;flex-direction: column;align-items: center;background-color: white;padding-right: 0.2em;padding-left: 0.2em;position: relative;}#sk-container-id-1 div.sk-item {position: relative;z-index: 1;}#sk-container-id-1 div.sk-parallel {display: flex;align-items: stretch;justify-content: center;background-color: white;position: relative;}#sk-container-id-1 div.sk-item::before, #sk-container-id-1 div.sk-parallel-item::before {content: \"\";position: absolute;border-left: 1px solid gray;box-sizing: border-box;top: 0;bottom: 0;left: 50%;z-index: -1;}#sk-container-id-1 div.sk-parallel-item {display: flex;flex-direction: column;z-index: 1;position: relative;background-color: white;}#sk-container-id-1 div.sk-parallel-item:first-child::after {align-self: flex-end;width: 50%;}#sk-container-id-1 div.sk-parallel-item:last-child::after {align-self: flex-start;width: 50%;}#sk-container-id-1 div.sk-parallel-item:only-child::after {width: 0;}#sk-container-id-1 div.sk-dashed-wrapped {border: 1px dashed gray;margin: 0 0.4em 0.5em 0.4em;box-sizing: border-box;padding-bottom: 0.4em;background-color: white;}#sk-container-id-1 div.sk-label label {font-family: monospace;font-weight: bold;display: inline-block;line-height: 1.2em;}#sk-container-id-1 div.sk-label-container {text-align: center;}#sk-container-id-1 div.sk-container {/* jupyter's `normalize.less` sets `[hidden] { display: none; }` but bootstrap.min.css set `[hidden] { display: none !important; }` so we also need the `!important` here to be able to override the default hidden behavior on the sphinx rendered scikit-learn.org. See: https://github.com/scikit-learn/scikit-learn/issues/21755 */display: inline-block !important;position: relative;}#sk-container-id-1 div.sk-text-repr-fallback {display: none;}</style><div id=\"sk-container-id-1\" class=\"sk-top-container\"><div class=\"sk-text-repr-fallback\"><pre>LogisticRegression()</pre><b>In a Jupyter environment, please rerun this cell to show the HTML representation or trust the notebook. <br />On GitHub, the HTML representation is unable to render, please try loading this page with nbviewer.org.</b></div><div class=\"sk-container\" hidden><div class=\"sk-item\"><div class=\"sk-estimator sk-toggleable\"><input class=\"sk-toggleable__control sk-hidden--visually\" id=\"sk-estimator-id-1\" type=\"checkbox\" checked><label for=\"sk-estimator-id-1\" class=\"sk-toggleable__label sk-toggleable__label-arrow\">LogisticRegression</label><div class=\"sk-toggleable__content\"><pre>LogisticRegression()</pre></div></div></div></div></div>"
      ],
      "text/plain": [
       "LogisticRegression()"
      ]
     },
     "execution_count": 96,
     "metadata": {},
     "output_type": "execute_result"
    }
   ],
   "source": [
    "X = train.drop(\"Target\", axis=1)\n",
    "y = train[\"Target\"]\n",
    "\n",
    "scaler = StandardScaler()\n",
    "X_norm = scaler.fit_transform(X)\n",
    "\n",
    "lr_model = LogisticRegression()\n",
    "lr_model.fit(X_norm, y)"
   ]
  },
  {
   "cell_type": "code",
   "execution_count": 97,
   "id": "9bbce20d-fdf4-4de2-ad51-99c11c6f6ea9",
   "metadata": {},
   "outputs": [],
   "source": [
    "test_norm = scaler.fit_transform(test)\n",
    "y_pred = lr_model.predict(test_norm)"
   ]
  },
  {
   "cell_type": "code",
   "execution_count": 98,
   "id": "bb911b4f-9b72-420f-bcb8-b093345e2c72",
   "metadata": {},
   "outputs": [
    {
     "data": {
      "text/plain": [
       "0    709\n",
       "1     58\n",
       "Name: Target, dtype: int64"
      ]
     },
     "execution_count": 98,
     "metadata": {},
     "output_type": "execute_result"
    }
   ],
   "source": [
    "submission = pd.read_csv(\"SampleSubmission.csv\")\n",
    "submission[\"Target\"] = y_pred\n",
    "submission[\"Target\"].value_counts()"
   ]
  },
  {
   "cell_type": "code",
   "execution_count": 99,
   "id": "c9f425c7-3dde-4113-8557-f6a88af9bedf",
   "metadata": {},
   "outputs": [],
   "source": [
    "submission.to_csv('Submissions\\\\logistic_regression.csv', index=False)"
   ]
  },
  {
   "cell_type": "markdown",
   "id": "f71839d4-879f-4d82-b399-2ea88074e9ea",
   "metadata": {},
   "source": [
    "The score in Zindi using AUC metric was : `0.600412715`"
   ]
  },
  {
   "cell_type": "markdown",
   "id": "65a7848c-6f16-4a28-8845-1c9f58478181",
   "metadata": {
    "tags": []
   },
   "source": [
    "### Using K-Nearest Neighbour\n",
    "- Grid Search\n",
    "- Fit the model\n",
    "- Predict Target Value"
   ]
  },
  {
   "cell_type": "code",
   "execution_count": 100,
   "id": "7e16e1e7-d564-4709-8633-81d258b1265b",
   "metadata": {},
   "outputs": [],
   "source": [
    "parameters = {'n_neighbors':range(1, 50), \n",
    "              'weights':['distance', 'uniform']}\n",
    "grid_search = GridSearchCV(estimator = KNeighborsClassifier(), \n",
    "                           param_grid = parameters, \n",
    "                           scoring = 'roc_auc')"
   ]
  },
  {
   "cell_type": "code",
   "execution_count": 101,
   "id": "a663d3d0-273b-43b9-8de4-8bbacd4dd1b1",
   "metadata": {},
   "outputs": [
    {
     "data": {
      "text/html": [
       "<style>#sk-container-id-2 {color: black;background-color: white;}#sk-container-id-2 pre{padding: 0;}#sk-container-id-2 div.sk-toggleable {background-color: white;}#sk-container-id-2 label.sk-toggleable__label {cursor: pointer;display: block;width: 100%;margin-bottom: 0;padding: 0.3em;box-sizing: border-box;text-align: center;}#sk-container-id-2 label.sk-toggleable__label-arrow:before {content: \"▸\";float: left;margin-right: 0.25em;color: #696969;}#sk-container-id-2 label.sk-toggleable__label-arrow:hover:before {color: black;}#sk-container-id-2 div.sk-estimator:hover label.sk-toggleable__label-arrow:before {color: black;}#sk-container-id-2 div.sk-toggleable__content {max-height: 0;max-width: 0;overflow: hidden;text-align: left;background-color: #f0f8ff;}#sk-container-id-2 div.sk-toggleable__content pre {margin: 0.2em;color: black;border-radius: 0.25em;background-color: #f0f8ff;}#sk-container-id-2 input.sk-toggleable__control:checked~div.sk-toggleable__content {max-height: 200px;max-width: 100%;overflow: auto;}#sk-container-id-2 input.sk-toggleable__control:checked~label.sk-toggleable__label-arrow:before {content: \"▾\";}#sk-container-id-2 div.sk-estimator input.sk-toggleable__control:checked~label.sk-toggleable__label {background-color: #d4ebff;}#sk-container-id-2 div.sk-label input.sk-toggleable__control:checked~label.sk-toggleable__label {background-color: #d4ebff;}#sk-container-id-2 input.sk-hidden--visually {border: 0;clip: rect(1px 1px 1px 1px);clip: rect(1px, 1px, 1px, 1px);height: 1px;margin: -1px;overflow: hidden;padding: 0;position: absolute;width: 1px;}#sk-container-id-2 div.sk-estimator {font-family: monospace;background-color: #f0f8ff;border: 1px dotted black;border-radius: 0.25em;box-sizing: border-box;margin-bottom: 0.5em;}#sk-container-id-2 div.sk-estimator:hover {background-color: #d4ebff;}#sk-container-id-2 div.sk-parallel-item::after {content: \"\";width: 100%;border-bottom: 1px solid gray;flex-grow: 1;}#sk-container-id-2 div.sk-label:hover label.sk-toggleable__label {background-color: #d4ebff;}#sk-container-id-2 div.sk-serial::before {content: \"\";position: absolute;border-left: 1px solid gray;box-sizing: border-box;top: 0;bottom: 0;left: 50%;z-index: 0;}#sk-container-id-2 div.sk-serial {display: flex;flex-direction: column;align-items: center;background-color: white;padding-right: 0.2em;padding-left: 0.2em;position: relative;}#sk-container-id-2 div.sk-item {position: relative;z-index: 1;}#sk-container-id-2 div.sk-parallel {display: flex;align-items: stretch;justify-content: center;background-color: white;position: relative;}#sk-container-id-2 div.sk-item::before, #sk-container-id-2 div.sk-parallel-item::before {content: \"\";position: absolute;border-left: 1px solid gray;box-sizing: border-box;top: 0;bottom: 0;left: 50%;z-index: -1;}#sk-container-id-2 div.sk-parallel-item {display: flex;flex-direction: column;z-index: 1;position: relative;background-color: white;}#sk-container-id-2 div.sk-parallel-item:first-child::after {align-self: flex-end;width: 50%;}#sk-container-id-2 div.sk-parallel-item:last-child::after {align-self: flex-start;width: 50%;}#sk-container-id-2 div.sk-parallel-item:only-child::after {width: 0;}#sk-container-id-2 div.sk-dashed-wrapped {border: 1px dashed gray;margin: 0 0.4em 0.5em 0.4em;box-sizing: border-box;padding-bottom: 0.4em;background-color: white;}#sk-container-id-2 div.sk-label label {font-family: monospace;font-weight: bold;display: inline-block;line-height: 1.2em;}#sk-container-id-2 div.sk-label-container {text-align: center;}#sk-container-id-2 div.sk-container {/* jupyter's `normalize.less` sets `[hidden] { display: none; }` but bootstrap.min.css set `[hidden] { display: none !important; }` so we also need the `!important` here to be able to override the default hidden behavior on the sphinx rendered scikit-learn.org. See: https://github.com/scikit-learn/scikit-learn/issues/21755 */display: inline-block !important;position: relative;}#sk-container-id-2 div.sk-text-repr-fallback {display: none;}</style><div id=\"sk-container-id-2\" class=\"sk-top-container\"><div class=\"sk-text-repr-fallback\"><pre>GridSearchCV(estimator=KNeighborsClassifier(),\n",
       "             param_grid={&#x27;n_neighbors&#x27;: range(1, 50),\n",
       "                         &#x27;weights&#x27;: [&#x27;distance&#x27;, &#x27;uniform&#x27;]},\n",
       "             scoring=&#x27;roc_auc&#x27;)</pre><b>In a Jupyter environment, please rerun this cell to show the HTML representation or trust the notebook. <br />On GitHub, the HTML representation is unable to render, please try loading this page with nbviewer.org.</b></div><div class=\"sk-container\" hidden><div class=\"sk-item sk-dashed-wrapped\"><div class=\"sk-label-container\"><div class=\"sk-label sk-toggleable\"><input class=\"sk-toggleable__control sk-hidden--visually\" id=\"sk-estimator-id-2\" type=\"checkbox\" ><label for=\"sk-estimator-id-2\" class=\"sk-toggleable__label sk-toggleable__label-arrow\">GridSearchCV</label><div class=\"sk-toggleable__content\"><pre>GridSearchCV(estimator=KNeighborsClassifier(),\n",
       "             param_grid={&#x27;n_neighbors&#x27;: range(1, 50),\n",
       "                         &#x27;weights&#x27;: [&#x27;distance&#x27;, &#x27;uniform&#x27;]},\n",
       "             scoring=&#x27;roc_auc&#x27;)</pre></div></div></div><div class=\"sk-parallel\"><div class=\"sk-parallel-item\"><div class=\"sk-item\"><div class=\"sk-label-container\"><div class=\"sk-label sk-toggleable\"><input class=\"sk-toggleable__control sk-hidden--visually\" id=\"sk-estimator-id-3\" type=\"checkbox\" ><label for=\"sk-estimator-id-3\" class=\"sk-toggleable__label sk-toggleable__label-arrow\">estimator: KNeighborsClassifier</label><div class=\"sk-toggleable__content\"><pre>KNeighborsClassifier()</pre></div></div></div><div class=\"sk-serial\"><div class=\"sk-item\"><div class=\"sk-estimator sk-toggleable\"><input class=\"sk-toggleable__control sk-hidden--visually\" id=\"sk-estimator-id-4\" type=\"checkbox\" ><label for=\"sk-estimator-id-4\" class=\"sk-toggleable__label sk-toggleable__label-arrow\">KNeighborsClassifier</label><div class=\"sk-toggleable__content\"><pre>KNeighborsClassifier()</pre></div></div></div></div></div></div></div></div></div></div>"
      ],
      "text/plain": [
       "GridSearchCV(estimator=KNeighborsClassifier(),\n",
       "             param_grid={'n_neighbors': range(1, 50),\n",
       "                         'weights': ['distance', 'uniform']},\n",
       "             scoring='roc_auc')"
      ]
     },
     "execution_count": 101,
     "metadata": {},
     "output_type": "execute_result"
    }
   ],
   "source": [
    "grid_search.fit(X, y)"
   ]
  },
  {
   "cell_type": "code",
   "execution_count": 102,
   "id": "b81ae9f2-fbf4-49f0-b3bb-8282112cd4cb",
   "metadata": {},
   "outputs": [
    {
     "data": {
      "text/plain": [
       "{'n_neighbors': 45, 'weights': 'uniform'}"
      ]
     },
     "execution_count": 102,
     "metadata": {},
     "output_type": "execute_result"
    }
   ],
   "source": [
    "grid_search.best_params_"
   ]
  },
  {
   "cell_type": "code",
   "execution_count": 103,
   "id": "3af7e0be-520f-4ff5-9576-7ce28e098c6c",
   "metadata": {},
   "outputs": [],
   "source": [
    "knn_model = grid_search.best_estimator_"
   ]
  },
  {
   "cell_type": "code",
   "execution_count": 104,
   "id": "77927193-e68c-4db0-9905-a11babb92510",
   "metadata": {},
   "outputs": [],
   "source": [
    "y_pred1 = knn_model.predict(test)"
   ]
  },
  {
   "cell_type": "code",
   "execution_count": 105,
   "id": "9f17e1b4-36d4-4ad5-bdd1-12d5272169f9",
   "metadata": {},
   "outputs": [
    {
     "data": {
      "text/plain": [
       "0    764\n",
       "1      3\n",
       "Name: Target, dtype: int64"
      ]
     },
     "execution_count": 105,
     "metadata": {},
     "output_type": "execute_result"
    }
   ],
   "source": [
    "submission1 = pd.read_csv(\"SampleSubmission.csv\")\n",
    "submission1[\"Target\"] = y_pred1\n",
    "submission1[\"Target\"].value_counts()"
   ]
  },
  {
   "cell_type": "code",
   "execution_count": 106,
   "id": "872bb0d3-34b8-40e5-bb49-3dc2f53aca97",
   "metadata": {},
   "outputs": [],
   "source": [
    "submission1.to_csv('Submissions\\\\knn.csv', index=False)"
   ]
  },
  {
   "cell_type": "markdown",
   "id": "20466096-ce48-4cdd-961f-836176524654",
   "metadata": {},
   "source": [
    "The score in Zindi using AUC metric was : `0.505780939`"
   ]
  },
  {
   "cell_type": "markdown",
   "id": "49a01071-9d6e-4cd9-b719-065e3b0f9f69",
   "metadata": {
    "tags": []
   },
   "source": [
    "### Using Random Forest\n",
    "- Grid Search\n",
    "- Fit the model\n",
    "- Predict Target Value"
   ]
  },
  {
   "cell_type": "code",
   "execution_count": 107,
   "id": "94c5bae3-fd73-48b1-a36d-10782e89e9b6",
   "metadata": {},
   "outputs": [],
   "source": [
    "parameters = {'n_estimators':[100, 150, 200, 250, 300, 350], \n",
    "              'ccp_alpha':[0.1, 0.01, 0.001, 0.0001, 0.00001]}\n",
    "grid_search = GridSearchCV(estimator = RandomForestClassifier(), \n",
    "                           param_grid = parameters, \n",
    "                           scoring = 'roc_auc')"
   ]
  },
  {
   "cell_type": "code",
   "execution_count": 108,
   "id": "7679d238-a23e-4b7f-912a-1e591f228031",
   "metadata": {},
   "outputs": [
    {
     "data": {
      "text/html": [
       "<style>#sk-container-id-3 {color: black;background-color: white;}#sk-container-id-3 pre{padding: 0;}#sk-container-id-3 div.sk-toggleable {background-color: white;}#sk-container-id-3 label.sk-toggleable__label {cursor: pointer;display: block;width: 100%;margin-bottom: 0;padding: 0.3em;box-sizing: border-box;text-align: center;}#sk-container-id-3 label.sk-toggleable__label-arrow:before {content: \"▸\";float: left;margin-right: 0.25em;color: #696969;}#sk-container-id-3 label.sk-toggleable__label-arrow:hover:before {color: black;}#sk-container-id-3 div.sk-estimator:hover label.sk-toggleable__label-arrow:before {color: black;}#sk-container-id-3 div.sk-toggleable__content {max-height: 0;max-width: 0;overflow: hidden;text-align: left;background-color: #f0f8ff;}#sk-container-id-3 div.sk-toggleable__content pre {margin: 0.2em;color: black;border-radius: 0.25em;background-color: #f0f8ff;}#sk-container-id-3 input.sk-toggleable__control:checked~div.sk-toggleable__content {max-height: 200px;max-width: 100%;overflow: auto;}#sk-container-id-3 input.sk-toggleable__control:checked~label.sk-toggleable__label-arrow:before {content: \"▾\";}#sk-container-id-3 div.sk-estimator input.sk-toggleable__control:checked~label.sk-toggleable__label {background-color: #d4ebff;}#sk-container-id-3 div.sk-label input.sk-toggleable__control:checked~label.sk-toggleable__label {background-color: #d4ebff;}#sk-container-id-3 input.sk-hidden--visually {border: 0;clip: rect(1px 1px 1px 1px);clip: rect(1px, 1px, 1px, 1px);height: 1px;margin: -1px;overflow: hidden;padding: 0;position: absolute;width: 1px;}#sk-container-id-3 div.sk-estimator {font-family: monospace;background-color: #f0f8ff;border: 1px dotted black;border-radius: 0.25em;box-sizing: border-box;margin-bottom: 0.5em;}#sk-container-id-3 div.sk-estimator:hover {background-color: #d4ebff;}#sk-container-id-3 div.sk-parallel-item::after {content: \"\";width: 100%;border-bottom: 1px solid gray;flex-grow: 1;}#sk-container-id-3 div.sk-label:hover label.sk-toggleable__label {background-color: #d4ebff;}#sk-container-id-3 div.sk-serial::before {content: \"\";position: absolute;border-left: 1px solid gray;box-sizing: border-box;top: 0;bottom: 0;left: 50%;z-index: 0;}#sk-container-id-3 div.sk-serial {display: flex;flex-direction: column;align-items: center;background-color: white;padding-right: 0.2em;padding-left: 0.2em;position: relative;}#sk-container-id-3 div.sk-item {position: relative;z-index: 1;}#sk-container-id-3 div.sk-parallel {display: flex;align-items: stretch;justify-content: center;background-color: white;position: relative;}#sk-container-id-3 div.sk-item::before, #sk-container-id-3 div.sk-parallel-item::before {content: \"\";position: absolute;border-left: 1px solid gray;box-sizing: border-box;top: 0;bottom: 0;left: 50%;z-index: -1;}#sk-container-id-3 div.sk-parallel-item {display: flex;flex-direction: column;z-index: 1;position: relative;background-color: white;}#sk-container-id-3 div.sk-parallel-item:first-child::after {align-self: flex-end;width: 50%;}#sk-container-id-3 div.sk-parallel-item:last-child::after {align-self: flex-start;width: 50%;}#sk-container-id-3 div.sk-parallel-item:only-child::after {width: 0;}#sk-container-id-3 div.sk-dashed-wrapped {border: 1px dashed gray;margin: 0 0.4em 0.5em 0.4em;box-sizing: border-box;padding-bottom: 0.4em;background-color: white;}#sk-container-id-3 div.sk-label label {font-family: monospace;font-weight: bold;display: inline-block;line-height: 1.2em;}#sk-container-id-3 div.sk-label-container {text-align: center;}#sk-container-id-3 div.sk-container {/* jupyter's `normalize.less` sets `[hidden] { display: none; }` but bootstrap.min.css set `[hidden] { display: none !important; }` so we also need the `!important` here to be able to override the default hidden behavior on the sphinx rendered scikit-learn.org. See: https://github.com/scikit-learn/scikit-learn/issues/21755 */display: inline-block !important;position: relative;}#sk-container-id-3 div.sk-text-repr-fallback {display: none;}</style><div id=\"sk-container-id-3\" class=\"sk-top-container\"><div class=\"sk-text-repr-fallback\"><pre>GridSearchCV(estimator=RandomForestClassifier(),\n",
       "             param_grid={&#x27;ccp_alpha&#x27;: [0.1, 0.01, 0.001, 0.0001, 1e-05],\n",
       "                         &#x27;n_estimators&#x27;: [100, 150, 200, 250, 300, 350]},\n",
       "             scoring=&#x27;roc_auc&#x27;)</pre><b>In a Jupyter environment, please rerun this cell to show the HTML representation or trust the notebook. <br />On GitHub, the HTML representation is unable to render, please try loading this page with nbviewer.org.</b></div><div class=\"sk-container\" hidden><div class=\"sk-item sk-dashed-wrapped\"><div class=\"sk-label-container\"><div class=\"sk-label sk-toggleable\"><input class=\"sk-toggleable__control sk-hidden--visually\" id=\"sk-estimator-id-5\" type=\"checkbox\" ><label for=\"sk-estimator-id-5\" class=\"sk-toggleable__label sk-toggleable__label-arrow\">GridSearchCV</label><div class=\"sk-toggleable__content\"><pre>GridSearchCV(estimator=RandomForestClassifier(),\n",
       "             param_grid={&#x27;ccp_alpha&#x27;: [0.1, 0.01, 0.001, 0.0001, 1e-05],\n",
       "                         &#x27;n_estimators&#x27;: [100, 150, 200, 250, 300, 350]},\n",
       "             scoring=&#x27;roc_auc&#x27;)</pre></div></div></div><div class=\"sk-parallel\"><div class=\"sk-parallel-item\"><div class=\"sk-item\"><div class=\"sk-label-container\"><div class=\"sk-label sk-toggleable\"><input class=\"sk-toggleable__control sk-hidden--visually\" id=\"sk-estimator-id-6\" type=\"checkbox\" ><label for=\"sk-estimator-id-6\" class=\"sk-toggleable__label sk-toggleable__label-arrow\">estimator: RandomForestClassifier</label><div class=\"sk-toggleable__content\"><pre>RandomForestClassifier()</pre></div></div></div><div class=\"sk-serial\"><div class=\"sk-item\"><div class=\"sk-estimator sk-toggleable\"><input class=\"sk-toggleable__control sk-hidden--visually\" id=\"sk-estimator-id-7\" type=\"checkbox\" ><label for=\"sk-estimator-id-7\" class=\"sk-toggleable__label sk-toggleable__label-arrow\">RandomForestClassifier</label><div class=\"sk-toggleable__content\"><pre>RandomForestClassifier()</pre></div></div></div></div></div></div></div></div></div></div>"
      ],
      "text/plain": [
       "GridSearchCV(estimator=RandomForestClassifier(),\n",
       "             param_grid={'ccp_alpha': [0.1, 0.01, 0.001, 0.0001, 1e-05],\n",
       "                         'n_estimators': [100, 150, 200, 250, 300, 350]},\n",
       "             scoring='roc_auc')"
      ]
     },
     "execution_count": 108,
     "metadata": {},
     "output_type": "execute_result"
    }
   ],
   "source": [
    "grid_search.fit(X, y)"
   ]
  },
  {
   "cell_type": "code",
   "execution_count": 109,
   "id": "3d023042-a8ba-41ad-aad1-131bbe433b4a",
   "metadata": {},
   "outputs": [
    {
     "data": {
      "text/plain": [
       "{'ccp_alpha': 0.01, 'n_estimators': 150}"
      ]
     },
     "execution_count": 109,
     "metadata": {},
     "output_type": "execute_result"
    }
   ],
   "source": [
    "grid_search.best_params_"
   ]
  },
  {
   "cell_type": "code",
   "execution_count": 110,
   "id": "d3da13d7-a1a7-4d93-9f92-275e86a4e9c7",
   "metadata": {},
   "outputs": [],
   "source": [
    "random_forrest_model = grid_search.best_estimator_"
   ]
  },
  {
   "cell_type": "code",
   "execution_count": 111,
   "id": "09bb31fd-de6a-4d97-ad91-daab5a6b2843",
   "metadata": {},
   "outputs": [],
   "source": [
    "y_pred2 = random_forrest_model.predict(test)"
   ]
  },
  {
   "cell_type": "code",
   "execution_count": 112,
   "id": "f8945080-b3c8-48a7-840e-3ac44d783103",
   "metadata": {},
   "outputs": [
    {
     "data": {
      "text/plain": [
       "0    767\n",
       "Name: Target, dtype: int64"
      ]
     },
     "execution_count": 112,
     "metadata": {},
     "output_type": "execute_result"
    }
   ],
   "source": [
    "submission2 = pd.read_csv(\"SampleSubmission.csv\")\n",
    "submission2[\"Target\"] = y_pred2\n",
    "submission2[\"Target\"].value_counts()"
   ]
  },
  {
   "cell_type": "code",
   "execution_count": 113,
   "id": "10392d4f-6e20-4ffa-b074-68a7820094e0",
   "metadata": {},
   "outputs": [],
   "source": [
    "submission2.to_csv('Submissions\\\\random_forrest.csv', index=False)"
   ]
  },
  {
   "cell_type": "markdown",
   "id": "b6a8d370-0857-4d5c-87c3-c953a4e6886c",
   "metadata": {},
   "source": [
    "The score in Zindi using AUC metric was : `0.503424657`"
   ]
  },
  {
   "cell_type": "markdown",
   "id": "e98de5fa-9940-4601-bb47-0f8172f8bb75",
   "metadata": {
    "tags": []
   },
   "source": [
    "### Using LightGBM\n",
    "- Fit the model\n",
    "- Predict Target Value"
   ]
  },
  {
   "cell_type": "code",
   "execution_count": 114,
   "id": "33e1bf90-31a2-4cb6-88f6-4034c5998859",
   "metadata": {},
   "outputs": [
    {
     "data": {
      "text/html": [
       "<style>#sk-container-id-4 {color: black;background-color: white;}#sk-container-id-4 pre{padding: 0;}#sk-container-id-4 div.sk-toggleable {background-color: white;}#sk-container-id-4 label.sk-toggleable__label {cursor: pointer;display: block;width: 100%;margin-bottom: 0;padding: 0.3em;box-sizing: border-box;text-align: center;}#sk-container-id-4 label.sk-toggleable__label-arrow:before {content: \"▸\";float: left;margin-right: 0.25em;color: #696969;}#sk-container-id-4 label.sk-toggleable__label-arrow:hover:before {color: black;}#sk-container-id-4 div.sk-estimator:hover label.sk-toggleable__label-arrow:before {color: black;}#sk-container-id-4 div.sk-toggleable__content {max-height: 0;max-width: 0;overflow: hidden;text-align: left;background-color: #f0f8ff;}#sk-container-id-4 div.sk-toggleable__content pre {margin: 0.2em;color: black;border-radius: 0.25em;background-color: #f0f8ff;}#sk-container-id-4 input.sk-toggleable__control:checked~div.sk-toggleable__content {max-height: 200px;max-width: 100%;overflow: auto;}#sk-container-id-4 input.sk-toggleable__control:checked~label.sk-toggleable__label-arrow:before {content: \"▾\";}#sk-container-id-4 div.sk-estimator input.sk-toggleable__control:checked~label.sk-toggleable__label {background-color: #d4ebff;}#sk-container-id-4 div.sk-label input.sk-toggleable__control:checked~label.sk-toggleable__label {background-color: #d4ebff;}#sk-container-id-4 input.sk-hidden--visually {border: 0;clip: rect(1px 1px 1px 1px);clip: rect(1px, 1px, 1px, 1px);height: 1px;margin: -1px;overflow: hidden;padding: 0;position: absolute;width: 1px;}#sk-container-id-4 div.sk-estimator {font-family: monospace;background-color: #f0f8ff;border: 1px dotted black;border-radius: 0.25em;box-sizing: border-box;margin-bottom: 0.5em;}#sk-container-id-4 div.sk-estimator:hover {background-color: #d4ebff;}#sk-container-id-4 div.sk-parallel-item::after {content: \"\";width: 100%;border-bottom: 1px solid gray;flex-grow: 1;}#sk-container-id-4 div.sk-label:hover label.sk-toggleable__label {background-color: #d4ebff;}#sk-container-id-4 div.sk-serial::before {content: \"\";position: absolute;border-left: 1px solid gray;box-sizing: border-box;top: 0;bottom: 0;left: 50%;z-index: 0;}#sk-container-id-4 div.sk-serial {display: flex;flex-direction: column;align-items: center;background-color: white;padding-right: 0.2em;padding-left: 0.2em;position: relative;}#sk-container-id-4 div.sk-item {position: relative;z-index: 1;}#sk-container-id-4 div.sk-parallel {display: flex;align-items: stretch;justify-content: center;background-color: white;position: relative;}#sk-container-id-4 div.sk-item::before, #sk-container-id-4 div.sk-parallel-item::before {content: \"\";position: absolute;border-left: 1px solid gray;box-sizing: border-box;top: 0;bottom: 0;left: 50%;z-index: -1;}#sk-container-id-4 div.sk-parallel-item {display: flex;flex-direction: column;z-index: 1;position: relative;background-color: white;}#sk-container-id-4 div.sk-parallel-item:first-child::after {align-self: flex-end;width: 50%;}#sk-container-id-4 div.sk-parallel-item:last-child::after {align-self: flex-start;width: 50%;}#sk-container-id-4 div.sk-parallel-item:only-child::after {width: 0;}#sk-container-id-4 div.sk-dashed-wrapped {border: 1px dashed gray;margin: 0 0.4em 0.5em 0.4em;box-sizing: border-box;padding-bottom: 0.4em;background-color: white;}#sk-container-id-4 div.sk-label label {font-family: monospace;font-weight: bold;display: inline-block;line-height: 1.2em;}#sk-container-id-4 div.sk-label-container {text-align: center;}#sk-container-id-4 div.sk-container {/* jupyter's `normalize.less` sets `[hidden] { display: none; }` but bootstrap.min.css set `[hidden] { display: none !important; }` so we also need the `!important` here to be able to override the default hidden behavior on the sphinx rendered scikit-learn.org. See: https://github.com/scikit-learn/scikit-learn/issues/21755 */display: inline-block !important;position: relative;}#sk-container-id-4 div.sk-text-repr-fallback {display: none;}</style><div id=\"sk-container-id-4\" class=\"sk-top-container\"><div class=\"sk-text-repr-fallback\"><pre>LGBMClassifier(max_depth=2, random_state=42)</pre><b>In a Jupyter environment, please rerun this cell to show the HTML representation or trust the notebook. <br />On GitHub, the HTML representation is unable to render, please try loading this page with nbviewer.org.</b></div><div class=\"sk-container\" hidden><div class=\"sk-item\"><div class=\"sk-estimator sk-toggleable\"><input class=\"sk-toggleable__control sk-hidden--visually\" id=\"sk-estimator-id-8\" type=\"checkbox\" checked><label for=\"sk-estimator-id-8\" class=\"sk-toggleable__label sk-toggleable__label-arrow\">LGBMClassifier</label><div class=\"sk-toggleable__content\"><pre>LGBMClassifier(max_depth=2, random_state=42)</pre></div></div></div></div></div>"
      ],
      "text/plain": [
       "LGBMClassifier(max_depth=2, random_state=42)"
      ]
     },
     "execution_count": 114,
     "metadata": {},
     "output_type": "execute_result"
    }
   ],
   "source": [
    "lgbm_model = LGBMClassifier(n_estimators=100, max_depth=2, random_state=42, n_jobs=-1, learning_rate=0.1)\n",
    "lgbm_model.fit(X, y)"
   ]
  },
  {
   "cell_type": "code",
   "execution_count": 115,
   "id": "c3a7f788-dbc6-4670-82e6-64e47c097c2f",
   "metadata": {},
   "outputs": [],
   "source": [
    "y_pred3 = lgbm_model.predict(test)"
   ]
  },
  {
   "cell_type": "code",
   "execution_count": 116,
   "id": "04be6190-8a41-4c18-b241-5188f2db26ec",
   "metadata": {},
   "outputs": [
    {
     "data": {
      "text/plain": [
       "0    637\n",
       "1    130\n",
       "Name: Target, dtype: int64"
      ]
     },
     "execution_count": 116,
     "metadata": {},
     "output_type": "execute_result"
    }
   ],
   "source": [
    "submission3 = pd.read_csv(\"SampleSubmission.csv\")\n",
    "submission3[\"Target\"] = y_pred3\n",
    "submission3[\"Target\"].value_counts()"
   ]
  },
  {
   "cell_type": "code",
   "execution_count": 117,
   "id": "00d0c6c8-9546-401e-9efd-a8e6f4122743",
   "metadata": {},
   "outputs": [],
   "source": [
    "submission3.to_csv('Submissions\\\\lgbm.csv', index=False)"
   ]
  },
  {
   "cell_type": "markdown",
   "id": "3c8331c6-810b-4f89-8d7d-22660460dc75",
   "metadata": {},
   "source": [
    "The score in Zindi using AUC metric was : `0.643294110`"
   ]
  }
 ],
 "metadata": {
  "kernelspec": {
   "display_name": "Python 3 (ipykernel)",
   "language": "python",
   "name": "python3"
  },
  "language_info": {
   "codemirror_mode": {
    "name": "ipython",
    "version": 3
   },
   "file_extension": ".py",
   "mimetype": "text/x-python",
   "name": "python",
   "nbconvert_exporter": "python",
   "pygments_lexer": "ipython3",
   "version": "3.9.7"
  }
 },
 "nbformat": 4,
 "nbformat_minor": 5
}
